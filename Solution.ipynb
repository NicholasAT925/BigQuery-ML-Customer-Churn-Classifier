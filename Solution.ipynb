{
 "cells": [
  {
   "cell_type": "markdown",
   "id": "39d24a6a",
   "metadata": {},
   "source": [
    "# Deploy a BigQuery ML user churn propensity model to Vertex AI for online predictions"
   ]
  },
  {
   "cell_type": "markdown",
   "id": "c97e1100",
   "metadata": {},
   "source": [
    "## Learning objectives"
   ]
  },
  {
   "cell_type": "markdown",
   "id": "a426ddad",
   "metadata": {},
   "source": [
    "* Explore and preprocess a [Google Analytics 4](https://support.google.com/analytics/answer/7029846) data sample in [BigQuery](https://cloud.google.com/bigquery) for machine learning.  \n",
    "* Train a [BigQuery ML (BQML)](https://cloud.google.com/bigquery-ml) [XGBoost](https://xgboost.readthedocs.io/en/latest/) classifier to predict user churn on a mobile gaming application.\n",
    "* Tune a BQML XGBoost classifier using [BQML hyperparameter tuning features](https://cloud.google.com/bigquery-ml/docs/reference/standard-sql/bigqueryml-syntax-create-boosted-tree).\n",
    "* Evaluate the performance of a BQML XGBoost classifier.\n",
    "* Explain your XGBoost model with [BQML Explainable AI](https://cloud.google.com/bigquery-ml/docs/reference/standard-sql/bigqueryml-syntax-xai-overview) global feature attributions.\n",
    "* Generate batch predictions with your BQML XGBoost model.\n",
    "* Export a BQML XGBoost model to a [Google Cloud Storage](https://cloud.google.com/storage).\n",
    "* Upload and deploy a BQML XGBoost model to a [Vertex AI Prediction](https://cloud.google.com/vertex-ai/docs/predictions/getting-predictions) Endpoint for online predictions."
   ]
  },
  {
   "cell_type": "markdown",
   "id": "32a258db",
   "metadata": {},
   "source": [
    "## Introduction"
   ]
  },
  {
   "cell_type": "markdown",
   "id": "5d8d5372",
   "metadata": {},
   "source": [
    "In this lab, you will train, evaluate, explain, and generate batch and online predictions with a BigQuery ML (BQML) XGBoost model. You will use a Google Analytics 4 dataset from a real mobile application, Flood it! ([Android app](https://play.google.com/store/apps/details?id=com.labpixies.flood), [iOS app](https://itunes.apple.com/us/app/flood-it!/id476943146?mt=8)), to determine the likelihood of users returning to the application. You will generate batch predictions with your BigQuery ML model as well as export and deploy it to **Vertex AI** for online predictions.\n",
    "\n",
    "[BigQuery ML](https://cloud.google.com/bigquery-ml/docs/introduction) lets you train and do batch inference with machine learning models in BigQuery using standard SQL queries faster by eliminating the need to move data with fewer lines of code. [Vertex AI](https://cloud.google.com/vertex-ai) is Google Cloud's complimentary next generation, unified platform for machine learning development. By developing and deploying BQML machine learning solutions on Vertex AI, you can leverage a scalable online prediction service and MLOps tools for model retraining and monitoring to significantly enhance your development productivity, the ability to scale your workflow and decision making with your data, and accelerate time to value.\n",
    "\n",
    "![BQML Vertex AI](./images/vertex-bqml-lab-architecture-diagram.png \"Vertex BQML Lab Architecture Diagram\")\n",
    "\n",
    "Note: this lab is inspired by and extends [Churn prediction for game developers using Google Analytics 4 (GA4) and BigQuery ML](https://cloud.google.com/blog/topics/developers-practitioners/churn-prediction-game-developers-using-google-analytics-4-ga4-and-bigquery-ml). See that blog post and accompanying tutorial for additional depth on this use case and BigQuery ML. In this lab, you will go one step further and focus on how Vertex AI extends BQML's capabilities through online prediction so you can incorporate both customer churn predictions into decision making UIs such as [Looker dashboards](https://looker.com/google-cloud) but also online predictions directly into customer applications to power targeted interventions such as targeted incentives."
   ]
  },
  {
   "cell_type": "markdown",
   "id": "bce45947",
   "metadata": {},
   "source": [
    "### Use case: user churn propensity modeling in the mobile gaming industry"
   ]
  },
  {
   "cell_type": "markdown",
   "id": "14102f4b",
   "metadata": {},
   "source": [
    "According to a [2019 study](https://gameanalytics.com/reports/mobile-gaming-industry-analysis-h1-2019) on 100K mobile games by the Mobile Gaming Industry Analysis, most mobile games only see a 25% retention rate for users after the first 24 hours, known and any game \"below 30% retention generally needs improvement\". For mobile game developers, improving user retention is critical to revenue stability and increasing profitability. In fact, [Bain & Company research](https://hbr.org/2014/10/the-value-of-keeping-the-right-customers) found that 5% growth in retention rate can result in a 25-95% increase in profits. With lower costs to retain existing customers, the business objective for game developers is clear: reduce churn and improve customer loyalty to drive long-term profitability.\n",
    "\n",
    "Your task in this lab: use machine learning to predict user churn propensity after day 1, a crucial user onboarding window, and serve these online predictions to inform interventions such as targeted in-game rewards and notifications."
   ]
  },
  {
   "cell_type": "markdown",
   "id": "4963f56a",
   "metadata": {},
   "source": [
    "## Setup"
   ]
  },
  {
   "cell_type": "code",
   "execution_count": 1,
   "id": "35ce5269-6546-4e54-809b-8fa6e29471dc",
   "metadata": {
    "tags": []
   },
   "outputs": [
    {
     "name": "stdout",
     "output_type": "stream",
     "text": [
      "Requirement already satisfied: google-cloud-aiplatform in /opt/conda/lib/python3.10/site-packages (1.86.0)\n",
      "Requirement already satisfied: google-api-core!=2.0.*,!=2.1.*,!=2.2.*,!=2.3.*,!=2.4.*,!=2.5.*,!=2.6.*,!=2.7.*,<3.0.0,>=1.34.1 in /opt/conda/lib/python3.10/site-packages (from google-api-core[grpc]!=2.0.*,!=2.1.*,!=2.2.*,!=2.3.*,!=2.4.*,!=2.5.*,!=2.6.*,!=2.7.*,<3.0.0,>=1.34.1->google-cloud-aiplatform) (2.24.2)\n",
      "Requirement already satisfied: google-auth<3.0.0,>=2.14.1 in /opt/conda/lib/python3.10/site-packages (from google-cloud-aiplatform) (2.38.0)\n",
      "Requirement already satisfied: proto-plus<2.0.0,>=1.22.3 in /opt/conda/lib/python3.10/site-packages (from google-cloud-aiplatform) (1.26.1)\n",
      "Requirement already satisfied: protobuf!=4.21.0,!=4.21.1,!=4.21.2,!=4.21.3,!=4.21.4,!=4.21.5,<6.0.0,>=3.20.2 in /opt/conda/lib/python3.10/site-packages (from google-cloud-aiplatform) (3.20.3)\n",
      "Requirement already satisfied: packaging>=14.3 in /opt/conda/lib/python3.10/site-packages (from google-cloud-aiplatform) (24.2)\n",
      "Requirement already satisfied: google-cloud-storage<3.0.0,>=1.32.0 in /opt/conda/lib/python3.10/site-packages (from google-cloud-aiplatform) (2.19.0)\n",
      "Requirement already satisfied: google-cloud-bigquery!=3.20.0,<4.0.0,>=1.15.0 in /opt/conda/lib/python3.10/site-packages (from google-cloud-aiplatform) (3.31.0)\n",
      "Requirement already satisfied: google-cloud-resource-manager<3.0.0,>=1.3.3 in /opt/conda/lib/python3.10/site-packages (from google-cloud-aiplatform) (1.14.2)\n",
      "Requirement already satisfied: shapely<3.0.0 in /opt/conda/lib/python3.10/site-packages (from google-cloud-aiplatform) (2.0.7)\n",
      "Requirement already satisfied: pydantic<3 in /opt/conda/lib/python3.10/site-packages (from google-cloud-aiplatform) (2.11.0)\n",
      "Requirement already satisfied: typing-extensions in /opt/conda/lib/python3.10/site-packages (from google-cloud-aiplatform) (4.13.0)\n",
      "Requirement already satisfied: docstring-parser<1 in /opt/conda/lib/python3.10/site-packages (from google-cloud-aiplatform) (0.16)\n",
      "Requirement already satisfied: googleapis-common-protos<2.0.0,>=1.56.2 in /opt/conda/lib/python3.10/site-packages (from google-api-core!=2.0.*,!=2.1.*,!=2.2.*,!=2.3.*,!=2.4.*,!=2.5.*,!=2.6.*,!=2.7.*,<3.0.0,>=1.34.1->google-api-core[grpc]!=2.0.*,!=2.1.*,!=2.2.*,!=2.3.*,!=2.4.*,!=2.5.*,!=2.6.*,!=2.7.*,<3.0.0,>=1.34.1->google-cloud-aiplatform) (1.69.2)\n",
      "Requirement already satisfied: requests<3.0.0,>=2.18.0 in /opt/conda/lib/python3.10/site-packages (from google-api-core!=2.0.*,!=2.1.*,!=2.2.*,!=2.3.*,!=2.4.*,!=2.5.*,!=2.6.*,!=2.7.*,<3.0.0,>=1.34.1->google-api-core[grpc]!=2.0.*,!=2.1.*,!=2.2.*,!=2.3.*,!=2.4.*,!=2.5.*,!=2.6.*,!=2.7.*,<3.0.0,>=1.34.1->google-cloud-aiplatform) (2.32.3)\n",
      "Requirement already satisfied: grpcio<2.0dev,>=1.33.2 in /opt/conda/lib/python3.10/site-packages (from google-api-core[grpc]!=2.0.*,!=2.1.*,!=2.2.*,!=2.3.*,!=2.4.*,!=2.5.*,!=2.6.*,!=2.7.*,<3.0.0,>=1.34.1->google-cloud-aiplatform) (1.71.0)\n",
      "Requirement already satisfied: grpcio-status<2.0.dev0,>=1.33.2 in /opt/conda/lib/python3.10/site-packages (from google-api-core[grpc]!=2.0.*,!=2.1.*,!=2.2.*,!=2.3.*,!=2.4.*,!=2.5.*,!=2.6.*,!=2.7.*,<3.0.0,>=1.34.1->google-cloud-aiplatform) (1.49.0rc1)\n",
      "Requirement already satisfied: cachetools<6.0,>=2.0.0 in /opt/conda/lib/python3.10/site-packages (from google-auth<3.0.0,>=2.14.1->google-cloud-aiplatform) (5.5.2)\n",
      "Requirement already satisfied: pyasn1-modules>=0.2.1 in /opt/conda/lib/python3.10/site-packages (from google-auth<3.0.0,>=2.14.1->google-cloud-aiplatform) (0.4.2)\n",
      "Requirement already satisfied: rsa<5,>=3.1.4 in /opt/conda/lib/python3.10/site-packages (from google-auth<3.0.0,>=2.14.1->google-cloud-aiplatform) (4.9)\n",
      "Requirement already satisfied: google-cloud-core<3.0.0,>=2.4.1 in /opt/conda/lib/python3.10/site-packages (from google-cloud-bigquery!=3.20.0,<4.0.0,>=1.15.0->google-cloud-aiplatform) (2.4.3)\n",
      "Requirement already satisfied: google-resumable-media<3.0.0,>=2.0.0 in /opt/conda/lib/python3.10/site-packages (from google-cloud-bigquery!=3.20.0,<4.0.0,>=1.15.0->google-cloud-aiplatform) (2.7.2)\n",
      "Requirement already satisfied: python-dateutil<3.0.0,>=2.8.2 in /opt/conda/lib/python3.10/site-packages (from google-cloud-bigquery!=3.20.0,<4.0.0,>=1.15.0->google-cloud-aiplatform) (2.9.0.post0)\n",
      "Requirement already satisfied: grpc-google-iam-v1<1.0.0,>=0.14.0 in /opt/conda/lib/python3.10/site-packages (from google-cloud-resource-manager<3.0.0,>=1.3.3->google-cloud-aiplatform) (0.14.2)\n",
      "Requirement already satisfied: google-crc32c<2.0dev,>=1.0 in /opt/conda/lib/python3.10/site-packages (from google-cloud-storage<3.0.0,>=1.32.0->google-cloud-aiplatform) (1.7.1)\n",
      "Requirement already satisfied: annotated-types>=0.6.0 in /opt/conda/lib/python3.10/site-packages (from pydantic<3->google-cloud-aiplatform) (0.7.0)\n",
      "Requirement already satisfied: pydantic-core==2.33.0 in /opt/conda/lib/python3.10/site-packages (from pydantic<3->google-cloud-aiplatform) (2.33.0)\n",
      "Requirement already satisfied: typing-inspection>=0.4.0 in /opt/conda/lib/python3.10/site-packages (from pydantic<3->google-cloud-aiplatform) (0.4.0)\n",
      "Requirement already satisfied: numpy<3,>=1.14 in /opt/conda/lib/python3.10/site-packages (from shapely<3.0.0->google-cloud-aiplatform) (2.1.3)\n",
      "Requirement already satisfied: pyasn1<0.7.0,>=0.6.1 in /opt/conda/lib/python3.10/site-packages (from pyasn1-modules>=0.2.1->google-auth<3.0.0,>=2.14.1->google-cloud-aiplatform) (0.6.1)\n",
      "Requirement already satisfied: six>=1.5 in /opt/conda/lib/python3.10/site-packages (from python-dateutil<3.0.0,>=2.8.2->google-cloud-bigquery!=3.20.0,<4.0.0,>=1.15.0->google-cloud-aiplatform) (1.17.0)\n",
      "Requirement already satisfied: charset_normalizer<4,>=2 in /opt/conda/lib/python3.10/site-packages (from requests<3.0.0,>=2.18.0->google-api-core!=2.0.*,!=2.1.*,!=2.2.*,!=2.3.*,!=2.4.*,!=2.5.*,!=2.6.*,!=2.7.*,<3.0.0,>=1.34.1->google-api-core[grpc]!=2.0.*,!=2.1.*,!=2.2.*,!=2.3.*,!=2.4.*,!=2.5.*,!=2.6.*,!=2.7.*,<3.0.0,>=1.34.1->google-cloud-aiplatform) (3.4.1)\n",
      "Requirement already satisfied: idna<4,>=2.5 in /opt/conda/lib/python3.10/site-packages (from requests<3.0.0,>=2.18.0->google-api-core!=2.0.*,!=2.1.*,!=2.2.*,!=2.3.*,!=2.4.*,!=2.5.*,!=2.6.*,!=2.7.*,<3.0.0,>=1.34.1->google-api-core[grpc]!=2.0.*,!=2.1.*,!=2.2.*,!=2.3.*,!=2.4.*,!=2.5.*,!=2.6.*,!=2.7.*,<3.0.0,>=1.34.1->google-cloud-aiplatform) (3.10)\n",
      "Requirement already satisfied: urllib3<3,>=1.21.1 in /opt/conda/lib/python3.10/site-packages (from requests<3.0.0,>=2.18.0->google-api-core!=2.0.*,!=2.1.*,!=2.2.*,!=2.3.*,!=2.4.*,!=2.5.*,!=2.6.*,!=2.7.*,<3.0.0,>=1.34.1->google-api-core[grpc]!=2.0.*,!=2.1.*,!=2.2.*,!=2.3.*,!=2.4.*,!=2.5.*,!=2.6.*,!=2.7.*,<3.0.0,>=1.34.1->google-cloud-aiplatform) (1.26.20)\n",
      "Requirement already satisfied: certifi>=2017.4.17 in /opt/conda/lib/python3.10/site-packages (from requests<3.0.0,>=2.18.0->google-api-core!=2.0.*,!=2.1.*,!=2.2.*,!=2.3.*,!=2.4.*,!=2.5.*,!=2.6.*,!=2.7.*,<3.0.0,>=1.34.1->google-api-core[grpc]!=2.0.*,!=2.1.*,!=2.2.*,!=2.3.*,!=2.4.*,!=2.5.*,!=2.6.*,!=2.7.*,<3.0.0,>=1.34.1->google-cloud-aiplatform) (2025.1.31)\n",
      "Collecting pyarrow==11.0.0\n",
      "  Downloading pyarrow-11.0.0-cp310-cp310-manylinux_2_17_x86_64.manylinux2014_x86_64.whl.metadata (3.0 kB)\n",
      "Requirement already satisfied: numpy>=1.16.6 in /opt/conda/lib/python3.10/site-packages (from pyarrow==11.0.0) (2.1.3)\n",
      "Downloading pyarrow-11.0.0-cp310-cp310-manylinux_2_17_x86_64.manylinux2014_x86_64.whl (34.9 MB)\n",
      "\u001b[2K   \u001b[90m━━━━━━━━━━━━━━━━━━━━━━━━━━━━━━━━━━━━━━━━\u001b[0m \u001b[32m34.9/34.9 MB\u001b[0m \u001b[31m101.8 MB/s\u001b[0m eta \u001b[36m0:00:00\u001b[0ma \u001b[36m0:00:01\u001b[0m\n",
      "\u001b[?25hInstalling collected packages: pyarrow\n",
      "\u001b[33m  WARNING: The script plasma_store is installed in '/home/jupyter/.local/bin' which is not on PATH.\n",
      "  Consider adding this directory to PATH or, if you prefer to suppress this warning, use --no-warn-script-location.\u001b[0m\u001b[33m\n",
      "\u001b[0m\u001b[31mERROR: pip's dependency resolver does not currently take into account all the packages that are installed. This behaviour is the source of the following dependency conflicts.\n",
      "bigframes 1.42.0 requires pyarrow>=15.0.2, but you have pyarrow 11.0.0 which is incompatible.\u001b[0m\u001b[31m\n",
      "\u001b[0mSuccessfully installed pyarrow-11.0.0\n",
      "Requirement already satisfied: google-cloud-bigquery in /opt/conda/lib/python3.10/site-packages (3.31.0)\n",
      "Collecting google-cloud-bigquery\n",
      "  Downloading google_cloud_bigquery-3.34.0-py3-none-any.whl.metadata (8.0 kB)\n",
      "Requirement already satisfied: google-api-core<3.0.0,>=2.11.1 in /opt/conda/lib/python3.10/site-packages (from google-api-core[grpc]<3.0.0,>=2.11.1->google-cloud-bigquery) (2.24.2)\n",
      "Requirement already satisfied: google-auth<3.0.0,>=2.14.1 in /opt/conda/lib/python3.10/site-packages (from google-cloud-bigquery) (2.38.0)\n",
      "Requirement already satisfied: google-cloud-core<3.0.0,>=2.4.1 in /opt/conda/lib/python3.10/site-packages (from google-cloud-bigquery) (2.4.3)\n",
      "Requirement already satisfied: google-resumable-media<3.0.0,>=2.0.0 in /opt/conda/lib/python3.10/site-packages (from google-cloud-bigquery) (2.7.2)\n",
      "Requirement already satisfied: packaging>=24.2.0 in /opt/conda/lib/python3.10/site-packages (from google-cloud-bigquery) (24.2)\n",
      "Requirement already satisfied: python-dateutil<3.0.0,>=2.8.2 in /opt/conda/lib/python3.10/site-packages (from google-cloud-bigquery) (2.9.0.post0)\n",
      "Requirement already satisfied: requests<3.0.0,>=2.21.0 in /opt/conda/lib/python3.10/site-packages (from google-cloud-bigquery) (2.32.3)\n",
      "Requirement already satisfied: googleapis-common-protos<2.0.0,>=1.56.2 in /opt/conda/lib/python3.10/site-packages (from google-api-core<3.0.0,>=2.11.1->google-api-core[grpc]<3.0.0,>=2.11.1->google-cloud-bigquery) (1.69.2)\n",
      "Requirement already satisfied: protobuf!=3.20.0,!=3.20.1,!=4.21.0,!=4.21.1,!=4.21.2,!=4.21.3,!=4.21.4,!=4.21.5,<7.0.0,>=3.19.5 in /opt/conda/lib/python3.10/site-packages (from google-api-core<3.0.0,>=2.11.1->google-api-core[grpc]<3.0.0,>=2.11.1->google-cloud-bigquery) (3.20.3)\n",
      "Requirement already satisfied: proto-plus<2.0.0,>=1.22.3 in /opt/conda/lib/python3.10/site-packages (from google-api-core<3.0.0,>=2.11.1->google-api-core[grpc]<3.0.0,>=2.11.1->google-cloud-bigquery) (1.26.1)\n",
      "Requirement already satisfied: grpcio<2.0dev,>=1.33.2 in /opt/conda/lib/python3.10/site-packages (from google-api-core[grpc]<3.0.0,>=2.11.1->google-cloud-bigquery) (1.71.0)\n",
      "Requirement already satisfied: grpcio-status<2.0.dev0,>=1.33.2 in /opt/conda/lib/python3.10/site-packages (from google-api-core[grpc]<3.0.0,>=2.11.1->google-cloud-bigquery) (1.49.0rc1)\n",
      "Requirement already satisfied: cachetools<6.0,>=2.0.0 in /opt/conda/lib/python3.10/site-packages (from google-auth<3.0.0,>=2.14.1->google-cloud-bigquery) (5.5.2)\n",
      "Requirement already satisfied: pyasn1-modules>=0.2.1 in /opt/conda/lib/python3.10/site-packages (from google-auth<3.0.0,>=2.14.1->google-cloud-bigquery) (0.4.2)\n",
      "Requirement already satisfied: rsa<5,>=3.1.4 in /opt/conda/lib/python3.10/site-packages (from google-auth<3.0.0,>=2.14.1->google-cloud-bigquery) (4.9)\n",
      "Requirement already satisfied: google-crc32c<2.0dev,>=1.0 in /opt/conda/lib/python3.10/site-packages (from google-resumable-media<3.0.0,>=2.0.0->google-cloud-bigquery) (1.7.1)\n",
      "Requirement already satisfied: six>=1.5 in /opt/conda/lib/python3.10/site-packages (from python-dateutil<3.0.0,>=2.8.2->google-cloud-bigquery) (1.17.0)\n",
      "Requirement already satisfied: charset_normalizer<4,>=2 in /opt/conda/lib/python3.10/site-packages (from requests<3.0.0,>=2.21.0->google-cloud-bigquery) (3.4.1)\n",
      "Requirement already satisfied: idna<4,>=2.5 in /opt/conda/lib/python3.10/site-packages (from requests<3.0.0,>=2.21.0->google-cloud-bigquery) (3.10)\n",
      "Requirement already satisfied: urllib3<3,>=1.21.1 in /opt/conda/lib/python3.10/site-packages (from requests<3.0.0,>=2.21.0->google-cloud-bigquery) (1.26.20)\n",
      "Requirement already satisfied: certifi>=2017.4.17 in /opt/conda/lib/python3.10/site-packages (from requests<3.0.0,>=2.21.0->google-cloud-bigquery) (2025.1.31)\n",
      "Requirement already satisfied: pyasn1<0.7.0,>=0.6.1 in /opt/conda/lib/python3.10/site-packages (from pyasn1-modules>=0.2.1->google-auth<3.0.0,>=2.14.1->google-cloud-bigquery) (0.6.1)\n",
      "Downloading google_cloud_bigquery-3.34.0-py3-none-any.whl (253 kB)\n",
      "Installing collected packages: google-cloud-bigquery\n",
      "\u001b[31mERROR: pip's dependency resolver does not currently take into account all the packages that are installed. This behaviour is the source of the following dependency conflicts.\n",
      "bigframes 1.42.0 requires pyarrow>=15.0.2, but you have pyarrow 11.0.0 which is incompatible.\u001b[0m\u001b[31m\n",
      "\u001b[0mSuccessfully installed google-cloud-bigquery-3.34.0\n",
      "Requirement already satisfied: google-cloud-bigquery-storage in /opt/conda/lib/python3.10/site-packages (2.30.0)\n",
      "Collecting google-cloud-bigquery-storage\n",
      "  Downloading google_cloud_bigquery_storage-2.32.0-py3-none-any.whl.metadata (9.8 kB)\n",
      "Requirement already satisfied: google-api-core!=2.0.*,!=2.1.*,!=2.10.*,!=2.2.*,!=2.3.*,!=2.4.*,!=2.5.*,!=2.6.*,!=2.7.*,!=2.8.*,!=2.9.*,<3.0.0,>=1.34.0 in /opt/conda/lib/python3.10/site-packages (from google-api-core[grpc]!=2.0.*,!=2.1.*,!=2.10.*,!=2.2.*,!=2.3.*,!=2.4.*,!=2.5.*,!=2.6.*,!=2.7.*,!=2.8.*,!=2.9.*,<3.0.0,>=1.34.0->google-cloud-bigquery-storage) (2.24.2)\n",
      "Requirement already satisfied: google-auth<3.0.0,>=2.14.1 in /opt/conda/lib/python3.10/site-packages (from google-cloud-bigquery-storage) (2.38.0)\n",
      "Requirement already satisfied: proto-plus<2.0.0,>=1.22.0 in /opt/conda/lib/python3.10/site-packages (from google-cloud-bigquery-storage) (1.26.1)\n",
      "Requirement already satisfied: protobuf!=3.20.0,!=3.20.1,!=4.21.0,!=4.21.1,!=4.21.2,!=4.21.3,!=4.21.4,!=4.21.5,<7.0.0,>=3.20.2 in /opt/conda/lib/python3.10/site-packages (from google-cloud-bigquery-storage) (3.20.3)\n",
      "Requirement already satisfied: googleapis-common-protos<2.0.0,>=1.56.2 in /opt/conda/lib/python3.10/site-packages (from google-api-core!=2.0.*,!=2.1.*,!=2.10.*,!=2.2.*,!=2.3.*,!=2.4.*,!=2.5.*,!=2.6.*,!=2.7.*,!=2.8.*,!=2.9.*,<3.0.0,>=1.34.0->google-api-core[grpc]!=2.0.*,!=2.1.*,!=2.10.*,!=2.2.*,!=2.3.*,!=2.4.*,!=2.5.*,!=2.6.*,!=2.7.*,!=2.8.*,!=2.9.*,<3.0.0,>=1.34.0->google-cloud-bigquery-storage) (1.69.2)\n",
      "Requirement already satisfied: requests<3.0.0,>=2.18.0 in /opt/conda/lib/python3.10/site-packages (from google-api-core!=2.0.*,!=2.1.*,!=2.10.*,!=2.2.*,!=2.3.*,!=2.4.*,!=2.5.*,!=2.6.*,!=2.7.*,!=2.8.*,!=2.9.*,<3.0.0,>=1.34.0->google-api-core[grpc]!=2.0.*,!=2.1.*,!=2.10.*,!=2.2.*,!=2.3.*,!=2.4.*,!=2.5.*,!=2.6.*,!=2.7.*,!=2.8.*,!=2.9.*,<3.0.0,>=1.34.0->google-cloud-bigquery-storage) (2.32.3)\n",
      "Requirement already satisfied: grpcio<2.0dev,>=1.33.2 in /opt/conda/lib/python3.10/site-packages (from google-api-core[grpc]!=2.0.*,!=2.1.*,!=2.10.*,!=2.2.*,!=2.3.*,!=2.4.*,!=2.5.*,!=2.6.*,!=2.7.*,!=2.8.*,!=2.9.*,<3.0.0,>=1.34.0->google-cloud-bigquery-storage) (1.71.0)\n",
      "Requirement already satisfied: grpcio-status<2.0.dev0,>=1.33.2 in /opt/conda/lib/python3.10/site-packages (from google-api-core[grpc]!=2.0.*,!=2.1.*,!=2.10.*,!=2.2.*,!=2.3.*,!=2.4.*,!=2.5.*,!=2.6.*,!=2.7.*,!=2.8.*,!=2.9.*,<3.0.0,>=1.34.0->google-cloud-bigquery-storage) (1.49.0rc1)\n",
      "Requirement already satisfied: cachetools<6.0,>=2.0.0 in /opt/conda/lib/python3.10/site-packages (from google-auth<3.0.0,>=2.14.1->google-cloud-bigquery-storage) (5.5.2)\n",
      "Requirement already satisfied: pyasn1-modules>=0.2.1 in /opt/conda/lib/python3.10/site-packages (from google-auth<3.0.0,>=2.14.1->google-cloud-bigquery-storage) (0.4.2)\n",
      "Requirement already satisfied: rsa<5,>=3.1.4 in /opt/conda/lib/python3.10/site-packages (from google-auth<3.0.0,>=2.14.1->google-cloud-bigquery-storage) (4.9)\n",
      "Requirement already satisfied: pyasn1<0.7.0,>=0.6.1 in /opt/conda/lib/python3.10/site-packages (from pyasn1-modules>=0.2.1->google-auth<3.0.0,>=2.14.1->google-cloud-bigquery-storage) (0.6.1)\n",
      "Requirement already satisfied: charset_normalizer<4,>=2 in /opt/conda/lib/python3.10/site-packages (from requests<3.0.0,>=2.18.0->google-api-core!=2.0.*,!=2.1.*,!=2.10.*,!=2.2.*,!=2.3.*,!=2.4.*,!=2.5.*,!=2.6.*,!=2.7.*,!=2.8.*,!=2.9.*,<3.0.0,>=1.34.0->google-api-core[grpc]!=2.0.*,!=2.1.*,!=2.10.*,!=2.2.*,!=2.3.*,!=2.4.*,!=2.5.*,!=2.6.*,!=2.7.*,!=2.8.*,!=2.9.*,<3.0.0,>=1.34.0->google-cloud-bigquery-storage) (3.4.1)\n",
      "Requirement already satisfied: idna<4,>=2.5 in /opt/conda/lib/python3.10/site-packages (from requests<3.0.0,>=2.18.0->google-api-core!=2.0.*,!=2.1.*,!=2.10.*,!=2.2.*,!=2.3.*,!=2.4.*,!=2.5.*,!=2.6.*,!=2.7.*,!=2.8.*,!=2.9.*,<3.0.0,>=1.34.0->google-api-core[grpc]!=2.0.*,!=2.1.*,!=2.10.*,!=2.2.*,!=2.3.*,!=2.4.*,!=2.5.*,!=2.6.*,!=2.7.*,!=2.8.*,!=2.9.*,<3.0.0,>=1.34.0->google-cloud-bigquery-storage) (3.10)\n",
      "Requirement already satisfied: urllib3<3,>=1.21.1 in /opt/conda/lib/python3.10/site-packages (from requests<3.0.0,>=2.18.0->google-api-core!=2.0.*,!=2.1.*,!=2.10.*,!=2.2.*,!=2.3.*,!=2.4.*,!=2.5.*,!=2.6.*,!=2.7.*,!=2.8.*,!=2.9.*,<3.0.0,>=1.34.0->google-api-core[grpc]!=2.0.*,!=2.1.*,!=2.10.*,!=2.2.*,!=2.3.*,!=2.4.*,!=2.5.*,!=2.6.*,!=2.7.*,!=2.8.*,!=2.9.*,<3.0.0,>=1.34.0->google-cloud-bigquery-storage) (1.26.20)\n",
      "Requirement already satisfied: certifi>=2017.4.17 in /opt/conda/lib/python3.10/site-packages (from requests<3.0.0,>=2.18.0->google-api-core!=2.0.*,!=2.1.*,!=2.10.*,!=2.2.*,!=2.3.*,!=2.4.*,!=2.5.*,!=2.6.*,!=2.7.*,!=2.8.*,!=2.9.*,<3.0.0,>=1.34.0->google-api-core[grpc]!=2.0.*,!=2.1.*,!=2.10.*,!=2.2.*,!=2.3.*,!=2.4.*,!=2.5.*,!=2.6.*,!=2.7.*,!=2.8.*,!=2.9.*,<3.0.0,>=1.34.0->google-cloud-bigquery-storage) (2025.1.31)\n",
      "Downloading google_cloud_bigquery_storage-2.32.0-py3-none-any.whl (296 kB)\n",
      "Installing collected packages: google-cloud-bigquery-storage\n",
      "Successfully installed google-cloud-bigquery-storage-2.32.0\n",
      "Requirement already satisfied: google-cloud-storage in /opt/conda/lib/python3.10/site-packages (2.19.0)\n",
      "Collecting google-cloud-storage\n",
      "  Downloading google_cloud_storage-3.1.0-py2.py3-none-any.whl.metadata (12 kB)\n",
      "Requirement already satisfied: google-auth<3.0dev,>=2.26.1 in /opt/conda/lib/python3.10/site-packages (from google-cloud-storage) (2.38.0)\n",
      "Requirement already satisfied: google-api-core<3.0.0dev,>=2.15.0 in /opt/conda/lib/python3.10/site-packages (from google-cloud-storage) (2.24.2)\n",
      "Requirement already satisfied: google-cloud-core<3.0dev,>=2.4.2 in /opt/conda/lib/python3.10/site-packages (from google-cloud-storage) (2.4.3)\n",
      "Requirement already satisfied: google-resumable-media>=2.7.2 in /opt/conda/lib/python3.10/site-packages (from google-cloud-storage) (2.7.2)\n",
      "Requirement already satisfied: requests<3.0.0dev,>=2.18.0 in /opt/conda/lib/python3.10/site-packages (from google-cloud-storage) (2.32.3)\n",
      "Requirement already satisfied: google-crc32c<2.0dev,>=1.0 in /opt/conda/lib/python3.10/site-packages (from google-cloud-storage) (1.7.1)\n",
      "Requirement already satisfied: googleapis-common-protos<2.0.0,>=1.56.2 in /opt/conda/lib/python3.10/site-packages (from google-api-core<3.0.0dev,>=2.15.0->google-cloud-storage) (1.69.2)\n",
      "Requirement already satisfied: protobuf!=3.20.0,!=3.20.1,!=4.21.0,!=4.21.1,!=4.21.2,!=4.21.3,!=4.21.4,!=4.21.5,<7.0.0,>=3.19.5 in /opt/conda/lib/python3.10/site-packages (from google-api-core<3.0.0dev,>=2.15.0->google-cloud-storage) (3.20.3)\n",
      "Requirement already satisfied: proto-plus<2.0.0,>=1.22.3 in /opt/conda/lib/python3.10/site-packages (from google-api-core<3.0.0dev,>=2.15.0->google-cloud-storage) (1.26.1)\n",
      "Requirement already satisfied: cachetools<6.0,>=2.0.0 in /opt/conda/lib/python3.10/site-packages (from google-auth<3.0dev,>=2.26.1->google-cloud-storage) (5.5.2)\n",
      "Requirement already satisfied: pyasn1-modules>=0.2.1 in /opt/conda/lib/python3.10/site-packages (from google-auth<3.0dev,>=2.26.1->google-cloud-storage) (0.4.2)\n",
      "Requirement already satisfied: rsa<5,>=3.1.4 in /opt/conda/lib/python3.10/site-packages (from google-auth<3.0dev,>=2.26.1->google-cloud-storage) (4.9)\n",
      "Requirement already satisfied: charset_normalizer<4,>=2 in /opt/conda/lib/python3.10/site-packages (from requests<3.0.0dev,>=2.18.0->google-cloud-storage) (3.4.1)\n",
      "Requirement already satisfied: idna<4,>=2.5 in /opt/conda/lib/python3.10/site-packages (from requests<3.0.0dev,>=2.18.0->google-cloud-storage) (3.10)\n",
      "Requirement already satisfied: urllib3<3,>=1.21.1 in /opt/conda/lib/python3.10/site-packages (from requests<3.0.0dev,>=2.18.0->google-cloud-storage) (1.26.20)\n",
      "Requirement already satisfied: certifi>=2017.4.17 in /opt/conda/lib/python3.10/site-packages (from requests<3.0.0dev,>=2.18.0->google-cloud-storage) (2025.1.31)\n",
      "Requirement already satisfied: pyasn1<0.7.0,>=0.6.1 in /opt/conda/lib/python3.10/site-packages (from pyasn1-modules>=0.2.1->google-auth<3.0dev,>=2.26.1->google-cloud-storage) (0.6.1)\n",
      "Downloading google_cloud_storage-3.1.0-py2.py3-none-any.whl (174 kB)\n",
      "Installing collected packages: google-cloud-storage\n",
      "\u001b[31mERROR: pip's dependency resolver does not currently take into account all the packages that are installed. This behaviour is the source of the following dependency conflicts.\n",
      "bigframes 1.42.0 requires pyarrow>=15.0.2, but you have pyarrow 11.0.0 which is incompatible.\n",
      "google-cloud-aiplatform 1.86.0 requires google-cloud-storage<3.0.0,>=1.32.0, but you have google-cloud-storage 3.1.0 which is incompatible.\n",
      "kfp 2.5.0 requires google-cloud-storage<3,>=2.2.1, but you have google-cloud-storage 3.1.0 which is incompatible.\u001b[0m\u001b[31m\n",
      "\u001b[0mSuccessfully installed google-cloud-storage-3.1.0\n",
      "Requirement already satisfied: db-dtypes in /opt/conda/lib/python3.10/site-packages (1.4.2)\n",
      "Requirement already satisfied: packaging>=17.0 in /opt/conda/lib/python3.10/site-packages (from db-dtypes) (24.2)\n",
      "Requirement already satisfied: pandas>=0.24.2 in /opt/conda/lib/python3.10/site-packages (from db-dtypes) (2.2.3)\n",
      "Requirement already satisfied: pyarrow>=3.0.0 in ./.local/lib/python3.10/site-packages (from db-dtypes) (11.0.0)\n",
      "Requirement already satisfied: numpy>=1.16.6 in /opt/conda/lib/python3.10/site-packages (from db-dtypes) (2.1.3)\n",
      "Requirement already satisfied: python-dateutil>=2.8.2 in /opt/conda/lib/python3.10/site-packages (from pandas>=0.24.2->db-dtypes) (2.9.0.post0)\n",
      "Requirement already satisfied: pytz>=2020.1 in /opt/conda/lib/python3.10/site-packages (from pandas>=0.24.2->db-dtypes) (2025.2)\n",
      "Requirement already satisfied: tzdata>=2022.7 in /opt/conda/lib/python3.10/site-packages (from pandas>=0.24.2->db-dtypes) (2025.2)\n",
      "Requirement already satisfied: six>=1.5 in /opt/conda/lib/python3.10/site-packages (from python-dateutil>=2.8.2->pandas>=0.24.2->db-dtypes) (1.17.0)\n"
     ]
    }
   ],
   "source": [
    "!pip3 install google-cloud-aiplatform --user\n",
    "!pip3 install pyarrow==11.0.0 --user\n",
    "!pip3 install --upgrade google-cloud-bigquery --user\n",
    "!pip3 install --upgrade google-cloud-bigquery-storage --user\n",
    "!pip3 install --upgrade google-cloud-storage --user\n",
    "!pip install db-dtypes"
   ]
  },
  {
   "cell_type": "markdown",
   "id": "32ae1c8a",
   "metadata": {},
   "source": [
    "**Restart the kernel and ignore the compatibility errors.**"
   ]
  },
  {
   "cell_type": "markdown",
   "id": "0cbbab34",
   "metadata": {},
   "source": [
    "### Define constants"
   ]
  },
  {
   "cell_type": "code",
   "execution_count": 2,
   "id": "edbc96b2",
   "metadata": {
    "tags": []
   },
   "outputs": [],
   "source": [
    "# Retrieve and set PROJECT_ID and REGION environment variables.\n",
    "PROJECT_ID = !(gcloud config get-value core/project)\n",
    "PROJECT_ID = PROJECT_ID[0]"
   ]
  },
  {
   "cell_type": "markdown",
   "id": "1b1bea8f",
   "metadata": {},
   "source": [
    "**Note:** Replace the <code>REGION</code> with the associated region mentioned in the qwiklabs resource panel."
   ]
  },
  {
   "cell_type": "code",
   "execution_count": 3,
   "id": "935a4807",
   "metadata": {
    "tags": []
   },
   "outputs": [],
   "source": [
    "BQ_LOCATION = 'US'\n",
    "REGION = 'us-central1'"
   ]
  },
  {
   "cell_type": "markdown",
   "id": "1b1bea9f",
   "metadata": {},
   "source": [
    "### Import libraries"
   ]
  },
  {
   "cell_type": "code",
   "execution_count": 4,
   "id": "4afdade5",
   "metadata": {
    "tags": []
   },
   "outputs": [],
   "source": [
    "from google.cloud import bigquery\n",
    "from google.cloud import aiplatform as vertexai\n",
    "import numpy as np\n",
    "import pandas as pd"
   ]
  },
  {
   "cell_type": "markdown",
   "id": "76acc5de",
   "metadata": {},
   "source": [
    "### Create a GCS bucket for artifact storage"
   ]
  },
  {
   "cell_type": "markdown",
   "id": "abc13d5c",
   "metadata": {},
   "source": [
    "Create a globally unique Google Cloud Storage bucket for artifact storage. You will use this bucket to export your BQML model later in the lab and upload it to Vertex AI."
   ]
  },
  {
   "cell_type": "code",
   "execution_count": 5,
   "id": "d7682097",
   "metadata": {
    "tags": []
   },
   "outputs": [],
   "source": [
    "GCS_BUCKET = f\"{PROJECT_ID}-bqmlga4\""
   ]
  },
  {
   "cell_type": "code",
   "execution_count": 6,
   "id": "c003d940",
   "metadata": {
    "tags": []
   },
   "outputs": [
    {
     "name": "stdout",
     "output_type": "stream",
     "text": [
      "Creating gs://qwiklabs-gcp-03-1ee07f880060-bqmlga4/...\n"
     ]
    }
   ],
   "source": [
    "!gsutil mb -l $REGION gs://$GCS_BUCKET"
   ]
  },
  {
   "cell_type": "markdown",
   "id": "cd34ed14",
   "metadata": {},
   "source": [
    "### Create a BigQuery dataset"
   ]
  },
  {
   "cell_type": "markdown",
   "id": "a93d1373",
   "metadata": {},
   "source": [
    "Next, create a BigQuery dataset from this notebook using the Python-based [`bq` command line utility](https://cloud.google.com/bigquery/docs/bq-command-line-tool). \n",
    "\n",
    "This dataset will group your feature views, model, and predictions table together. You can view it in the [BigQuery](https://pantheon.corp.google.com/bigquery) console."
   ]
  },
  {
   "cell_type": "code",
   "execution_count": 7,
   "id": "fd775fe7",
   "metadata": {
    "tags": []
   },
   "outputs": [],
   "source": [
    "BQ_DATASET = f\"{PROJECT_ID}:bqmlga4\""
   ]
  },
  {
   "cell_type": "code",
   "execution_count": 8,
   "id": "53014527",
   "metadata": {
    "tags": []
   },
   "outputs": [
    {
     "name": "stdout",
     "output_type": "stream",
     "text": [
      "Dataset 'qwiklabs-gcp-03-1ee07f880060:bqmlga4' successfully created.\n"
     ]
    }
   ],
   "source": [
    "!bq mk --location={BQ_LOCATION} --dataset {BQ_DATASET}"
   ]
  },
  {
   "cell_type": "markdown",
   "id": "86c8624c",
   "metadata": {},
   "source": [
    "### Initialize the Vertex Python SDK client"
   ]
  },
  {
   "cell_type": "markdown",
   "id": "af877157",
   "metadata": {},
   "source": [
    "Import the Vertex SDK for Python into your Python environment and initialize it."
   ]
  },
  {
   "cell_type": "code",
   "execution_count": 9,
   "id": "5d992f3c",
   "metadata": {
    "tags": []
   },
   "outputs": [],
   "source": [
    "vertexai.init(project=PROJECT_ID, location=REGION, staging_bucket=f\"gs://{GCS_BUCKET}\")"
   ]
  },
  {
   "cell_type": "markdown",
   "id": "45dc2862",
   "metadata": {},
   "source": [
    "## Exploratory Data Analysis (EDA) in BigQuery"
   ]
  },
  {
   "cell_type": "markdown",
   "id": "0cacbd08",
   "metadata": {},
   "source": [
    "This lab uses a [public BigQuery dataset]() that contains raw event data from a real mobile gaming app called **Flood it!** ([Android app](https://play.google.com/store/apps/details?id=com.labpixies.flood), [iOS app](https://itunes.apple.com/us/app/flood-it!/id476943146?mt=8)).\n",
    "\n",
    "The data schema originates from Google Analytics for Firebase but is the same schema as [Google Analytics 4](https://support.google.com/analytics/answer/9358801).\n",
    "\n",
    "Take a look at a sample of the raw event dataset using the query below:"
   ]
  },
  {
   "cell_type": "code",
   "execution_count": 10,
   "id": "049d2d38",
   "metadata": {
    "tags": []
   },
   "outputs": [
    {
     "data": {
      "application/vnd.jupyter.widget-view+json": {
       "model_id": "87ec3a0d6fe24bbd9dadf7d1777a2583",
       "version_major": 2,
       "version_minor": 0
      },
      "text/plain": [
       "Query is running:   0%|          |"
      ]
     },
     "metadata": {},
     "output_type": "display_data"
    },
    {
     "data": {
      "application/vnd.jupyter.widget-view+json": {
       "model_id": "4146726a6bbe4c5da5c9716c3cc53f66",
       "version_major": 2,
       "version_minor": 0
      },
      "text/plain": [
       "Downloading:   0%|          |"
      ]
     },
     "metadata": {},
     "output_type": "display_data"
    },
    {
     "data": {
      "text/html": [
       "<div>\n",
       "<style scoped>\n",
       "    .dataframe tbody tr th:only-of-type {\n",
       "        vertical-align: middle;\n",
       "    }\n",
       "\n",
       "    .dataframe tbody tr th {\n",
       "        vertical-align: top;\n",
       "    }\n",
       "\n",
       "    .dataframe thead th {\n",
       "        text-align: right;\n",
       "    }\n",
       "</style>\n",
       "<table border=\"1\" class=\"dataframe\">\n",
       "  <thead>\n",
       "    <tr style=\"text-align: right;\">\n",
       "      <th></th>\n",
       "      <th>event_date</th>\n",
       "      <th>event_timestamp</th>\n",
       "      <th>event_name</th>\n",
       "      <th>event_params</th>\n",
       "      <th>event_previous_timestamp</th>\n",
       "      <th>event_value_in_usd</th>\n",
       "      <th>event_bundle_sequence_id</th>\n",
       "      <th>event_server_timestamp_offset</th>\n",
       "      <th>user_id</th>\n",
       "      <th>user_pseudo_id</th>\n",
       "      <th>user_properties</th>\n",
       "      <th>user_first_touch_timestamp</th>\n",
       "      <th>user_ltv</th>\n",
       "      <th>device</th>\n",
       "      <th>geo</th>\n",
       "      <th>app_info</th>\n",
       "      <th>traffic_source</th>\n",
       "      <th>stream_id</th>\n",
       "      <th>platform</th>\n",
       "      <th>event_dimensions</th>\n",
       "    </tr>\n",
       "  </thead>\n",
       "  <tbody>\n",
       "    <tr>\n",
       "      <th>0</th>\n",
       "      <td>20180717</td>\n",
       "      <td>1531849192246292</td>\n",
       "      <td>use_extra_steps</td>\n",
       "      <td>[{'key': 'item_name', 'value': {'string_value'...</td>\n",
       "      <td>1531782531261292</td>\n",
       "      <td>NaN</td>\n",
       "      <td>30</td>\n",
       "      <td>850442</td>\n",
       "      <td>None</td>\n",
       "      <td>503AB1BC9E19C89B0425ED404E60F062</td>\n",
       "      <td>[{'key': 'ad_frequency', 'value': {'string_val...</td>\n",
       "      <td>1531774984117000</td>\n",
       "      <td>None</td>\n",
       "      <td>{'category': 'mobile', 'mobile_brand_name': 'n...</td>\n",
       "      <td>{'continent': 'Americas', 'country': 'Canada',...</td>\n",
       "      <td>{'id': 'com.labpixies.flood', 'version': '2.62...</td>\n",
       "      <td>{'name': None, 'medium': 'organic', 'source': ...</td>\n",
       "      <td>1051193346</td>\n",
       "      <td>ANDROID</td>\n",
       "      <td>None</td>\n",
       "    </tr>\n",
       "    <tr>\n",
       "      <th>1</th>\n",
       "      <td>20180717</td>\n",
       "      <td>1531849238246293</td>\n",
       "      <td>spend_virtual_currency</td>\n",
       "      <td>[{'key': 'item_name', 'value': {'string_value'...</td>\n",
       "      <td>1531782531261293</td>\n",
       "      <td>NaN</td>\n",
       "      <td>30</td>\n",
       "      <td>850442</td>\n",
       "      <td>None</td>\n",
       "      <td>503AB1BC9E19C89B0425ED404E60F062</td>\n",
       "      <td>[{'key': 'ad_frequency', 'value': {'string_val...</td>\n",
       "      <td>1531774984117000</td>\n",
       "      <td>None</td>\n",
       "      <td>{'category': 'mobile', 'mobile_brand_name': 'n...</td>\n",
       "      <td>{'continent': 'Americas', 'country': 'Canada',...</td>\n",
       "      <td>{'id': 'com.labpixies.flood', 'version': '2.62...</td>\n",
       "      <td>{'name': None, 'medium': 'organic', 'source': ...</td>\n",
       "      <td>1051193346</td>\n",
       "      <td>ANDROID</td>\n",
       "      <td>None</td>\n",
       "    </tr>\n",
       "    <tr>\n",
       "      <th>2</th>\n",
       "      <td>20180717</td>\n",
       "      <td>1531870363607028</td>\n",
       "      <td>level_fail</td>\n",
       "      <td>[{'key': 'firebase_event_origin', 'value': {'s...</td>\n",
       "      <td>1531848334196028</td>\n",
       "      <td>NaN</td>\n",
       "      <td>33</td>\n",
       "      <td>3303427</td>\n",
       "      <td>None</td>\n",
       "      <td>503AB1BC9E19C89B0425ED404E60F062</td>\n",
       "      <td>[{'key': 'ad_frequency', 'value': {'string_val...</td>\n",
       "      <td>1531774984117000</td>\n",
       "      <td>None</td>\n",
       "      <td>{'category': 'mobile', 'mobile_brand_name': 'n...</td>\n",
       "      <td>{'continent': 'Americas', 'country': 'Canada',...</td>\n",
       "      <td>{'id': 'com.labpixies.flood', 'version': '2.62...</td>\n",
       "      <td>{'name': None, 'medium': 'organic', 'source': ...</td>\n",
       "      <td>1051193346</td>\n",
       "      <td>ANDROID</td>\n",
       "      <td>None</td>\n",
       "    </tr>\n",
       "    <tr>\n",
       "      <th>3</th>\n",
       "      <td>20180717</td>\n",
       "      <td>1531870358607029</td>\n",
       "      <td>level_end</td>\n",
       "      <td>[{'key': 'firebase_event_origin', 'value': {'s...</td>\n",
       "      <td>1531848334196029</td>\n",
       "      <td>NaN</td>\n",
       "      <td>33</td>\n",
       "      <td>3303427</td>\n",
       "      <td>None</td>\n",
       "      <td>503AB1BC9E19C89B0425ED404E60F062</td>\n",
       "      <td>[{'key': 'ad_frequency', 'value': {'string_val...</td>\n",
       "      <td>1531774984117000</td>\n",
       "      <td>None</td>\n",
       "      <td>{'category': 'mobile', 'mobile_brand_name': 'n...</td>\n",
       "      <td>{'continent': 'Americas', 'country': 'Canada',...</td>\n",
       "      <td>{'id': 'com.labpixies.flood', 'version': '2.62...</td>\n",
       "      <td>{'name': None, 'medium': 'organic', 'source': ...</td>\n",
       "      <td>1051193346</td>\n",
       "      <td>ANDROID</td>\n",
       "      <td>None</td>\n",
       "    </tr>\n",
       "    <tr>\n",
       "      <th>4</th>\n",
       "      <td>20180717</td>\n",
       "      <td>1531870723685750</td>\n",
       "      <td>no_more_extra_steps</td>\n",
       "      <td>[{'key': 'value', 'value': {'string_value': No...</td>\n",
       "      <td>&lt;NA&gt;</td>\n",
       "      <td>NaN</td>\n",
       "      <td>37</td>\n",
       "      <td>1668415</td>\n",
       "      <td>None</td>\n",
       "      <td>503AB1BC9E19C89B0425ED404E60F062</td>\n",
       "      <td>[{'key': 'ad_frequency', 'value': {'string_val...</td>\n",
       "      <td>1531774984117000</td>\n",
       "      <td>None</td>\n",
       "      <td>{'category': 'mobile', 'mobile_brand_name': 'n...</td>\n",
       "      <td>{'continent': 'Americas', 'country': 'Canada',...</td>\n",
       "      <td>{'id': 'com.labpixies.flood', 'version': '2.62...</td>\n",
       "      <td>{'name': None, 'medium': 'organic', 'source': ...</td>\n",
       "      <td>1051193346</td>\n",
       "      <td>ANDROID</td>\n",
       "      <td>None</td>\n",
       "    </tr>\n",
       "    <tr>\n",
       "      <th>...</th>\n",
       "      <td>...</td>\n",
       "      <td>...</td>\n",
       "      <td>...</td>\n",
       "      <td>...</td>\n",
       "      <td>...</td>\n",
       "      <td>...</td>\n",
       "      <td>...</td>\n",
       "      <td>...</td>\n",
       "      <td>...</td>\n",
       "      <td>...</td>\n",
       "      <td>...</td>\n",
       "      <td>...</td>\n",
       "      <td>...</td>\n",
       "      <td>...</td>\n",
       "      <td>...</td>\n",
       "      <td>...</td>\n",
       "      <td>...</td>\n",
       "      <td>...</td>\n",
       "      <td>...</td>\n",
       "      <td>...</td>\n",
       "    </tr>\n",
       "    <tr>\n",
       "      <th>49995</th>\n",
       "      <td>20180717</td>\n",
       "      <td>1531860263951132</td>\n",
       "      <td>screen_view</td>\n",
       "      <td>[{'key': 'firebase_previous_id', 'value': {'st...</td>\n",
       "      <td>1531860213203132</td>\n",
       "      <td>NaN</td>\n",
       "      <td>390</td>\n",
       "      <td>287489</td>\n",
       "      <td>None</td>\n",
       "      <td>3B4A6FCA6DCB4C2749409DC4188A306E</td>\n",
       "      <td>[{'key': 'first_open_time', 'value': {'string_...</td>\n",
       "      <td>1526444942454000</td>\n",
       "      <td>None</td>\n",
       "      <td>{'category': 'tablet', 'mobile_brand_name': 'n...</td>\n",
       "      <td>{'continent': 'Americas', 'country': 'United S...</td>\n",
       "      <td>{'id': 'com.google.flood2', 'version': '2.6.30...</td>\n",
       "      <td>{'name': '(direct)', 'medium': '(none)', 'sour...</td>\n",
       "      <td>1051193347</td>\n",
       "      <td>IOS</td>\n",
       "      <td>None</td>\n",
       "    </tr>\n",
       "    <tr>\n",
       "      <th>49996</th>\n",
       "      <td>20180717</td>\n",
       "      <td>1531853602254000</td>\n",
       "      <td>first_open</td>\n",
       "      <td>[{'key': 'previous_first_open_count', 'value':...</td>\n",
       "      <td>&lt;NA&gt;</td>\n",
       "      <td>NaN</td>\n",
       "      <td>1</td>\n",
       "      <td>589190</td>\n",
       "      <td>None</td>\n",
       "      <td>6A8DE529CDDEC5B0B170929B2444A588</td>\n",
       "      <td>[{'key': 'first_open_time', 'value': {'string_...</td>\n",
       "      <td>1531853599254000</td>\n",
       "      <td>None</td>\n",
       "      <td>{'category': 'mobile', 'mobile_brand_name': 'n...</td>\n",
       "      <td>{'continent': 'Americas', 'country': 'United S...</td>\n",
       "      <td>{'id': 'com.labpixies.flood', 'version': '2.62...</td>\n",
       "      <td>{'name': None, 'medium': 'organic', 'source': ...</td>\n",
       "      <td>1051193346</td>\n",
       "      <td>ANDROID</td>\n",
       "      <td>None</td>\n",
       "    </tr>\n",
       "    <tr>\n",
       "      <th>49997</th>\n",
       "      <td>20180717</td>\n",
       "      <td>1531853605254001</td>\n",
       "      <td>user_engagement</td>\n",
       "      <td>[{'key': 'firebase_event_origin', 'value': {'s...</td>\n",
       "      <td>&lt;NA&gt;</td>\n",
       "      <td>NaN</td>\n",
       "      <td>1</td>\n",
       "      <td>589190</td>\n",
       "      <td>None</td>\n",
       "      <td>6A8DE529CDDEC5B0B170929B2444A588</td>\n",
       "      <td>[{'key': 'first_open_time', 'value': {'string_...</td>\n",
       "      <td>1531853599254000</td>\n",
       "      <td>None</td>\n",
       "      <td>{'category': 'mobile', 'mobile_brand_name': 'n...</td>\n",
       "      <td>{'continent': 'Americas', 'country': 'United S...</td>\n",
       "      <td>{'id': 'com.labpixies.flood', 'version': '2.62...</td>\n",
       "      <td>{'name': None, 'medium': 'organic', 'source': ...</td>\n",
       "      <td>1051193346</td>\n",
       "      <td>ANDROID</td>\n",
       "      <td>None</td>\n",
       "    </tr>\n",
       "    <tr>\n",
       "      <th>49998</th>\n",
       "      <td>20180717</td>\n",
       "      <td>1531856276291000</td>\n",
       "      <td>first_open</td>\n",
       "      <td>[{'key': 'previous_first_open_count', 'value':...</td>\n",
       "      <td>&lt;NA&gt;</td>\n",
       "      <td>NaN</td>\n",
       "      <td>1</td>\n",
       "      <td>7820991</td>\n",
       "      <td>None</td>\n",
       "      <td>54D2AF3BAD2CA938D3C47826DCDD5270</td>\n",
       "      <td>[{'key': 'first_open_time', 'value': {'string_...</td>\n",
       "      <td>1531856225291000</td>\n",
       "      <td>None</td>\n",
       "      <td>{'category': 'tablet', 'mobile_brand_name': 'n...</td>\n",
       "      <td>{'continent': 'Europe', 'country': 'Switzerlan...</td>\n",
       "      <td>{'id': 'com.labpixies.flood', 'version': '2.62...</td>\n",
       "      <td>{'name': None, 'medium': 'organic', 'source': ...</td>\n",
       "      <td>1051193346</td>\n",
       "      <td>ANDROID</td>\n",
       "      <td>None</td>\n",
       "    </tr>\n",
       "    <tr>\n",
       "      <th>49999</th>\n",
       "      <td>20180717</td>\n",
       "      <td>1531856267291001</td>\n",
       "      <td>user_engagement</td>\n",
       "      <td>[{'key': 'firebase_event_origin', 'value': {'s...</td>\n",
       "      <td>&lt;NA&gt;</td>\n",
       "      <td>NaN</td>\n",
       "      <td>1</td>\n",
       "      <td>7820991</td>\n",
       "      <td>None</td>\n",
       "      <td>54D2AF3BAD2CA938D3C47826DCDD5270</td>\n",
       "      <td>[{'key': 'first_open_time', 'value': {'string_...</td>\n",
       "      <td>1531856225291000</td>\n",
       "      <td>None</td>\n",
       "      <td>{'category': 'tablet', 'mobile_brand_name': 'n...</td>\n",
       "      <td>{'continent': 'Europe', 'country': 'Switzerlan...</td>\n",
       "      <td>{'id': 'com.labpixies.flood', 'version': '2.62...</td>\n",
       "      <td>{'name': None, 'medium': 'organic', 'source': ...</td>\n",
       "      <td>1051193346</td>\n",
       "      <td>ANDROID</td>\n",
       "      <td>None</td>\n",
       "    </tr>\n",
       "  </tbody>\n",
       "</table>\n",
       "<p>50000 rows × 20 columns</p>\n",
       "</div>"
      ],
      "text/plain": [
       "      event_date   event_timestamp              event_name  \\\n",
       "0       20180717  1531849192246292         use_extra_steps   \n",
       "1       20180717  1531849238246293  spend_virtual_currency   \n",
       "2       20180717  1531870363607028              level_fail   \n",
       "3       20180717  1531870358607029               level_end   \n",
       "4       20180717  1531870723685750     no_more_extra_steps   \n",
       "...          ...               ...                     ...   \n",
       "49995   20180717  1531860263951132             screen_view   \n",
       "49996   20180717  1531853602254000              first_open   \n",
       "49997   20180717  1531853605254001         user_engagement   \n",
       "49998   20180717  1531856276291000              first_open   \n",
       "49999   20180717  1531856267291001         user_engagement   \n",
       "\n",
       "                                            event_params  \\\n",
       "0      [{'key': 'item_name', 'value': {'string_value'...   \n",
       "1      [{'key': 'item_name', 'value': {'string_value'...   \n",
       "2      [{'key': 'firebase_event_origin', 'value': {'s...   \n",
       "3      [{'key': 'firebase_event_origin', 'value': {'s...   \n",
       "4      [{'key': 'value', 'value': {'string_value': No...   \n",
       "...                                                  ...   \n",
       "49995  [{'key': 'firebase_previous_id', 'value': {'st...   \n",
       "49996  [{'key': 'previous_first_open_count', 'value':...   \n",
       "49997  [{'key': 'firebase_event_origin', 'value': {'s...   \n",
       "49998  [{'key': 'previous_first_open_count', 'value':...   \n",
       "49999  [{'key': 'firebase_event_origin', 'value': {'s...   \n",
       "\n",
       "       event_previous_timestamp  event_value_in_usd  event_bundle_sequence_id  \\\n",
       "0              1531782531261292                 NaN                        30   \n",
       "1              1531782531261293                 NaN                        30   \n",
       "2              1531848334196028                 NaN                        33   \n",
       "3              1531848334196029                 NaN                        33   \n",
       "4                          <NA>                 NaN                        37   \n",
       "...                         ...                 ...                       ...   \n",
       "49995          1531860213203132                 NaN                       390   \n",
       "49996                      <NA>                 NaN                         1   \n",
       "49997                      <NA>                 NaN                         1   \n",
       "49998                      <NA>                 NaN                         1   \n",
       "49999                      <NA>                 NaN                         1   \n",
       "\n",
       "       event_server_timestamp_offset user_id  \\\n",
       "0                             850442    None   \n",
       "1                             850442    None   \n",
       "2                            3303427    None   \n",
       "3                            3303427    None   \n",
       "4                            1668415    None   \n",
       "...                              ...     ...   \n",
       "49995                         287489    None   \n",
       "49996                         589190    None   \n",
       "49997                         589190    None   \n",
       "49998                        7820991    None   \n",
       "49999                        7820991    None   \n",
       "\n",
       "                         user_pseudo_id  \\\n",
       "0      503AB1BC9E19C89B0425ED404E60F062   \n",
       "1      503AB1BC9E19C89B0425ED404E60F062   \n",
       "2      503AB1BC9E19C89B0425ED404E60F062   \n",
       "3      503AB1BC9E19C89B0425ED404E60F062   \n",
       "4      503AB1BC9E19C89B0425ED404E60F062   \n",
       "...                                 ...   \n",
       "49995  3B4A6FCA6DCB4C2749409DC4188A306E   \n",
       "49996  6A8DE529CDDEC5B0B170929B2444A588   \n",
       "49997  6A8DE529CDDEC5B0B170929B2444A588   \n",
       "49998  54D2AF3BAD2CA938D3C47826DCDD5270   \n",
       "49999  54D2AF3BAD2CA938D3C47826DCDD5270   \n",
       "\n",
       "                                         user_properties  \\\n",
       "0      [{'key': 'ad_frequency', 'value': {'string_val...   \n",
       "1      [{'key': 'ad_frequency', 'value': {'string_val...   \n",
       "2      [{'key': 'ad_frequency', 'value': {'string_val...   \n",
       "3      [{'key': 'ad_frequency', 'value': {'string_val...   \n",
       "4      [{'key': 'ad_frequency', 'value': {'string_val...   \n",
       "...                                                  ...   \n",
       "49995  [{'key': 'first_open_time', 'value': {'string_...   \n",
       "49996  [{'key': 'first_open_time', 'value': {'string_...   \n",
       "49997  [{'key': 'first_open_time', 'value': {'string_...   \n",
       "49998  [{'key': 'first_open_time', 'value': {'string_...   \n",
       "49999  [{'key': 'first_open_time', 'value': {'string_...   \n",
       "\n",
       "       user_first_touch_timestamp user_ltv  \\\n",
       "0                1531774984117000     None   \n",
       "1                1531774984117000     None   \n",
       "2                1531774984117000     None   \n",
       "3                1531774984117000     None   \n",
       "4                1531774984117000     None   \n",
       "...                           ...      ...   \n",
       "49995            1526444942454000     None   \n",
       "49996            1531853599254000     None   \n",
       "49997            1531853599254000     None   \n",
       "49998            1531856225291000     None   \n",
       "49999            1531856225291000     None   \n",
       "\n",
       "                                                  device  \\\n",
       "0      {'category': 'mobile', 'mobile_brand_name': 'n...   \n",
       "1      {'category': 'mobile', 'mobile_brand_name': 'n...   \n",
       "2      {'category': 'mobile', 'mobile_brand_name': 'n...   \n",
       "3      {'category': 'mobile', 'mobile_brand_name': 'n...   \n",
       "4      {'category': 'mobile', 'mobile_brand_name': 'n...   \n",
       "...                                                  ...   \n",
       "49995  {'category': 'tablet', 'mobile_brand_name': 'n...   \n",
       "49996  {'category': 'mobile', 'mobile_brand_name': 'n...   \n",
       "49997  {'category': 'mobile', 'mobile_brand_name': 'n...   \n",
       "49998  {'category': 'tablet', 'mobile_brand_name': 'n...   \n",
       "49999  {'category': 'tablet', 'mobile_brand_name': 'n...   \n",
       "\n",
       "                                                     geo  \\\n",
       "0      {'continent': 'Americas', 'country': 'Canada',...   \n",
       "1      {'continent': 'Americas', 'country': 'Canada',...   \n",
       "2      {'continent': 'Americas', 'country': 'Canada',...   \n",
       "3      {'continent': 'Americas', 'country': 'Canada',...   \n",
       "4      {'continent': 'Americas', 'country': 'Canada',...   \n",
       "...                                                  ...   \n",
       "49995  {'continent': 'Americas', 'country': 'United S...   \n",
       "49996  {'continent': 'Americas', 'country': 'United S...   \n",
       "49997  {'continent': 'Americas', 'country': 'United S...   \n",
       "49998  {'continent': 'Europe', 'country': 'Switzerlan...   \n",
       "49999  {'continent': 'Europe', 'country': 'Switzerlan...   \n",
       "\n",
       "                                                app_info  \\\n",
       "0      {'id': 'com.labpixies.flood', 'version': '2.62...   \n",
       "1      {'id': 'com.labpixies.flood', 'version': '2.62...   \n",
       "2      {'id': 'com.labpixies.flood', 'version': '2.62...   \n",
       "3      {'id': 'com.labpixies.flood', 'version': '2.62...   \n",
       "4      {'id': 'com.labpixies.flood', 'version': '2.62...   \n",
       "...                                                  ...   \n",
       "49995  {'id': 'com.google.flood2', 'version': '2.6.30...   \n",
       "49996  {'id': 'com.labpixies.flood', 'version': '2.62...   \n",
       "49997  {'id': 'com.labpixies.flood', 'version': '2.62...   \n",
       "49998  {'id': 'com.labpixies.flood', 'version': '2.62...   \n",
       "49999  {'id': 'com.labpixies.flood', 'version': '2.62...   \n",
       "\n",
       "                                          traffic_source   stream_id platform  \\\n",
       "0      {'name': None, 'medium': 'organic', 'source': ...  1051193346  ANDROID   \n",
       "1      {'name': None, 'medium': 'organic', 'source': ...  1051193346  ANDROID   \n",
       "2      {'name': None, 'medium': 'organic', 'source': ...  1051193346  ANDROID   \n",
       "3      {'name': None, 'medium': 'organic', 'source': ...  1051193346  ANDROID   \n",
       "4      {'name': None, 'medium': 'organic', 'source': ...  1051193346  ANDROID   \n",
       "...                                                  ...         ...      ...   \n",
       "49995  {'name': '(direct)', 'medium': '(none)', 'sour...  1051193347      IOS   \n",
       "49996  {'name': None, 'medium': 'organic', 'source': ...  1051193346  ANDROID   \n",
       "49997  {'name': None, 'medium': 'organic', 'source': ...  1051193346  ANDROID   \n",
       "49998  {'name': None, 'medium': 'organic', 'source': ...  1051193346  ANDROID   \n",
       "49999  {'name': None, 'medium': 'organic', 'source': ...  1051193346  ANDROID   \n",
       "\n",
       "      event_dimensions  \n",
       "0                 None  \n",
       "1                 None  \n",
       "2                 None  \n",
       "3                 None  \n",
       "4                 None  \n",
       "...                ...  \n",
       "49995             None  \n",
       "49996             None  \n",
       "49997             None  \n",
       "49998             None  \n",
       "49999             None  \n",
       "\n",
       "[50000 rows x 20 columns]"
      ]
     },
     "execution_count": 10,
     "metadata": {},
     "output_type": "execute_result"
    }
   ],
   "source": [
    "%%bigquery --project $PROJECT_ID\n",
    "\n",
    "SELECT \n",
    "    *\n",
    "FROM\n",
    "  `firebase-public-project.analytics_153293282.events_*`\n",
    "    \n",
    "TABLESAMPLE SYSTEM (1 PERCENT)"
   ]
  },
  {
   "cell_type": "markdown",
   "id": "1c349532",
   "metadata": {},
   "source": [
    "Note: in the cell above, Jupyterlab runs cells starting with `%%bigquery` as SQL queries. "
   ]
  },
  {
   "cell_type": "markdown",
   "id": "301298d2",
   "metadata": {},
   "source": [
    "Google Analytics 4 uses an event based measurement model and each row in this dataset is an event. View the [complete schema](https://support.google.com/analytics/answer/7029846) and details about each column. As you can see above, certain columns are nested records and contain detailed information such as:\n",
    "\n",
    "* app_info\n",
    "* device\n",
    "* ecommerce\n",
    "* event_params\n",
    "* geo\n",
    "* traffic_source\n",
    "* user_properties\n",
    "* items*\n",
    "* web_info*"
   ]
  },
  {
   "cell_type": "markdown",
   "id": "47bbd90b",
   "metadata": {},
   "source": [
    "This dataset contains 5.7M events from 15K+ users."
   ]
  },
  {
   "cell_type": "code",
   "execution_count": 11,
   "id": "80c0833a",
   "metadata": {
    "tags": []
   },
   "outputs": [
    {
     "data": {
      "application/vnd.jupyter.widget-view+json": {
       "model_id": "e0503d77a6b649568b7c9b3faac4ef2e",
       "version_major": 2,
       "version_minor": 0
      },
      "text/plain": [
       "Query is running:   0%|          |"
      ]
     },
     "metadata": {},
     "output_type": "display_data"
    },
    {
     "data": {
      "application/vnd.jupyter.widget-view+json": {
       "model_id": "fb3bca39317444ba8764a0a9c370e1fc",
       "version_major": 2,
       "version_minor": 0
      },
      "text/plain": [
       "Downloading:   0%|          |"
      ]
     },
     "metadata": {},
     "output_type": "display_data"
    },
    {
     "data": {
      "text/html": [
       "<div>\n",
       "<style scoped>\n",
       "    .dataframe tbody tr th:only-of-type {\n",
       "        vertical-align: middle;\n",
       "    }\n",
       "\n",
       "    .dataframe tbody tr th {\n",
       "        vertical-align: top;\n",
       "    }\n",
       "\n",
       "    .dataframe thead th {\n",
       "        text-align: right;\n",
       "    }\n",
       "</style>\n",
       "<table border=\"1\" class=\"dataframe\">\n",
       "  <thead>\n",
       "    <tr style=\"text-align: right;\">\n",
       "      <th></th>\n",
       "      <th>count_distinct_users</th>\n",
       "      <th>count_events</th>\n",
       "    </tr>\n",
       "  </thead>\n",
       "  <tbody>\n",
       "    <tr>\n",
       "      <th>0</th>\n",
       "      <td>15175</td>\n",
       "      <td>5700000</td>\n",
       "    </tr>\n",
       "  </tbody>\n",
       "</table>\n",
       "</div>"
      ],
      "text/plain": [
       "   count_distinct_users  count_events\n",
       "0                 15175       5700000"
      ]
     },
     "execution_count": 11,
     "metadata": {},
     "output_type": "execute_result"
    }
   ],
   "source": [
    "%%bigquery --project $PROJECT_ID\n",
    "\n",
    "SELECT \n",
    "    COUNT(DISTINCT user_pseudo_id) as count_distinct_users,\n",
    "    COUNT(event_timestamp) as count_events\n",
    "FROM\n",
    "  `firebase-public-project.analytics_153293282.events_*`"
   ]
  },
  {
   "cell_type": "markdown",
   "id": "764fbeaa",
   "metadata": {},
   "source": [
    "## Dataset preparation in BigQuery"
   ]
  },
  {
   "cell_type": "markdown",
   "id": "751359e5",
   "metadata": {},
   "source": [
    "Now that you have a better sense for the dataset you will be working with, you will walk through transforming raw event data into a dataset suitable for machine learning using SQL commands in BigQuery. Specifically, you will:\n",
    "\n",
    "* Aggregate events so that each row represents a separate unique user ID.\n",
    "* Define the **user churn label** feature to train your model to prediction (e.g. 1 = churned, 0 = returned).\n",
    "* Create **user demographic** features.\n",
    "* Create **user behavioral** features from aggregated application events."
   ]
  },
  {
   "cell_type": "markdown",
   "id": "0880f4fa",
   "metadata": {},
   "source": [
    "### Defining churn for each user"
   ]
  },
  {
   "cell_type": "markdown",
   "id": "e71540a9",
   "metadata": {},
   "source": [
    "There are many ways to define user churn, but for the purposes of this lab, you will predict 1-day churn as users who do not come back and use the app again after 24 hr of the user's first engagement. This is meant to capture churn after a user's \"first impression\" of the application or onboarding experience.\n",
    "\n",
    "In other words, after 24 hr of a user's first engagement with the app:\n",
    "\n",
    "* if the user shows no event data thereafter, the user is considered **churned**.\n",
    "* if the user does have at least one event datapoint thereafter, then the user is considered **returned**.\n",
    "\n",
    "You may also want to remove users who were unlikely to have ever returned anyway after spending just a few minutes with the app, which is sometimes referred to as \"bouncing\". For example, you will build your model on only on users who spent at least 10 minutes with the app (users who didn't bounce).\n",
    "\n",
    "The query below defines a churned user with the following definition:\n",
    "\n",
    "**Churned = \"any user who spent at least 10 minutes on the app, but after 24 hour from when they first engaged with the app, never used the app again\"**\n",
    "\n",
    "You will use the raw event data, from their first touch (app installation) to their last touch, to identify churned and bounced users in the `user_churn` view query below:"
   ]
  },
  {
   "cell_type": "code",
   "execution_count": 12,
   "id": "1ab5c7d3",
   "metadata": {
    "tags": []
   },
   "outputs": [
    {
     "data": {
      "application/vnd.jupyter.widget-view+json": {
       "model_id": "630fdb22d79a4338ae835cc779e406c1",
       "version_major": 2,
       "version_minor": 0
      },
      "text/plain": [
       "Query is running:   0%|          |"
      ]
     },
     "metadata": {},
     "output_type": "display_data"
    },
    {
     "data": {
      "application/vnd.jupyter.widget-view+json": {
       "model_id": "5458a289d3fd4130a4cd4da2e5e30a5e",
       "version_major": 2,
       "version_minor": 0
      },
      "text/plain": [
       "Downloading:   0%|          |"
      ]
     },
     "metadata": {},
     "output_type": "display_data"
    },
    {
     "data": {
      "text/html": [
       "<div>\n",
       "<style scoped>\n",
       "    .dataframe tbody tr th:only-of-type {\n",
       "        vertical-align: middle;\n",
       "    }\n",
       "\n",
       "    .dataframe tbody tr th {\n",
       "        vertical-align: top;\n",
       "    }\n",
       "\n",
       "    .dataframe thead th {\n",
       "        text-align: right;\n",
       "    }\n",
       "</style>\n",
       "<table border=\"1\" class=\"dataframe\">\n",
       "  <thead>\n",
       "    <tr style=\"text-align: right;\">\n",
       "      <th></th>\n",
       "      <th>user_pseudo_id</th>\n",
       "      <th>user_first_engagement</th>\n",
       "      <th>user_last_engagement</th>\n",
       "      <th>month</th>\n",
       "      <th>julianday</th>\n",
       "      <th>dayofweek</th>\n",
       "      <th>ts_24hr_after_first_engagement</th>\n",
       "      <th>churned</th>\n",
       "      <th>bounced</th>\n",
       "    </tr>\n",
       "  </thead>\n",
       "  <tbody>\n",
       "    <tr>\n",
       "      <th>0</th>\n",
       "      <td>102CC7D8CD5D3E861EACE1BAB97E61EC</td>\n",
       "      <td>1528986108795004</td>\n",
       "      <td>1538531933550003</td>\n",
       "      <td>6</td>\n",
       "      <td>165</td>\n",
       "      <td>5</td>\n",
       "      <td>1529072508795004</td>\n",
       "      <td>0</td>\n",
       "      <td>0</td>\n",
       "    </tr>\n",
       "    <tr>\n",
       "      <th>1</th>\n",
       "      <td>487DE902636DD8A9844A2D61FE7BD568</td>\n",
       "      <td>1528847828665004</td>\n",
       "      <td>1538620516064187</td>\n",
       "      <td>6</td>\n",
       "      <td>163</td>\n",
       "      <td>3</td>\n",
       "      <td>1528934228665004</td>\n",
       "      <td>0</td>\n",
       "      <td>0</td>\n",
       "    </tr>\n",
       "    <tr>\n",
       "      <th>2</th>\n",
       "      <td>7C9FAF890F48FEDAD78C0766EBFFD3CA</td>\n",
       "      <td>1536753056383001</td>\n",
       "      <td>1536980036853006</td>\n",
       "      <td>9</td>\n",
       "      <td>255</td>\n",
       "      <td>4</td>\n",
       "      <td>1536839456383001</td>\n",
       "      <td>0</td>\n",
       "      <td>0</td>\n",
       "    </tr>\n",
       "    <tr>\n",
       "      <th>3</th>\n",
       "      <td>3883FF0DFAB40ECD4EA781FC0D1CE18A</td>\n",
       "      <td>1534977549368003</td>\n",
       "      <td>1538618371667280</td>\n",
       "      <td>8</td>\n",
       "      <td>234</td>\n",
       "      <td>4</td>\n",
       "      <td>1535063949368003</td>\n",
       "      <td>0</td>\n",
       "      <td>0</td>\n",
       "    </tr>\n",
       "    <tr>\n",
       "      <th>4</th>\n",
       "      <td>8D0EAD73C85E48D958042757FEBB37BC</td>\n",
       "      <td>1534589608667004</td>\n",
       "      <td>1536991015901015</td>\n",
       "      <td>8</td>\n",
       "      <td>230</td>\n",
       "      <td>7</td>\n",
       "      <td>1534676008667004</td>\n",
       "      <td>0</td>\n",
       "      <td>0</td>\n",
       "    </tr>\n",
       "    <tr>\n",
       "      <th>...</th>\n",
       "      <td>...</td>\n",
       "      <td>...</td>\n",
       "      <td>...</td>\n",
       "      <td>...</td>\n",
       "      <td>...</td>\n",
       "      <td>...</td>\n",
       "      <td>...</td>\n",
       "      <td>...</td>\n",
       "      <td>...</td>\n",
       "    </tr>\n",
       "    <tr>\n",
       "      <th>95</th>\n",
       "      <td>8E2CA56C1FD81A095DECAEDE6F2ED626</td>\n",
       "      <td>1529011206193007</td>\n",
       "      <td>1538207029426077</td>\n",
       "      <td>6</td>\n",
       "      <td>165</td>\n",
       "      <td>5</td>\n",
       "      <td>1529097606193007</td>\n",
       "      <td>0</td>\n",
       "      <td>0</td>\n",
       "    </tr>\n",
       "    <tr>\n",
       "      <th>96</th>\n",
       "      <td>BCE2A810C0ED8C84CC780FDB6BFD2CAF</td>\n",
       "      <td>1529689166333007</td>\n",
       "      <td>1530214034838002</td>\n",
       "      <td>6</td>\n",
       "      <td>173</td>\n",
       "      <td>6</td>\n",
       "      <td>1529775566333007</td>\n",
       "      <td>0</td>\n",
       "      <td>0</td>\n",
       "    </tr>\n",
       "    <tr>\n",
       "      <th>97</th>\n",
       "      <td>19682EA2300D1B6326F14D0BAA1C1340</td>\n",
       "      <td>1529684987682004</td>\n",
       "      <td>1529686702732350</td>\n",
       "      <td>6</td>\n",
       "      <td>173</td>\n",
       "      <td>6</td>\n",
       "      <td>1529771387682004</td>\n",
       "      <td>1</td>\n",
       "      <td>0</td>\n",
       "    </tr>\n",
       "    <tr>\n",
       "      <th>98</th>\n",
       "      <td>24CBD0F79E21603ABC4F6B1EDD4E50BC</td>\n",
       "      <td>1529698456493001</td>\n",
       "      <td>1538322611999093</td>\n",
       "      <td>6</td>\n",
       "      <td>173</td>\n",
       "      <td>6</td>\n",
       "      <td>1529784856493001</td>\n",
       "      <td>0</td>\n",
       "      <td>0</td>\n",
       "    </tr>\n",
       "    <tr>\n",
       "      <th>99</th>\n",
       "      <td>213F7CCE718883579D85966F63301ADD</td>\n",
       "      <td>1528946181435008</td>\n",
       "      <td>1538403530563013</td>\n",
       "      <td>6</td>\n",
       "      <td>165</td>\n",
       "      <td>5</td>\n",
       "      <td>1529032581435008</td>\n",
       "      <td>0</td>\n",
       "      <td>0</td>\n",
       "    </tr>\n",
       "  </tbody>\n",
       "</table>\n",
       "<p>100 rows × 9 columns</p>\n",
       "</div>"
      ],
      "text/plain": [
       "                      user_pseudo_id  user_first_engagement  \\\n",
       "0   102CC7D8CD5D3E861EACE1BAB97E61EC       1528986108795004   \n",
       "1   487DE902636DD8A9844A2D61FE7BD568       1528847828665004   \n",
       "2   7C9FAF890F48FEDAD78C0766EBFFD3CA       1536753056383001   \n",
       "3   3883FF0DFAB40ECD4EA781FC0D1CE18A       1534977549368003   \n",
       "4   8D0EAD73C85E48D958042757FEBB37BC       1534589608667004   \n",
       "..                               ...                    ...   \n",
       "95  8E2CA56C1FD81A095DECAEDE6F2ED626       1529011206193007   \n",
       "96  BCE2A810C0ED8C84CC780FDB6BFD2CAF       1529689166333007   \n",
       "97  19682EA2300D1B6326F14D0BAA1C1340       1529684987682004   \n",
       "98  24CBD0F79E21603ABC4F6B1EDD4E50BC       1529698456493001   \n",
       "99  213F7CCE718883579D85966F63301ADD       1528946181435008   \n",
       "\n",
       "    user_last_engagement  month  julianday  dayofweek  \\\n",
       "0       1538531933550003      6        165          5   \n",
       "1       1538620516064187      6        163          3   \n",
       "2       1536980036853006      9        255          4   \n",
       "3       1538618371667280      8        234          4   \n",
       "4       1536991015901015      8        230          7   \n",
       "..                   ...    ...        ...        ...   \n",
       "95      1538207029426077      6        165          5   \n",
       "96      1530214034838002      6        173          6   \n",
       "97      1529686702732350      6        173          6   \n",
       "98      1538322611999093      6        173          6   \n",
       "99      1538403530563013      6        165          5   \n",
       "\n",
       "    ts_24hr_after_first_engagement  churned  bounced  \n",
       "0                 1529072508795004        0        0  \n",
       "1                 1528934228665004        0        0  \n",
       "2                 1536839456383001        0        0  \n",
       "3                 1535063949368003        0        0  \n",
       "4                 1534676008667004        0        0  \n",
       "..                             ...      ...      ...  \n",
       "95                1529097606193007        0        0  \n",
       "96                1529775566333007        0        0  \n",
       "97                1529771387682004        1        0  \n",
       "98                1529784856493001        0        0  \n",
       "99                1529032581435008        0        0  \n",
       "\n",
       "[100 rows x 9 columns]"
      ]
     },
     "execution_count": 12,
     "metadata": {},
     "output_type": "execute_result"
    }
   ],
   "source": [
    "%%bigquery --project $PROJECT_ID\n",
    "\n",
    "CREATE OR REPLACE VIEW bqmlga4.user_churn AS (\n",
    "  WITH firstlasttouch AS (\n",
    "    SELECT\n",
    "      user_pseudo_id,\n",
    "      MIN(event_timestamp) AS user_first_engagement,\n",
    "      MAX(event_timestamp) AS user_last_engagement\n",
    "    FROM\n",
    "      `firebase-public-project.analytics_153293282.events_*`\n",
    "    WHERE event_name=\"user_engagement\"\n",
    "    GROUP BY\n",
    "      user_pseudo_id\n",
    "\n",
    "  )\n",
    "  \n",
    "SELECT\n",
    "    user_pseudo_id,\n",
    "    user_first_engagement,\n",
    "    user_last_engagement,\n",
    "    EXTRACT(MONTH from TIMESTAMP_MICROS(user_first_engagement)) as month,\n",
    "    EXTRACT(DAYOFYEAR from TIMESTAMP_MICROS(user_first_engagement)) as julianday,\n",
    "    EXTRACT(DAYOFWEEK from TIMESTAMP_MICROS(user_first_engagement)) as dayofweek,\n",
    "\n",
    "    #add 24 hr to user's first touch\n",
    "    (user_first_engagement + 86400000000) AS ts_24hr_after_first_engagement,\n",
    "    \n",
    "    #churned = 1 if last_touch within 24 hr of app installation, else 0\n",
    "    IF (user_last_engagement < (user_first_engagement + 86400000000),\n",
    "    1,\n",
    "    0 ) AS churned,\n",
    "    \n",
    "    #bounced = 1 if last_touch within 10 min, else 0\n",
    "    IF (user_last_engagement <= (user_first_engagement + 600000000),\n",
    "    1,\n",
    "    0 ) AS bounced,\n",
    "  FROM\n",
    "    firstlasttouch\n",
    "  GROUP BY\n",
    "    user_pseudo_id,\n",
    "    user_first_engagement,\n",
    "    user_last_engagement\n",
    "    );\n",
    "\n",
    "SELECT \n",
    "  * \n",
    "FROM \n",
    "  bqmlga4.user_churn \n",
    "LIMIT 100;"
   ]
  },
  {
   "cell_type": "markdown",
   "id": "b731ce4c",
   "metadata": {},
   "source": [
    "Review how many of the 15k users bounced and returned below:"
   ]
  },
  {
   "cell_type": "code",
   "execution_count": 13,
   "id": "51cdaa9e",
   "metadata": {
    "tags": []
   },
   "outputs": [
    {
     "data": {
      "application/vnd.jupyter.widget-view+json": {
       "model_id": "2cb3bde34d8d42a886f340367e5f437b",
       "version_major": 2,
       "version_minor": 0
      },
      "text/plain": [
       "Query is running:   0%|          |"
      ]
     },
     "metadata": {},
     "output_type": "display_data"
    },
    {
     "data": {
      "application/vnd.jupyter.widget-view+json": {
       "model_id": "ea0dab9ddb06407898c7916a5e04429a",
       "version_major": 2,
       "version_minor": 0
      },
      "text/plain": [
       "Downloading:   0%|          |"
      ]
     },
     "metadata": {},
     "output_type": "display_data"
    },
    {
     "data": {
      "text/html": [
       "<div>\n",
       "<style scoped>\n",
       "    .dataframe tbody tr th:only-of-type {\n",
       "        vertical-align: middle;\n",
       "    }\n",
       "\n",
       "    .dataframe tbody tr th {\n",
       "        vertical-align: top;\n",
       "    }\n",
       "\n",
       "    .dataframe thead th {\n",
       "        text-align: right;\n",
       "    }\n",
       "</style>\n",
       "<table border=\"1\" class=\"dataframe\">\n",
       "  <thead>\n",
       "    <tr style=\"text-align: right;\">\n",
       "      <th></th>\n",
       "      <th>bounced</th>\n",
       "      <th>churned</th>\n",
       "      <th>count_users</th>\n",
       "    </tr>\n",
       "  </thead>\n",
       "  <tbody>\n",
       "    <tr>\n",
       "      <th>0</th>\n",
       "      <td>0</td>\n",
       "      <td>0</td>\n",
       "      <td>6148</td>\n",
       "    </tr>\n",
       "    <tr>\n",
       "      <th>1</th>\n",
       "      <td>0</td>\n",
       "      <td>1</td>\n",
       "      <td>1883</td>\n",
       "    </tr>\n",
       "    <tr>\n",
       "      <th>2</th>\n",
       "      <td>1</td>\n",
       "      <td>1</td>\n",
       "      <td>5557</td>\n",
       "    </tr>\n",
       "  </tbody>\n",
       "</table>\n",
       "</div>"
      ],
      "text/plain": [
       "   bounced  churned  count_users\n",
       "0        0        0         6148\n",
       "1        0        1         1883\n",
       "2        1        1         5557"
      ]
     },
     "execution_count": 13,
     "metadata": {},
     "output_type": "execute_result"
    }
   ],
   "source": [
    "%%bigquery --project $PROJECT_ID\n",
    "\n",
    "SELECT\n",
    "    bounced,\n",
    "    churned, \n",
    "    COUNT(churned) as count_users\n",
    "FROM\n",
    "    bqmlga4.user_churn\n",
    "GROUP BY \n",
    "  bounced,\n",
    "  churned\n",
    "ORDER BY \n",
    "  bounced"
   ]
  },
  {
   "cell_type": "markdown",
   "id": "ab1fc447",
   "metadata": {},
   "source": [
    "For the training data, you will only end up using data where bounced = 0. Based on the 15k users, you can see that 5,557 ( about 41%) users bounced within the first ten minutes of their first engagement with the app. Of the remaining 8,031 users, 1,883 users ( about 23%) churned after 24 hours which you can validate with the query below:"
   ]
  },
  {
   "cell_type": "code",
   "execution_count": 14,
   "id": "b9ae920e",
   "metadata": {
    "tags": []
   },
   "outputs": [
    {
     "data": {
      "application/vnd.jupyter.widget-view+json": {
       "model_id": "db871eb73a6740e3aa9f7f01df494a32",
       "version_major": 2,
       "version_minor": 0
      },
      "text/plain": [
       "Query is running:   0%|          |"
      ]
     },
     "metadata": {},
     "output_type": "display_data"
    },
    {
     "data": {
      "application/vnd.jupyter.widget-view+json": {
       "model_id": "a7bad1b9b86f460ea28df176ccb36bcb",
       "version_major": 2,
       "version_minor": 0
      },
      "text/plain": [
       "Downloading:   0%|          |"
      ]
     },
     "metadata": {},
     "output_type": "display_data"
    },
    {
     "data": {
      "text/html": [
       "<div>\n",
       "<style scoped>\n",
       "    .dataframe tbody tr th:only-of-type {\n",
       "        vertical-align: middle;\n",
       "    }\n",
       "\n",
       "    .dataframe tbody tr th {\n",
       "        vertical-align: top;\n",
       "    }\n",
       "\n",
       "    .dataframe thead th {\n",
       "        text-align: right;\n",
       "    }\n",
       "</style>\n",
       "<table border=\"1\" class=\"dataframe\">\n",
       "  <thead>\n",
       "    <tr style=\"text-align: right;\">\n",
       "      <th></th>\n",
       "      <th>churn_rate</th>\n",
       "    </tr>\n",
       "  </thead>\n",
       "  <tbody>\n",
       "    <tr>\n",
       "      <th>0</th>\n",
       "      <td>0.234466</td>\n",
       "    </tr>\n",
       "  </tbody>\n",
       "</table>\n",
       "</div>"
      ],
      "text/plain": [
       "   churn_rate\n",
       "0    0.234466"
      ]
     },
     "execution_count": 14,
     "metadata": {},
     "output_type": "execute_result"
    }
   ],
   "source": [
    "%%bigquery --project $PROJECT_ID\n",
    "\n",
    "SELECT\n",
    "    COUNTIF(churned=1)/COUNT(churned) as churn_rate\n",
    "FROM\n",
    "    bqmlga4.user_churn\n",
    "WHERE bounced = 0"
   ]
  },
  {
   "cell_type": "markdown",
   "id": "aef78f94",
   "metadata": {},
   "source": [
    "### Extract user demographic features"
   ]
  },
  {
   "cell_type": "markdown",
   "id": "dfea3b94",
   "metadata": {},
   "source": [
    "There is various user demographic information included in this dataset, including `app_info`, `device`, `ecommerce`, `event_params`, and `geo`. Demographic features can help the model predict whether users on certain devices or countries are more likely to churn.\n",
    "\n",
    "Note that a user's demographics may occasionally change (e.g. moving countries). For simplicity, you will use the demographic information that Google Analytics 4 provides when the user first engaged with the app as indicated by MIN(event_timestamp) in the query below. This enables every unique user to be represented by a single row."
   ]
  },
  {
   "cell_type": "code",
   "execution_count": 15,
   "id": "bd36306f",
   "metadata": {
    "tags": []
   },
   "outputs": [
    {
     "data": {
      "application/vnd.jupyter.widget-view+json": {
       "model_id": "eb44e86a7cfb473fb57fd7128969c099",
       "version_major": 2,
       "version_minor": 0
      },
      "text/plain": [
       "Query is running:   0%|          |"
      ]
     },
     "metadata": {},
     "output_type": "display_data"
    },
    {
     "data": {
      "application/vnd.jupyter.widget-view+json": {
       "model_id": "7d991af793d2400e913ce801d7c6acc7",
       "version_major": 2,
       "version_minor": 0
      },
      "text/plain": [
       "Downloading:   0%|          |"
      ]
     },
     "metadata": {},
     "output_type": "display_data"
    },
    {
     "data": {
      "text/html": [
       "<div>\n",
       "<style scoped>\n",
       "    .dataframe tbody tr th:only-of-type {\n",
       "        vertical-align: middle;\n",
       "    }\n",
       "\n",
       "    .dataframe tbody tr th {\n",
       "        vertical-align: top;\n",
       "    }\n",
       "\n",
       "    .dataframe thead th {\n",
       "        text-align: right;\n",
       "    }\n",
       "</style>\n",
       "<table border=\"1\" class=\"dataframe\">\n",
       "  <thead>\n",
       "    <tr style=\"text-align: right;\">\n",
       "      <th></th>\n",
       "      <th>user_pseudo_id</th>\n",
       "      <th>country</th>\n",
       "      <th>operating_system</th>\n",
       "      <th>language</th>\n",
       "    </tr>\n",
       "  </thead>\n",
       "  <tbody>\n",
       "    <tr>\n",
       "      <th>0</th>\n",
       "      <td>027A19BC7A8B6733CE40B0C45FEE37A8</td>\n",
       "      <td>United States</td>\n",
       "      <td>IOS</td>\n",
       "      <td>en-us</td>\n",
       "    </tr>\n",
       "    <tr>\n",
       "      <th>1</th>\n",
       "      <td>034B83486AFF197A0752A6B1E7740298</td>\n",
       "      <td>United States</td>\n",
       "      <td>IOS</td>\n",
       "      <td>en-us</td>\n",
       "    </tr>\n",
       "    <tr>\n",
       "      <th>2</th>\n",
       "      <td>037186922799931ADB388EBC0AD874D2</td>\n",
       "      <td>Australia</td>\n",
       "      <td>IOS</td>\n",
       "      <td>en-au</td>\n",
       "    </tr>\n",
       "    <tr>\n",
       "      <th>3</th>\n",
       "      <td>04165EA2996046BF44B478B53D1F8194</td>\n",
       "      <td>United States</td>\n",
       "      <td>IOS</td>\n",
       "      <td>en-us</td>\n",
       "    </tr>\n",
       "    <tr>\n",
       "      <th>4</th>\n",
       "      <td>056E739B4D312BF4EBB6B7ADA8CF24D3</td>\n",
       "      <td>United States</td>\n",
       "      <td>IOS</td>\n",
       "      <td>en-us</td>\n",
       "    </tr>\n",
       "    <tr>\n",
       "      <th>5</th>\n",
       "      <td>058AE4BB2F67DEA4C6ACAA22AEB71BF2</td>\n",
       "      <td>India</td>\n",
       "      <td>ANDROID</td>\n",
       "      <td>en-gb</td>\n",
       "    </tr>\n",
       "    <tr>\n",
       "      <th>6</th>\n",
       "      <td>09D64A2353D88593021B6ADE40A55089</td>\n",
       "      <td>United States</td>\n",
       "      <td>IOS</td>\n",
       "      <td>en-us</td>\n",
       "    </tr>\n",
       "    <tr>\n",
       "      <th>7</th>\n",
       "      <td>0E2CCDDBF685395F7AB13984405D72DA</td>\n",
       "      <td>United States</td>\n",
       "      <td>IOS</td>\n",
       "      <td>en-us</td>\n",
       "    </tr>\n",
       "    <tr>\n",
       "      <th>8</th>\n",
       "      <td>0E799E05DE124310257B263EF3556AD0</td>\n",
       "      <td>New Zealand</td>\n",
       "      <td>IOS</td>\n",
       "      <td>en-nz</td>\n",
       "    </tr>\n",
       "    <tr>\n",
       "      <th>9</th>\n",
       "      <td>1025F68A65488C13C81112C08A2A8A6A</td>\n",
       "      <td>Japan</td>\n",
       "      <td>IOS</td>\n",
       "      <td>ja-jp</td>\n",
       "    </tr>\n",
       "  </tbody>\n",
       "</table>\n",
       "</div>"
      ],
      "text/plain": [
       "                     user_pseudo_id        country operating_system language\n",
       "0  027A19BC7A8B6733CE40B0C45FEE37A8  United States              IOS    en-us\n",
       "1  034B83486AFF197A0752A6B1E7740298  United States              IOS    en-us\n",
       "2  037186922799931ADB388EBC0AD874D2      Australia              IOS    en-au\n",
       "3  04165EA2996046BF44B478B53D1F8194  United States              IOS    en-us\n",
       "4  056E739B4D312BF4EBB6B7ADA8CF24D3  United States              IOS    en-us\n",
       "5  058AE4BB2F67DEA4C6ACAA22AEB71BF2          India          ANDROID    en-gb\n",
       "6  09D64A2353D88593021B6ADE40A55089  United States              IOS    en-us\n",
       "7  0E2CCDDBF685395F7AB13984405D72DA  United States              IOS    en-us\n",
       "8  0E799E05DE124310257B263EF3556AD0    New Zealand              IOS    en-nz\n",
       "9  1025F68A65488C13C81112C08A2A8A6A          Japan              IOS    ja-jp"
      ]
     },
     "execution_count": 15,
     "metadata": {},
     "output_type": "execute_result"
    }
   ],
   "source": [
    "%%bigquery --project $PROJECT_ID\n",
    "\n",
    "CREATE OR REPLACE VIEW bqmlga4.user_demographics AS (\n",
    "\n",
    "  WITH first_values AS (\n",
    "      SELECT\n",
    "          user_pseudo_id,\n",
    "          geo.country as country,\n",
    "          device.operating_system as operating_system,\n",
    "          device.language as language,\n",
    "          ROW_NUMBER() OVER (PARTITION BY user_pseudo_id ORDER BY event_timestamp DESC) AS row_num\n",
    "      FROM `firebase-public-project.analytics_153293282.events_*`\n",
    "      WHERE event_name=\"user_engagement\"\n",
    "      )\n",
    "  SELECT * EXCEPT (row_num)\n",
    "  FROM first_values\n",
    "  WHERE row_num = 1\n",
    "  );\n",
    "\n",
    "SELECT\n",
    "  *\n",
    "FROM\n",
    "  bqmlga4.user_demographics\n",
    "LIMIT 10"
   ]
  },
  {
   "cell_type": "markdown",
   "id": "11abe88b",
   "metadata": {},
   "source": [
    "### Aggregate user behavioral features"
   ]
  },
  {
   "cell_type": "markdown",
   "id": "71dfe78b",
   "metadata": {},
   "source": [
    "Behavioral data in the raw event data spans across multiple events -- and thus rows -- per user. The goal of this section is to aggregate and extract behavioral data for each user, resulting in one row of behavioral data per unique user.\n",
    "\n"
   ]
  },
  {
   "cell_type": "markdown",
   "id": "b9be082c",
   "metadata": {},
   "source": [
    "As a first step, you can explore all the unique events that exist in this dataset, based on event_name:"
   ]
  },
  {
   "cell_type": "code",
   "execution_count": 16,
   "id": "debac29c",
   "metadata": {
    "tags": []
   },
   "outputs": [
    {
     "data": {
      "application/vnd.jupyter.widget-view+json": {
       "model_id": "05e0e9b85e294681aeefbe79a16d5643",
       "version_major": 2,
       "version_minor": 0
      },
      "text/plain": [
       "Query is running:   0%|          |"
      ]
     },
     "metadata": {},
     "output_type": "display_data"
    },
    {
     "data": {
      "application/vnd.jupyter.widget-view+json": {
       "model_id": "21b8f960cf7b4d06b3cbbc90921faba8",
       "version_major": 2,
       "version_minor": 0
      },
      "text/plain": [
       "Downloading:   0%|          |"
      ]
     },
     "metadata": {},
     "output_type": "display_data"
    },
    {
     "data": {
      "text/html": [
       "<div>\n",
       "<style scoped>\n",
       "    .dataframe tbody tr th:only-of-type {\n",
       "        vertical-align: middle;\n",
       "    }\n",
       "\n",
       "    .dataframe tbody tr th {\n",
       "        vertical-align: top;\n",
       "    }\n",
       "\n",
       "    .dataframe thead th {\n",
       "        text-align: right;\n",
       "    }\n",
       "</style>\n",
       "<table border=\"1\" class=\"dataframe\">\n",
       "  <thead>\n",
       "    <tr style=\"text-align: right;\">\n",
       "      <th></th>\n",
       "      <th>event_name</th>\n",
       "      <th>event_count</th>\n",
       "    </tr>\n",
       "  </thead>\n",
       "  <tbody>\n",
       "    <tr>\n",
       "      <th>0</th>\n",
       "      <td>screen_view</td>\n",
       "      <td>2247623</td>\n",
       "    </tr>\n",
       "    <tr>\n",
       "      <th>1</th>\n",
       "      <td>user_engagement</td>\n",
       "      <td>1358958</td>\n",
       "    </tr>\n",
       "    <tr>\n",
       "      <th>2</th>\n",
       "      <td>level_start_quickplay</td>\n",
       "      <td>523430</td>\n",
       "    </tr>\n",
       "    <tr>\n",
       "      <th>3</th>\n",
       "      <td>level_end_quickplay</td>\n",
       "      <td>349729</td>\n",
       "    </tr>\n",
       "    <tr>\n",
       "      <th>4</th>\n",
       "      <td>post_score</td>\n",
       "      <td>242051</td>\n",
       "    </tr>\n",
       "    <tr>\n",
       "      <th>5</th>\n",
       "      <td>level_complete_quickplay</td>\n",
       "      <td>191088</td>\n",
       "    </tr>\n",
       "    <tr>\n",
       "      <th>6</th>\n",
       "      <td>level_fail_quickplay</td>\n",
       "      <td>137035</td>\n",
       "    </tr>\n",
       "    <tr>\n",
       "      <th>7</th>\n",
       "      <td>level_reset_quickplay</td>\n",
       "      <td>122278</td>\n",
       "    </tr>\n",
       "    <tr>\n",
       "      <th>8</th>\n",
       "      <td>select_content</td>\n",
       "      <td>105139</td>\n",
       "    </tr>\n",
       "    <tr>\n",
       "      <th>9</th>\n",
       "      <td>level_start</td>\n",
       "      <td>74417</td>\n",
       "    </tr>\n",
       "    <tr>\n",
       "      <th>10</th>\n",
       "      <td>session_start</td>\n",
       "      <td>74353</td>\n",
       "    </tr>\n",
       "    <tr>\n",
       "      <th>11</th>\n",
       "      <td>level_end</td>\n",
       "      <td>54582</td>\n",
       "    </tr>\n",
       "    <tr>\n",
       "      <th>12</th>\n",
       "      <td>level_retry</td>\n",
       "      <td>43345</td>\n",
       "    </tr>\n",
       "    <tr>\n",
       "      <th>13</th>\n",
       "      <td>level_up</td>\n",
       "      <td>35666</td>\n",
       "    </tr>\n",
       "    <tr>\n",
       "      <th>14</th>\n",
       "      <td>level_complete</td>\n",
       "      <td>33986</td>\n",
       "    </tr>\n",
       "    <tr>\n",
       "      <th>15</th>\n",
       "      <td>level_retry_quickplay</td>\n",
       "      <td>29939</td>\n",
       "    </tr>\n",
       "    <tr>\n",
       "      <th>16</th>\n",
       "      <td>level_fail</td>\n",
       "      <td>17353</td>\n",
       "    </tr>\n",
       "    <tr>\n",
       "      <th>17</th>\n",
       "      <td>spend_virtual_currency</td>\n",
       "      <td>9363</td>\n",
       "    </tr>\n",
       "    <tr>\n",
       "      <th>18</th>\n",
       "      <td>use_extra_steps</td>\n",
       "      <td>8945</td>\n",
       "    </tr>\n",
       "    <tr>\n",
       "      <th>19</th>\n",
       "      <td>level_reset</td>\n",
       "      <td>8535</td>\n",
       "    </tr>\n",
       "    <tr>\n",
       "      <th>20</th>\n",
       "      <td>firebase_campaign</td>\n",
       "      <td>5411</td>\n",
       "    </tr>\n",
       "    <tr>\n",
       "      <th>21</th>\n",
       "      <td>app_exception</td>\n",
       "      <td>5156</td>\n",
       "    </tr>\n",
       "    <tr>\n",
       "      <th>22</th>\n",
       "      <td>first_open</td>\n",
       "      <td>4322</td>\n",
       "    </tr>\n",
       "    <tr>\n",
       "      <th>23</th>\n",
       "      <td>os_update</td>\n",
       "      <td>3290</td>\n",
       "    </tr>\n",
       "    <tr>\n",
       "      <th>24</th>\n",
       "      <td>no_more_extra_steps</td>\n",
       "      <td>2792</td>\n",
       "    </tr>\n",
       "    <tr>\n",
       "      <th>25</th>\n",
       "      <td>app_remove</td>\n",
       "      <td>2639</td>\n",
       "    </tr>\n",
       "    <tr>\n",
       "      <th>26</th>\n",
       "      <td>app_update</td>\n",
       "      <td>2473</td>\n",
       "    </tr>\n",
       "    <tr>\n",
       "      <th>27</th>\n",
       "      <td>ad_reward</td>\n",
       "      <td>1912</td>\n",
       "    </tr>\n",
       "    <tr>\n",
       "      <th>28</th>\n",
       "      <td>completed_5_levels</td>\n",
       "      <td>1867</td>\n",
       "    </tr>\n",
       "    <tr>\n",
       "      <th>29</th>\n",
       "      <td>error</td>\n",
       "      <td>1714</td>\n",
       "    </tr>\n",
       "    <tr>\n",
       "      <th>30</th>\n",
       "      <td>challenge_a_friend</td>\n",
       "      <td>524</td>\n",
       "    </tr>\n",
       "    <tr>\n",
       "      <th>31</th>\n",
       "      <td>in_app_purchase</td>\n",
       "      <td>27</td>\n",
       "    </tr>\n",
       "    <tr>\n",
       "      <th>32</th>\n",
       "      <td>dynamic_link_app_open</td>\n",
       "      <td>19</td>\n",
       "    </tr>\n",
       "    <tr>\n",
       "      <th>33</th>\n",
       "      <td>app_clear_data</td>\n",
       "      <td>17</td>\n",
       "    </tr>\n",
       "    <tr>\n",
       "      <th>34</th>\n",
       "      <td>dynamic_link_first_open</td>\n",
       "      <td>16</td>\n",
       "    </tr>\n",
       "    <tr>\n",
       "      <th>35</th>\n",
       "      <td>challenge_accepted</td>\n",
       "      <td>5</td>\n",
       "    </tr>\n",
       "    <tr>\n",
       "      <th>36</th>\n",
       "      <td>notification_foreground</td>\n",
       "      <td>1</td>\n",
       "    </tr>\n",
       "  </tbody>\n",
       "</table>\n",
       "</div>"
      ],
      "text/plain": [
       "                  event_name  event_count\n",
       "0                screen_view      2247623\n",
       "1            user_engagement      1358958\n",
       "2      level_start_quickplay       523430\n",
       "3        level_end_quickplay       349729\n",
       "4                 post_score       242051\n",
       "5   level_complete_quickplay       191088\n",
       "6       level_fail_quickplay       137035\n",
       "7      level_reset_quickplay       122278\n",
       "8             select_content       105139\n",
       "9                level_start        74417\n",
       "10             session_start        74353\n",
       "11                 level_end        54582\n",
       "12               level_retry        43345\n",
       "13                  level_up        35666\n",
       "14            level_complete        33986\n",
       "15     level_retry_quickplay        29939\n",
       "16                level_fail        17353\n",
       "17    spend_virtual_currency         9363\n",
       "18           use_extra_steps         8945\n",
       "19               level_reset         8535\n",
       "20         firebase_campaign         5411\n",
       "21             app_exception         5156\n",
       "22                first_open         4322\n",
       "23                 os_update         3290\n",
       "24       no_more_extra_steps         2792\n",
       "25                app_remove         2639\n",
       "26                app_update         2473\n",
       "27                 ad_reward         1912\n",
       "28        completed_5_levels         1867\n",
       "29                     error         1714\n",
       "30        challenge_a_friend          524\n",
       "31           in_app_purchase           27\n",
       "32     dynamic_link_app_open           19\n",
       "33            app_clear_data           17\n",
       "34   dynamic_link_first_open           16\n",
       "35        challenge_accepted            5\n",
       "36   notification_foreground            1"
      ]
     },
     "execution_count": 16,
     "metadata": {},
     "output_type": "execute_result"
    }
   ],
   "source": [
    "%%bigquery --project $PROJECT_ID\n",
    "\n",
    "SELECT\n",
    "  event_name,\n",
    "  COUNT(event_name) as event_count\n",
    "FROM\n",
    "    `firebase-public-project.analytics_153293282.events_*`\n",
    "GROUP BY \n",
    "  event_name\n",
    "ORDER BY\n",
    "   event_count DESC"
   ]
  },
  {
   "cell_type": "markdown",
   "id": "6596f7be",
   "metadata": {},
   "source": [
    "For this lab, to predict whether a user will churn or return, you can start by counting the number of times a user engages in the following event types:\n",
    "\n",
    "* user_engagement\n",
    "* level_start_quickplay\n",
    "* level_end_quickplay\n",
    "* level_complete_quickplay\n",
    "* level_reset_quickplay\n",
    "* post_score\n",
    "* spend_virtual_currency\n",
    "* ad_reward\n",
    "* challenge_a_friend\n",
    "* completed_5_levels\n",
    "* use_extra_steps"
   ]
  },
  {
   "cell_type": "markdown",
   "id": "60502c0a",
   "metadata": {},
   "source": [
    "In the SQL query below, you will aggregate the behavioral data by calculating the total number of times when each of the above event_names occurred in the data set per user."
   ]
  },
  {
   "cell_type": "code",
   "execution_count": 17,
   "id": "b016e18d",
   "metadata": {
    "tags": []
   },
   "outputs": [
    {
     "data": {
      "application/vnd.jupyter.widget-view+json": {
       "model_id": "62ceda3ca9fd4f95ab6d1a78a1745827",
       "version_major": 2,
       "version_minor": 0
      },
      "text/plain": [
       "Query is running:   0%|          |"
      ]
     },
     "metadata": {},
     "output_type": "display_data"
    },
    {
     "data": {
      "application/vnd.jupyter.widget-view+json": {
       "model_id": "b18cc0340e324a6fb764cdae432a4bcf",
       "version_major": 2,
       "version_minor": 0
      },
      "text/plain": [
       "Downloading:   0%|          |"
      ]
     },
     "metadata": {},
     "output_type": "display_data"
    },
    {
     "data": {
      "text/html": [
       "<div>\n",
       "<style scoped>\n",
       "    .dataframe tbody tr th:only-of-type {\n",
       "        vertical-align: middle;\n",
       "    }\n",
       "\n",
       "    .dataframe tbody tr th {\n",
       "        vertical-align: top;\n",
       "    }\n",
       "\n",
       "    .dataframe thead th {\n",
       "        text-align: right;\n",
       "    }\n",
       "</style>\n",
       "<table border=\"1\" class=\"dataframe\">\n",
       "  <thead>\n",
       "    <tr style=\"text-align: right;\">\n",
       "      <th></th>\n",
       "      <th>user_pseudo_id</th>\n",
       "      <th>cnt_user_engagement</th>\n",
       "      <th>cnt_level_start_quickplay</th>\n",
       "      <th>cnt_level_end_quickplay</th>\n",
       "      <th>cnt_level_complete_quickplay</th>\n",
       "      <th>cnt_level_reset_quickplay</th>\n",
       "      <th>cnt_post_score</th>\n",
       "      <th>cnt_spend_virtual_currency</th>\n",
       "      <th>cnt_ad_reward</th>\n",
       "      <th>cnt_challenge_a_friend</th>\n",
       "      <th>cnt_completed_5_levels</th>\n",
       "      <th>cnt_use_extra_steps</th>\n",
       "    </tr>\n",
       "  </thead>\n",
       "  <tbody>\n",
       "    <tr>\n",
       "      <th>0</th>\n",
       "      <td>077277C88E7D330761F5272DB2EEE43A</td>\n",
       "      <td>7</td>\n",
       "      <td>1</td>\n",
       "      <td>1</td>\n",
       "      <td>0</td>\n",
       "      <td>0</td>\n",
       "      <td>0</td>\n",
       "      <td>0</td>\n",
       "      <td>0</td>\n",
       "      <td>0</td>\n",
       "      <td>0</td>\n",
       "      <td>0</td>\n",
       "    </tr>\n",
       "    <tr>\n",
       "      <th>1</th>\n",
       "      <td>5A7EB17BF7D867AADECA2FDAF0941E88</td>\n",
       "      <td>18</td>\n",
       "      <td>5</td>\n",
       "      <td>5</td>\n",
       "      <td>1</td>\n",
       "      <td>0</td>\n",
       "      <td>1</td>\n",
       "      <td>0</td>\n",
       "      <td>0</td>\n",
       "      <td>0</td>\n",
       "      <td>0</td>\n",
       "      <td>0</td>\n",
       "    </tr>\n",
       "    <tr>\n",
       "      <th>2</th>\n",
       "      <td>D1F53693AA457A127407EBA024A07EE4</td>\n",
       "      <td>313</td>\n",
       "      <td>0</td>\n",
       "      <td>0</td>\n",
       "      <td>0</td>\n",
       "      <td>0</td>\n",
       "      <td>12</td>\n",
       "      <td>2</td>\n",
       "      <td>0</td>\n",
       "      <td>0</td>\n",
       "      <td>1</td>\n",
       "      <td>2</td>\n",
       "    </tr>\n",
       "    <tr>\n",
       "      <th>3</th>\n",
       "      <td>89AEBF194D3F03A61FFFB9A6B037D7C4</td>\n",
       "      <td>23</td>\n",
       "      <td>0</td>\n",
       "      <td>0</td>\n",
       "      <td>0</td>\n",
       "      <td>0</td>\n",
       "      <td>6</td>\n",
       "      <td>0</td>\n",
       "      <td>0</td>\n",
       "      <td>0</td>\n",
       "      <td>1</td>\n",
       "      <td>0</td>\n",
       "    </tr>\n",
       "    <tr>\n",
       "      <th>4</th>\n",
       "      <td>87459F7AF77EBBD1C5A36EF65193CF78</td>\n",
       "      <td>15</td>\n",
       "      <td>0</td>\n",
       "      <td>0</td>\n",
       "      <td>0</td>\n",
       "      <td>0</td>\n",
       "      <td>5</td>\n",
       "      <td>0</td>\n",
       "      <td>0</td>\n",
       "      <td>0</td>\n",
       "      <td>1</td>\n",
       "      <td>0</td>\n",
       "    </tr>\n",
       "    <tr>\n",
       "      <th>5</th>\n",
       "      <td>0224B89E5A7079D57A98B240CBFFE3DB</td>\n",
       "      <td>7</td>\n",
       "      <td>1</td>\n",
       "      <td>1</td>\n",
       "      <td>1</td>\n",
       "      <td>0</td>\n",
       "      <td>1</td>\n",
       "      <td>0</td>\n",
       "      <td>0</td>\n",
       "      <td>0</td>\n",
       "      <td>0</td>\n",
       "      <td>0</td>\n",
       "    </tr>\n",
       "    <tr>\n",
       "      <th>6</th>\n",
       "      <td>73279D192EE4941DEBE4373EC34062C1</td>\n",
       "      <td>5</td>\n",
       "      <td>0</td>\n",
       "      <td>0</td>\n",
       "      <td>0</td>\n",
       "      <td>0</td>\n",
       "      <td>0</td>\n",
       "      <td>0</td>\n",
       "      <td>0</td>\n",
       "      <td>0</td>\n",
       "      <td>0</td>\n",
       "      <td>0</td>\n",
       "    </tr>\n",
       "    <tr>\n",
       "      <th>7</th>\n",
       "      <td>AC0C85700506DC00E590302F7BEDF065</td>\n",
       "      <td>1</td>\n",
       "      <td>0</td>\n",
       "      <td>0</td>\n",
       "      <td>0</td>\n",
       "      <td>0</td>\n",
       "      <td>0</td>\n",
       "      <td>0</td>\n",
       "      <td>0</td>\n",
       "      <td>0</td>\n",
       "      <td>0</td>\n",
       "      <td>0</td>\n",
       "    </tr>\n",
       "    <tr>\n",
       "      <th>8</th>\n",
       "      <td>26DEC6A6F24503E1B5939452B8A4FD9A</td>\n",
       "      <td>12</td>\n",
       "      <td>4</td>\n",
       "      <td>2</td>\n",
       "      <td>1</td>\n",
       "      <td>0</td>\n",
       "      <td>1</td>\n",
       "      <td>0</td>\n",
       "      <td>0</td>\n",
       "      <td>0</td>\n",
       "      <td>0</td>\n",
       "      <td>0</td>\n",
       "    </tr>\n",
       "    <tr>\n",
       "      <th>9</th>\n",
       "      <td>269EE73F71332F51BD32D77A5823CAE3</td>\n",
       "      <td>11</td>\n",
       "      <td>2</td>\n",
       "      <td>0</td>\n",
       "      <td>0</td>\n",
       "      <td>0</td>\n",
       "      <td>0</td>\n",
       "      <td>0</td>\n",
       "      <td>0</td>\n",
       "      <td>0</td>\n",
       "      <td>0</td>\n",
       "      <td>0</td>\n",
       "    </tr>\n",
       "  </tbody>\n",
       "</table>\n",
       "</div>"
      ],
      "text/plain": [
       "                     user_pseudo_id  cnt_user_engagement  \\\n",
       "0  077277C88E7D330761F5272DB2EEE43A                    7   \n",
       "1  5A7EB17BF7D867AADECA2FDAF0941E88                   18   \n",
       "2  D1F53693AA457A127407EBA024A07EE4                  313   \n",
       "3  89AEBF194D3F03A61FFFB9A6B037D7C4                   23   \n",
       "4  87459F7AF77EBBD1C5A36EF65193CF78                   15   \n",
       "5  0224B89E5A7079D57A98B240CBFFE3DB                    7   \n",
       "6  73279D192EE4941DEBE4373EC34062C1                    5   \n",
       "7  AC0C85700506DC00E590302F7BEDF065                    1   \n",
       "8  26DEC6A6F24503E1B5939452B8A4FD9A                   12   \n",
       "9  269EE73F71332F51BD32D77A5823CAE3                   11   \n",
       "\n",
       "   cnt_level_start_quickplay  cnt_level_end_quickplay  \\\n",
       "0                          1                        1   \n",
       "1                          5                        5   \n",
       "2                          0                        0   \n",
       "3                          0                        0   \n",
       "4                          0                        0   \n",
       "5                          1                        1   \n",
       "6                          0                        0   \n",
       "7                          0                        0   \n",
       "8                          4                        2   \n",
       "9                          2                        0   \n",
       "\n",
       "   cnt_level_complete_quickplay  cnt_level_reset_quickplay  cnt_post_score  \\\n",
       "0                             0                          0               0   \n",
       "1                             1                          0               1   \n",
       "2                             0                          0              12   \n",
       "3                             0                          0               6   \n",
       "4                             0                          0               5   \n",
       "5                             1                          0               1   \n",
       "6                             0                          0               0   \n",
       "7                             0                          0               0   \n",
       "8                             1                          0               1   \n",
       "9                             0                          0               0   \n",
       "\n",
       "   cnt_spend_virtual_currency  cnt_ad_reward  cnt_challenge_a_friend  \\\n",
       "0                           0              0                       0   \n",
       "1                           0              0                       0   \n",
       "2                           2              0                       0   \n",
       "3                           0              0                       0   \n",
       "4                           0              0                       0   \n",
       "5                           0              0                       0   \n",
       "6                           0              0                       0   \n",
       "7                           0              0                       0   \n",
       "8                           0              0                       0   \n",
       "9                           0              0                       0   \n",
       "\n",
       "   cnt_completed_5_levels  cnt_use_extra_steps  \n",
       "0                       0                    0  \n",
       "1                       0                    0  \n",
       "2                       1                    2  \n",
       "3                       1                    0  \n",
       "4                       1                    0  \n",
       "5                       0                    0  \n",
       "6                       0                    0  \n",
       "7                       0                    0  \n",
       "8                       0                    0  \n",
       "9                       0                    0  "
      ]
     },
     "execution_count": 17,
     "metadata": {},
     "output_type": "execute_result"
    }
   ],
   "source": [
    "%%bigquery --project $PROJECT_ID\n",
    "\n",
    "CREATE OR REPLACE VIEW bqmlga4.user_behavior AS (\n",
    "WITH\n",
    "  events_first24hr AS (\n",
    "    # Select user data only from first 24 hr of using the app.\n",
    "    SELECT\n",
    "      e.*\n",
    "    FROM\n",
    "      `firebase-public-project.analytics_153293282.events_*` e\n",
    "    JOIN\n",
    "      bqmlga4.user_churn c\n",
    "    ON\n",
    "      e.user_pseudo_id = c.user_pseudo_id\n",
    "    WHERE\n",
    "      e.event_timestamp <= c.ts_24hr_after_first_engagement\n",
    "    )\n",
    "SELECT\n",
    "  user_pseudo_id,\n",
    "  SUM(IF(event_name = 'user_engagement', 1, 0)) AS cnt_user_engagement,\n",
    "  SUM(IF(event_name = 'level_start_quickplay', 1, 0)) AS cnt_level_start_quickplay,\n",
    "  SUM(IF(event_name = 'level_end_quickplay', 1, 0)) AS cnt_level_end_quickplay,\n",
    "  SUM(IF(event_name = 'level_complete_quickplay', 1, 0)) AS cnt_level_complete_quickplay,\n",
    "  SUM(IF(event_name = 'level_reset_quickplay', 1, 0)) AS cnt_level_reset_quickplay,\n",
    "  SUM(IF(event_name = 'post_score', 1, 0)) AS cnt_post_score,\n",
    "  SUM(IF(event_name = 'spend_virtual_currency', 1, 0)) AS cnt_spend_virtual_currency,\n",
    "  SUM(IF(event_name = 'ad_reward', 1, 0)) AS cnt_ad_reward,\n",
    "  SUM(IF(event_name = 'challenge_a_friend', 1, 0)) AS cnt_challenge_a_friend,\n",
    "  SUM(IF(event_name = 'completed_5_levels', 1, 0)) AS cnt_completed_5_levels,\n",
    "  SUM(IF(event_name = 'use_extra_steps', 1, 0)) AS cnt_use_extra_steps,\n",
    "FROM\n",
    "  events_first24hr\n",
    "GROUP BY\n",
    "  user_pseudo_id\n",
    "  );\n",
    "\n",
    "SELECT\n",
    "  *\n",
    "FROM\n",
    "  bqmlga4.user_behavior\n",
    "LIMIT 10"
   ]
  },
  {
   "cell_type": "markdown",
   "id": "77089f30",
   "metadata": {},
   "source": [
    "### Prepare your train/eval/test datasets for machine learning"
   ]
  },
  {
   "cell_type": "markdown",
   "id": "8a868015",
   "metadata": {},
   "source": [
    "In this section, you can now combine these three intermediary views (`user_churn`, `user_demographics`, and `user_behavior`) into the final training data view called `ml_features`. Here you can also specify bounced = 0, in order to limit the training data only to users who did not \"bounce\" within the first 10 minutes of using the app.\n",
    "\n",
    "Note in the query below that a manual `data_split` column is created in your BigQuery ML table using [BigQuery's hashing functions](https://towardsdatascience.com/ml-design-pattern-5-repeatable-sampling-c0ccb2889f39) for repeatable sampling. It specifies a 80% train | 10% eval | 20% test split to evaluate your model's performance and generalization."
   ]
  },
  {
   "cell_type": "code",
   "execution_count": 18,
   "id": "448138e6",
   "metadata": {
    "tags": []
   },
   "outputs": [
    {
     "data": {
      "application/vnd.jupyter.widget-view+json": {
       "model_id": "54c7cbbcdad446a3a974cb0569031095",
       "version_major": 2,
       "version_minor": 0
      },
      "text/plain": [
       "Query is running:   0%|          |"
      ]
     },
     "metadata": {},
     "output_type": "display_data"
    },
    {
     "data": {
      "application/vnd.jupyter.widget-view+json": {
       "model_id": "da270b7d97534a459b618ae44dbb77d0",
       "version_major": 2,
       "version_minor": 0
      },
      "text/plain": [
       "Downloading:   0%|          |"
      ]
     },
     "metadata": {},
     "output_type": "display_data"
    },
    {
     "data": {
      "text/html": [
       "<div>\n",
       "<style scoped>\n",
       "    .dataframe tbody tr th:only-of-type {\n",
       "        vertical-align: middle;\n",
       "    }\n",
       "\n",
       "    .dataframe tbody tr th {\n",
       "        vertical-align: top;\n",
       "    }\n",
       "\n",
       "    .dataframe thead th {\n",
       "        text-align: right;\n",
       "    }\n",
       "</style>\n",
       "<table border=\"1\" class=\"dataframe\">\n",
       "  <thead>\n",
       "    <tr style=\"text-align: right;\">\n",
       "      <th></th>\n",
       "      <th>user_pseudo_id</th>\n",
       "      <th>country</th>\n",
       "      <th>operating_system</th>\n",
       "      <th>language</th>\n",
       "      <th>cnt_user_engagement</th>\n",
       "      <th>cnt_level_start_quickplay</th>\n",
       "      <th>cnt_level_end_quickplay</th>\n",
       "      <th>cnt_level_complete_quickplay</th>\n",
       "      <th>cnt_level_reset_quickplay</th>\n",
       "      <th>cnt_post_score</th>\n",
       "      <th>...</th>\n",
       "      <th>cnt_ad_reward</th>\n",
       "      <th>cnt_challenge_a_friend</th>\n",
       "      <th>cnt_completed_5_levels</th>\n",
       "      <th>cnt_use_extra_steps</th>\n",
       "      <th>user_first_engagement</th>\n",
       "      <th>month</th>\n",
       "      <th>julianday</th>\n",
       "      <th>dayofweek</th>\n",
       "      <th>churned</th>\n",
       "      <th>data_split</th>\n",
       "    </tr>\n",
       "  </thead>\n",
       "  <tbody>\n",
       "    <tr>\n",
       "      <th>0</th>\n",
       "      <td>68495553C4E4675C74F6476A12E92ADB</td>\n",
       "      <td>India</td>\n",
       "      <td>ANDROID</td>\n",
       "      <td>enXin</td>\n",
       "      <td>38</td>\n",
       "      <td>2</td>\n",
       "      <td>2</td>\n",
       "      <td>1</td>\n",
       "      <td>0</td>\n",
       "      <td>6</td>\n",
       "      <td>...</td>\n",
       "      <td>0</td>\n",
       "      <td>0</td>\n",
       "      <td>1</td>\n",
       "      <td>0</td>\n",
       "      <td>1531760680776001</td>\n",
       "      <td>7</td>\n",
       "      <td>197</td>\n",
       "      <td>2</td>\n",
       "      <td>0</td>\n",
       "      <td>TEST</td>\n",
       "    </tr>\n",
       "    <tr>\n",
       "      <th>1</th>\n",
       "      <td>3376C102EBF491B5CB84B43759FE3433</td>\n",
       "      <td>United States</td>\n",
       "      <td>ANDROID</td>\n",
       "      <td>enXus</td>\n",
       "      <td>67</td>\n",
       "      <td>21</td>\n",
       "      <td>20</td>\n",
       "      <td>11</td>\n",
       "      <td>0</td>\n",
       "      <td>11</td>\n",
       "      <td>...</td>\n",
       "      <td>0</td>\n",
       "      <td>0</td>\n",
       "      <td>0</td>\n",
       "      <td>0</td>\n",
       "      <td>1529031003235000</td>\n",
       "      <td>6</td>\n",
       "      <td>166</td>\n",
       "      <td>6</td>\n",
       "      <td>0</td>\n",
       "      <td>TRAIN</td>\n",
       "    </tr>\n",
       "    <tr>\n",
       "      <th>2</th>\n",
       "      <td>93236F1DDE9EAA3DFFD60A57DDA2DC1B</td>\n",
       "      <td>France</td>\n",
       "      <td>ANDROID</td>\n",
       "      <td>enXgb</td>\n",
       "      <td>13</td>\n",
       "      <td>8</td>\n",
       "      <td>3</td>\n",
       "      <td>0</td>\n",
       "      <td>4</td>\n",
       "      <td>0</td>\n",
       "      <td>...</td>\n",
       "      <td>0</td>\n",
       "      <td>0</td>\n",
       "      <td>0</td>\n",
       "      <td>0</td>\n",
       "      <td>1529679015721003</td>\n",
       "      <td>6</td>\n",
       "      <td>173</td>\n",
       "      <td>6</td>\n",
       "      <td>0</td>\n",
       "      <td>TRAIN</td>\n",
       "    </tr>\n",
       "    <tr>\n",
       "      <th>3</th>\n",
       "      <td>D34924C19421D7E083FD387D97765F94</td>\n",
       "      <td>United States</td>\n",
       "      <td>ANDROID</td>\n",
       "      <td>enXus</td>\n",
       "      <td>16</td>\n",
       "      <td>5</td>\n",
       "      <td>4</td>\n",
       "      <td>0</td>\n",
       "      <td>0</td>\n",
       "      <td>0</td>\n",
       "      <td>...</td>\n",
       "      <td>0</td>\n",
       "      <td>0</td>\n",
       "      <td>0</td>\n",
       "      <td>0</td>\n",
       "      <td>1530539987485001</td>\n",
       "      <td>7</td>\n",
       "      <td>183</td>\n",
       "      <td>2</td>\n",
       "      <td>0</td>\n",
       "      <td>TRAIN</td>\n",
       "    </tr>\n",
       "    <tr>\n",
       "      <th>4</th>\n",
       "      <td>4A93C01615B33FF5804AF8D19895247F</td>\n",
       "      <td>United States</td>\n",
       "      <td>ANDROID</td>\n",
       "      <td>enXus</td>\n",
       "      <td>24</td>\n",
       "      <td>9</td>\n",
       "      <td>8</td>\n",
       "      <td>5</td>\n",
       "      <td>0</td>\n",
       "      <td>5</td>\n",
       "      <td>...</td>\n",
       "      <td>0</td>\n",
       "      <td>0</td>\n",
       "      <td>0</td>\n",
       "      <td>0</td>\n",
       "      <td>1531257123370003</td>\n",
       "      <td>7</td>\n",
       "      <td>191</td>\n",
       "      <td>3</td>\n",
       "      <td>0</td>\n",
       "      <td>TRAIN</td>\n",
       "    </tr>\n",
       "    <tr>\n",
       "      <th>5</th>\n",
       "      <td>3A58859E074B02E8FB1CAEA291636112</td>\n",
       "      <td>United States</td>\n",
       "      <td>ANDROID</td>\n",
       "      <td>enXus</td>\n",
       "      <td>5</td>\n",
       "      <td>2</td>\n",
       "      <td>1</td>\n",
       "      <td>0</td>\n",
       "      <td>0</td>\n",
       "      <td>1</td>\n",
       "      <td>...</td>\n",
       "      <td>0</td>\n",
       "      <td>0</td>\n",
       "      <td>0</td>\n",
       "      <td>0</td>\n",
       "      <td>1530229737527001</td>\n",
       "      <td>6</td>\n",
       "      <td>179</td>\n",
       "      <td>5</td>\n",
       "      <td>0</td>\n",
       "      <td>TEST</td>\n",
       "    </tr>\n",
       "    <tr>\n",
       "      <th>6</th>\n",
       "      <td>16AD1C031AF106322F082EE8EA61C295</td>\n",
       "      <td>Hong Kong</td>\n",
       "      <td>ANDROID</td>\n",
       "      <td>enXhk</td>\n",
       "      <td>25</td>\n",
       "      <td>9</td>\n",
       "      <td>8</td>\n",
       "      <td>7</td>\n",
       "      <td>0</td>\n",
       "      <td>7</td>\n",
       "      <td>...</td>\n",
       "      <td>0</td>\n",
       "      <td>0</td>\n",
       "      <td>0</td>\n",
       "      <td>0</td>\n",
       "      <td>1528795907659004</td>\n",
       "      <td>6</td>\n",
       "      <td>163</td>\n",
       "      <td>3</td>\n",
       "      <td>0</td>\n",
       "      <td>TRAIN</td>\n",
       "    </tr>\n",
       "    <tr>\n",
       "      <th>7</th>\n",
       "      <td>67EBFEC8E68ED6187FFAD137465A3638</td>\n",
       "      <td>United States</td>\n",
       "      <td>ANDROID</td>\n",
       "      <td>enXus</td>\n",
       "      <td>11</td>\n",
       "      <td>0</td>\n",
       "      <td>0</td>\n",
       "      <td>0</td>\n",
       "      <td>0</td>\n",
       "      <td>4</td>\n",
       "      <td>...</td>\n",
       "      <td>0</td>\n",
       "      <td>0</td>\n",
       "      <td>0</td>\n",
       "      <td>0</td>\n",
       "      <td>1529184170326008</td>\n",
       "      <td>6</td>\n",
       "      <td>167</td>\n",
       "      <td>7</td>\n",
       "      <td>0</td>\n",
       "      <td>TRAIN</td>\n",
       "    </tr>\n",
       "    <tr>\n",
       "      <th>8</th>\n",
       "      <td>1CF315BC6864E7A71A81E47925E18A61</td>\n",
       "      <td>United States</td>\n",
       "      <td>ANDROID</td>\n",
       "      <td>enXus</td>\n",
       "      <td>3</td>\n",
       "      <td>1</td>\n",
       "      <td>1</td>\n",
       "      <td>0</td>\n",
       "      <td>0</td>\n",
       "      <td>1</td>\n",
       "      <td>...</td>\n",
       "      <td>0</td>\n",
       "      <td>0</td>\n",
       "      <td>0</td>\n",
       "      <td>0</td>\n",
       "      <td>1529325404418004</td>\n",
       "      <td>6</td>\n",
       "      <td>169</td>\n",
       "      <td>2</td>\n",
       "      <td>0</td>\n",
       "      <td>TRAIN</td>\n",
       "    </tr>\n",
       "    <tr>\n",
       "      <th>9</th>\n",
       "      <td>0ED6BC1D319AB5BD1F245628EA47EDBB</td>\n",
       "      <td>Germany</td>\n",
       "      <td>ANDROID</td>\n",
       "      <td>deXde</td>\n",
       "      <td>3</td>\n",
       "      <td>1</td>\n",
       "      <td>1</td>\n",
       "      <td>1</td>\n",
       "      <td>0</td>\n",
       "      <td>1</td>\n",
       "      <td>...</td>\n",
       "      <td>0</td>\n",
       "      <td>0</td>\n",
       "      <td>0</td>\n",
       "      <td>0</td>\n",
       "      <td>1533033210251004</td>\n",
       "      <td>7</td>\n",
       "      <td>212</td>\n",
       "      <td>3</td>\n",
       "      <td>0</td>\n",
       "      <td>TRAIN</td>\n",
       "    </tr>\n",
       "  </tbody>\n",
       "</table>\n",
       "<p>10 rows × 21 columns</p>\n",
       "</div>"
      ],
      "text/plain": [
       "                     user_pseudo_id        country operating_system language  \\\n",
       "0  68495553C4E4675C74F6476A12E92ADB          India          ANDROID    enXin   \n",
       "1  3376C102EBF491B5CB84B43759FE3433  United States          ANDROID    enXus   \n",
       "2  93236F1DDE9EAA3DFFD60A57DDA2DC1B         France          ANDROID    enXgb   \n",
       "3  D34924C19421D7E083FD387D97765F94  United States          ANDROID    enXus   \n",
       "4  4A93C01615B33FF5804AF8D19895247F  United States          ANDROID    enXus   \n",
       "5  3A58859E074B02E8FB1CAEA291636112  United States          ANDROID    enXus   \n",
       "6  16AD1C031AF106322F082EE8EA61C295      Hong Kong          ANDROID    enXhk   \n",
       "7  67EBFEC8E68ED6187FFAD137465A3638  United States          ANDROID    enXus   \n",
       "8  1CF315BC6864E7A71A81E47925E18A61  United States          ANDROID    enXus   \n",
       "9  0ED6BC1D319AB5BD1F245628EA47EDBB        Germany          ANDROID    deXde   \n",
       "\n",
       "   cnt_user_engagement  cnt_level_start_quickplay  cnt_level_end_quickplay  \\\n",
       "0                   38                          2                        2   \n",
       "1                   67                         21                       20   \n",
       "2                   13                          8                        3   \n",
       "3                   16                          5                        4   \n",
       "4                   24                          9                        8   \n",
       "5                    5                          2                        1   \n",
       "6                   25                          9                        8   \n",
       "7                   11                          0                        0   \n",
       "8                    3                          1                        1   \n",
       "9                    3                          1                        1   \n",
       "\n",
       "   cnt_level_complete_quickplay  cnt_level_reset_quickplay  cnt_post_score  \\\n",
       "0                             1                          0               6   \n",
       "1                            11                          0              11   \n",
       "2                             0                          4               0   \n",
       "3                             0                          0               0   \n",
       "4                             5                          0               5   \n",
       "5                             0                          0               1   \n",
       "6                             7                          0               7   \n",
       "7                             0                          0               4   \n",
       "8                             0                          0               1   \n",
       "9                             1                          0               1   \n",
       "\n",
       "   ...  cnt_ad_reward  cnt_challenge_a_friend  cnt_completed_5_levels  \\\n",
       "0  ...              0                       0                       1   \n",
       "1  ...              0                       0                       0   \n",
       "2  ...              0                       0                       0   \n",
       "3  ...              0                       0                       0   \n",
       "4  ...              0                       0                       0   \n",
       "5  ...              0                       0                       0   \n",
       "6  ...              0                       0                       0   \n",
       "7  ...              0                       0                       0   \n",
       "8  ...              0                       0                       0   \n",
       "9  ...              0                       0                       0   \n",
       "\n",
       "   cnt_use_extra_steps  user_first_engagement  month  julianday  dayofweek  \\\n",
       "0                    0       1531760680776001      7        197          2   \n",
       "1                    0       1529031003235000      6        166          6   \n",
       "2                    0       1529679015721003      6        173          6   \n",
       "3                    0       1530539987485001      7        183          2   \n",
       "4                    0       1531257123370003      7        191          3   \n",
       "5                    0       1530229737527001      6        179          5   \n",
       "6                    0       1528795907659004      6        163          3   \n",
       "7                    0       1529184170326008      6        167          7   \n",
       "8                    0       1529325404418004      6        169          2   \n",
       "9                    0       1533033210251004      7        212          3   \n",
       "\n",
       "   churned  data_split  \n",
       "0        0        TEST  \n",
       "1        0       TRAIN  \n",
       "2        0       TRAIN  \n",
       "3        0       TRAIN  \n",
       "4        0       TRAIN  \n",
       "5        0        TEST  \n",
       "6        0       TRAIN  \n",
       "7        0       TRAIN  \n",
       "8        0       TRAIN  \n",
       "9        0       TRAIN  \n",
       "\n",
       "[10 rows x 21 columns]"
      ]
     },
     "execution_count": 18,
     "metadata": {},
     "output_type": "execute_result"
    }
   ],
   "source": [
    "%%bigquery --project $PROJECT_ID\n",
    "\n",
    "CREATE OR REPLACE VIEW bqmlga4.ml_features AS (\n",
    "    \n",
    "  SELECT\n",
    "    dem.user_pseudo_id,\n",
    "    IFNULL(dem.country, \"Unknown\") AS country,\n",
    "    IFNULL(dem.operating_system, \"Unknown\") AS operating_system,\n",
    "    IFNULL(REPLACE(dem.language, \"-\", \"X\"), \"Unknown\") AS language,\n",
    "    IFNULL(beh.cnt_user_engagement, 0) AS cnt_user_engagement,\n",
    "    IFNULL(beh.cnt_level_start_quickplay, 0) AS cnt_level_start_quickplay,\n",
    "    IFNULL(beh.cnt_level_end_quickplay, 0) AS cnt_level_end_quickplay,\n",
    "    IFNULL(beh.cnt_level_complete_quickplay, 0) AS cnt_level_complete_quickplay,\n",
    "    IFNULL(beh.cnt_level_reset_quickplay, 0) AS cnt_level_reset_quickplay,\n",
    "    IFNULL(beh.cnt_post_score, 0) AS cnt_post_score,\n",
    "    IFNULL(beh.cnt_spend_virtual_currency, 0) AS cnt_spend_virtual_currency,\n",
    "    IFNULL(beh.cnt_ad_reward, 0) AS cnt_ad_reward,\n",
    "    IFNULL(beh.cnt_challenge_a_friend, 0) AS cnt_challenge_a_friend,\n",
    "    IFNULL(beh.cnt_completed_5_levels, 0) AS cnt_completed_5_levels,\n",
    "    IFNULL(beh.cnt_use_extra_steps, 0) AS cnt_use_extra_steps,\n",
    "    chu.user_first_engagement,\n",
    "    chu.month,\n",
    "    chu.julianday,\n",
    "    chu.dayofweek,\n",
    "    chu.churned,\n",
    "    # https://towardsdatascience.com/ml-design-pattern-5-repeatable-sampling-c0ccb2889f39\n",
    "    # BQML Hyperparameter tuning requires STRING 3 partition data_split column.\n",
    "    # 80% 'TRAIN' | 10%'EVAL' | 10% 'TEST'    \n",
    "    CASE\n",
    "      WHEN ABS(MOD(FARM_FINGERPRINT(dem.user_pseudo_id), 10)) <= 7\n",
    "        THEN 'TRAIN'\n",
    "      WHEN ABS(MOD(FARM_FINGERPRINT(dem.user_pseudo_id), 10)) = 8\n",
    "        THEN 'EVAL'\n",
    "      WHEN ABS(MOD(FARM_FINGERPRINT(dem.user_pseudo_id), 10)) = 9\n",
    "        THEN 'TEST'    \n",
    "          ELSE '' END AS data_split\n",
    "  FROM\n",
    "    bqmlga4.user_churn chu\n",
    "  LEFT OUTER JOIN\n",
    "    bqmlga4.user_demographics dem\n",
    "  ON \n",
    "    chu.user_pseudo_id = dem.user_pseudo_id\n",
    "  LEFT OUTER JOIN \n",
    "    bqmlga4.user_behavior beh\n",
    "  ON\n",
    "    chu.user_pseudo_id = beh.user_pseudo_id\n",
    "  WHERE chu.bounced = 0\n",
    "  );\n",
    "\n",
    "SELECT\n",
    "  *\n",
    "FROM\n",
    "  bqmlga4.ml_features\n",
    "LIMIT 10"
   ]
  },
  {
   "cell_type": "markdown",
   "id": "ccc4f5f9",
   "metadata": {},
   "source": [
    "### Validate feature splits"
   ]
  },
  {
   "cell_type": "markdown",
   "id": "0af097e0",
   "metadata": {},
   "source": [
    "Run the query below to validate the number of examples in each data partition for the 80% train |10% eval |10% test split."
   ]
  },
  {
   "cell_type": "code",
   "execution_count": 19,
   "id": "cb419c16",
   "metadata": {
    "tags": []
   },
   "outputs": [
    {
     "data": {
      "application/vnd.jupyter.widget-view+json": {
       "model_id": "e67d5798c2ce4f68922f750529d2830b",
       "version_major": 2,
       "version_minor": 0
      },
      "text/plain": [
       "Query is running:   0%|          |"
      ]
     },
     "metadata": {},
     "output_type": "display_data"
    },
    {
     "data": {
      "application/vnd.jupyter.widget-view+json": {
       "model_id": "7be981f5c5a64ab5921d4efaa550f75f",
       "version_major": 2,
       "version_minor": 0
      },
      "text/plain": [
       "Downloading:   0%|          |"
      ]
     },
     "metadata": {},
     "output_type": "display_data"
    },
    {
     "data": {
      "text/html": [
       "<div>\n",
       "<style scoped>\n",
       "    .dataframe tbody tr th:only-of-type {\n",
       "        vertical-align: middle;\n",
       "    }\n",
       "\n",
       "    .dataframe tbody tr th {\n",
       "        vertical-align: top;\n",
       "    }\n",
       "\n",
       "    .dataframe thead th {\n",
       "        text-align: right;\n",
       "    }\n",
       "</style>\n",
       "<table border=\"1\" class=\"dataframe\">\n",
       "  <thead>\n",
       "    <tr style=\"text-align: right;\">\n",
       "      <th></th>\n",
       "      <th>data_split</th>\n",
       "      <th>n_examples</th>\n",
       "    </tr>\n",
       "  </thead>\n",
       "  <tbody>\n",
       "    <tr>\n",
       "      <th>0</th>\n",
       "      <td>TRAIN</td>\n",
       "      <td>6386</td>\n",
       "    </tr>\n",
       "    <tr>\n",
       "      <th>1</th>\n",
       "      <td>TEST</td>\n",
       "      <td>799</td>\n",
       "    </tr>\n",
       "    <tr>\n",
       "      <th>2</th>\n",
       "      <td>EVAL</td>\n",
       "      <td>846</td>\n",
       "    </tr>\n",
       "  </tbody>\n",
       "</table>\n",
       "</div>"
      ],
      "text/plain": [
       "  data_split  n_examples\n",
       "0      TRAIN        6386\n",
       "1       TEST         799\n",
       "2       EVAL         846"
      ]
     },
     "execution_count": 19,
     "metadata": {},
     "output_type": "execute_result"
    }
   ],
   "source": [
    "%%bigquery --project $PROJECT_ID\n",
    "\n",
    "SELECT\n",
    "  data_split,\n",
    "  COUNT(*) AS n_examples\n",
    "FROM bqmlga4.ml_features\n",
    "GROUP BY data_split"
   ]
  },
  {
   "cell_type": "markdown",
   "id": "c2767dae",
   "metadata": {},
   "source": [
    "## Train and tune a BQML XGBoost propensity model to predict customer churn"
   ]
  },
  {
   "cell_type": "markdown",
   "id": "a3a861a0",
   "metadata": {},
   "source": [
    "The following code trains and tunes the hyperparameters for a XGBoost model. TO provide a minimal demonstration of BQML hyperparameter tuning in this lab, this model will take about 18 min to train and tune with its restricted search space and low number of trials. In practice, you would generally want at [least 10 trials per hyperparameter](https://cloud.google.com/bigquery-ml/docs/reference/standard-sql/bigqueryml-hyperparameter-tuning#how_many_trials_do_i_need_to_tune_a_model) to achieve improved results.\n",
    "\n",
    "For more information on the default hyperparameters used, you can read the documentation:\n",
    "[CREATE MODEL statement for Boosted Tree models using XGBoost](https://cloud.google.com/bigquery-ml/docs/reference/standard-sql/bigqueryml-syntax-create-boosted-tree)"
   ]
  },
  {
   "cell_type": "markdown",
   "id": "da974b2b",
   "metadata": {},
   "source": [
    "|Model   | BQML model_type | Advantages | Disadvantages| \n",
    "|:-------|:----------:|:----------:|-------------:|\n",
    "|XGBoost |     BOOSTED_TREE_CLASSIFIER [(documentation)](https://cloud.google.com/bigquery-ml/docs/reference/standard-sql/bigqueryml-syntax-create-boosted-tree)       |   High model performance with feature importances and explainability | Slower to train than BQML LOGISTIC_REG |"
   ]
  },
  {
   "cell_type": "markdown",
   "id": "577c9658",
   "metadata": {},
   "source": [
    "Note: When you run the CREATE MODEL statement, BigQuery ML can automatically split your data into training and test so you can immediately evaluate your model's performance after training. This is a great option for fast model prototyping. In this lab, however, you split your data manually above using hashing for reproducible data splits that can be used comparing model evaluations across different runs."
   ]
  },
  {
   "cell_type": "code",
   "execution_count": 20,
   "id": "96f84f45",
   "metadata": {
    "tags": []
   },
   "outputs": [],
   "source": [
    "MODEL_NAME=\"churn_xgb\""
   ]
  },
  {
   "cell_type": "code",
   "execution_count": 21,
   "id": "3d4bbf26",
   "metadata": {
    "tags": []
   },
   "outputs": [
    {
     "data": {
      "application/vnd.jupyter.widget-view+json": {
       "model_id": "96e6fb72ecee4e3592e820b2e087da9a",
       "version_major": 2,
       "version_minor": 0
      },
      "text/plain": [
       "Query is running:   0%|          |"
      ]
     },
     "metadata": {},
     "output_type": "display_data"
    },
    {
     "data": {
      "text/html": [
       "<div>\n",
       "<style scoped>\n",
       "    .dataframe tbody tr th:only-of-type {\n",
       "        vertical-align: middle;\n",
       "    }\n",
       "\n",
       "    .dataframe tbody tr th {\n",
       "        vertical-align: top;\n",
       "    }\n",
       "\n",
       "    .dataframe thead th {\n",
       "        text-align: right;\n",
       "    }\n",
       "</style>\n",
       "<table border=\"1\" class=\"dataframe\">\n",
       "  <thead>\n",
       "    <tr style=\"text-align: right;\">\n",
       "      <th></th>\n",
       "    </tr>\n",
       "  </thead>\n",
       "  <tbody>\n",
       "  </tbody>\n",
       "</table>\n",
       "</div>"
      ],
      "text/plain": [
       "Empty DataFrame\n",
       "Columns: []\n",
       "Index: []"
      ]
     },
     "execution_count": 21,
     "metadata": {},
     "output_type": "execute_result"
    }
   ],
   "source": [
    "%%bigquery --project $PROJECT_ID\n",
    "\n",
    "CREATE OR REPLACE MODEL bqmlga4.churn_xgb\n",
    "\n",
    "OPTIONS(\n",
    "  MODEL_TYPE=\"BOOSTED_TREE_CLASSIFIER\",\n",
    "  # Declare label column.\n",
    "  INPUT_LABEL_COLS=[\"churned\"],\n",
    "  # Specify custom data splitting using the `data_split` column.\n",
    "  DATA_SPLIT_METHOD=\"CUSTOM\",\n",
    "  DATA_SPLIT_COL=\"data_split\",\n",
    "  # Enable Vertex Explainable AI aggregated feature attributions.\n",
    "  ENABLE_GLOBAL_EXPLAIN=True,\n",
    "  # Hyperparameter tuning arguments.\n",
    "  num_trials=8,\n",
    "  max_parallel_trials=4,\n",
    "  HPARAM_TUNING_OBJECTIVES=[\"roc_auc\"],\n",
    "  EARLY_STOP=True,\n",
    "  # Hyperpameter search space.\n",
    "  LEARN_RATE=HPARAM_RANGE(0.01, 0.1),\n",
    "  MAX_TREE_DEPTH=HPARAM_CANDIDATES([5,6])\n",
    ") AS\n",
    "\n",
    "SELECT\n",
    "  * EXCEPT(user_pseudo_id)\n",
    "FROM\n",
    "  bqmlga4.ml_features"
   ]
  },
  {
   "cell_type": "code",
   "execution_count": 22,
   "id": "f2beffd0",
   "metadata": {
    "tags": []
   },
   "outputs": [
    {
     "data": {
      "application/vnd.jupyter.widget-view+json": {
       "model_id": "0b49b963059a4179ae89bc5f9eca9328",
       "version_major": 2,
       "version_minor": 0
      },
      "text/plain": [
       "Query is running:   0%|          |"
      ]
     },
     "metadata": {},
     "output_type": "display_data"
    },
    {
     "data": {
      "application/vnd.jupyter.widget-view+json": {
       "model_id": "094c9060d3ea4fc094c5d969a4560127",
       "version_major": 2,
       "version_minor": 0
      },
      "text/plain": [
       "Downloading:   0%|          |"
      ]
     },
     "metadata": {},
     "output_type": "display_data"
    },
    {
     "data": {
      "text/html": [
       "<div>\n",
       "<style scoped>\n",
       "    .dataframe tbody tr th:only-of-type {\n",
       "        vertical-align: middle;\n",
       "    }\n",
       "\n",
       "    .dataframe tbody tr th {\n",
       "        vertical-align: top;\n",
       "    }\n",
       "\n",
       "    .dataframe thead th {\n",
       "        text-align: right;\n",
       "    }\n",
       "</style>\n",
       "<table border=\"1\" class=\"dataframe\">\n",
       "  <thead>\n",
       "    <tr style=\"text-align: right;\">\n",
       "      <th></th>\n",
       "      <th>trial_id</th>\n",
       "      <th>hyperparameters</th>\n",
       "      <th>hparam_tuning_evaluation_metrics</th>\n",
       "      <th>training_loss</th>\n",
       "      <th>eval_loss</th>\n",
       "      <th>status</th>\n",
       "      <th>error_message</th>\n",
       "      <th>is_optimal</th>\n",
       "    </tr>\n",
       "  </thead>\n",
       "  <tbody>\n",
       "    <tr>\n",
       "      <th>0</th>\n",
       "      <td>1</td>\n",
       "      <td>{'learn_rate': 0.1, 'max_tree_depth': 6}</td>\n",
       "      <td>{'roc_auc': 0.7873576423576424}</td>\n",
       "      <td>0.436812</td>\n",
       "      <td>0.461768</td>\n",
       "      <td>SUCCEEDED</td>\n",
       "      <td>None</td>\n",
       "      <td>True</td>\n",
       "    </tr>\n",
       "    <tr>\n",
       "      <th>1</th>\n",
       "      <td>2</td>\n",
       "      <td>{'learn_rate': 0.08020699542599699, 'max_tree_...</td>\n",
       "      <td>{'roc_auc': 0.784067932067932}</td>\n",
       "      <td>0.445939</td>\n",
       "      <td>0.469022</td>\n",
       "      <td>SUCCEEDED</td>\n",
       "      <td>None</td>\n",
       "      <td>False</td>\n",
       "    </tr>\n",
       "    <tr>\n",
       "      <th>2</th>\n",
       "      <td>3</td>\n",
       "      <td>{'learn_rate': 0.07662609080557047, 'max_tree_...</td>\n",
       "      <td>{'roc_auc': 0.7857332667332667}</td>\n",
       "      <td>0.455287</td>\n",
       "      <td>0.475481</td>\n",
       "      <td>SUCCEEDED</td>\n",
       "      <td>None</td>\n",
       "      <td>False</td>\n",
       "    </tr>\n",
       "    <tr>\n",
       "      <th>3</th>\n",
       "      <td>4</td>\n",
       "      <td>{'learn_rate': 0.05323096919195831, 'max_tree_...</td>\n",
       "      <td>{'roc_auc': 0.7652067932067932}</td>\n",
       "      <td>0.495678</td>\n",
       "      <td>0.505842</td>\n",
       "      <td>SUCCEEDED</td>\n",
       "      <td>None</td>\n",
       "      <td>False</td>\n",
       "    </tr>\n",
       "    <tr>\n",
       "      <th>4</th>\n",
       "      <td>5</td>\n",
       "      <td>{'learn_rate': 0.06249118723753036, 'max_tree_...</td>\n",
       "      <td>{'roc_auc': 0.7642017982017982}</td>\n",
       "      <td>0.480331</td>\n",
       "      <td>0.492623</td>\n",
       "      <td>SUCCEEDED</td>\n",
       "      <td>None</td>\n",
       "      <td>False</td>\n",
       "    </tr>\n",
       "    <tr>\n",
       "      <th>5</th>\n",
       "      <td>6</td>\n",
       "      <td>{'learn_rate': 0.07228260633606522, 'max_tree_...</td>\n",
       "      <td>{'roc_auc': 0.7715374625374626}</td>\n",
       "      <td>0.467023</td>\n",
       "      <td>0.479996</td>\n",
       "      <td>SUCCEEDED</td>\n",
       "      <td>None</td>\n",
       "      <td>False</td>\n",
       "    </tr>\n",
       "    <tr>\n",
       "      <th>6</th>\n",
       "      <td>7</td>\n",
       "      <td>{'learn_rate': 0.022635450615273275, 'max_tree...</td>\n",
       "      <td>{'roc_auc': 0.6913086913086913}</td>\n",
       "      <td>0.614611</td>\n",
       "      <td>0.618558</td>\n",
       "      <td>SUCCEEDED</td>\n",
       "      <td>None</td>\n",
       "      <td>False</td>\n",
       "    </tr>\n",
       "    <tr>\n",
       "      <th>7</th>\n",
       "      <td>8</td>\n",
       "      <td>{'learn_rate': 0.06344745878391354, 'max_tree_...</td>\n",
       "      <td>{'roc_auc': 0.7852567432567432}</td>\n",
       "      <td>0.462283</td>\n",
       "      <td>0.480691</td>\n",
       "      <td>SUCCEEDED</td>\n",
       "      <td>None</td>\n",
       "      <td>False</td>\n",
       "    </tr>\n",
       "  </tbody>\n",
       "</table>\n",
       "</div>"
      ],
      "text/plain": [
       "   trial_id                                    hyperparameters  \\\n",
       "0         1           {'learn_rate': 0.1, 'max_tree_depth': 6}   \n",
       "1         2  {'learn_rate': 0.08020699542599699, 'max_tree_...   \n",
       "2         3  {'learn_rate': 0.07662609080557047, 'max_tree_...   \n",
       "3         4  {'learn_rate': 0.05323096919195831, 'max_tree_...   \n",
       "4         5  {'learn_rate': 0.06249118723753036, 'max_tree_...   \n",
       "5         6  {'learn_rate': 0.07228260633606522, 'max_tree_...   \n",
       "6         7  {'learn_rate': 0.022635450615273275, 'max_tree...   \n",
       "7         8  {'learn_rate': 0.06344745878391354, 'max_tree_...   \n",
       "\n",
       "  hparam_tuning_evaluation_metrics  training_loss  eval_loss     status  \\\n",
       "0  {'roc_auc': 0.7873576423576424}       0.436812   0.461768  SUCCEEDED   \n",
       "1   {'roc_auc': 0.784067932067932}       0.445939   0.469022  SUCCEEDED   \n",
       "2  {'roc_auc': 0.7857332667332667}       0.455287   0.475481  SUCCEEDED   \n",
       "3  {'roc_auc': 0.7652067932067932}       0.495678   0.505842  SUCCEEDED   \n",
       "4  {'roc_auc': 0.7642017982017982}       0.480331   0.492623  SUCCEEDED   \n",
       "5  {'roc_auc': 0.7715374625374626}       0.467023   0.479996  SUCCEEDED   \n",
       "6  {'roc_auc': 0.6913086913086913}       0.614611   0.618558  SUCCEEDED   \n",
       "7  {'roc_auc': 0.7852567432567432}       0.462283   0.480691  SUCCEEDED   \n",
       "\n",
       "  error_message  is_optimal  \n",
       "0          None        True  \n",
       "1          None       False  \n",
       "2          None       False  \n",
       "3          None       False  \n",
       "4          None       False  \n",
       "5          None       False  \n",
       "6          None       False  \n",
       "7          None       False  "
      ]
     },
     "execution_count": 22,
     "metadata": {},
     "output_type": "execute_result"
    }
   ],
   "source": [
    "%%bigquery --project $PROJECT_ID\n",
    "\n",
    "SELECT *\n",
    "FROM\n",
    "  ML.TRIAL_INFO(MODEL `bqmlga4.churn_xgb`);"
   ]
  },
  {
   "cell_type": "markdown",
   "id": "fbb9dc3a",
   "metadata": {},
   "source": [
    "## Evaluate BQML XGBoost model performance"
   ]
  },
  {
   "cell_type": "markdown",
   "id": "19c50568",
   "metadata": {},
   "source": [
    "Once training is finished, you can run [ML.EVALUATE](https://cloud.google.com/bigquery-ml/docs/reference/standard-sql/bigqueryml-syntax-evaluate) to return model evaluation metrics. By default, all model trials will be returned so the below query just returns the model performance for optimal first trial."
   ]
  },
  {
   "cell_type": "code",
   "execution_count": 23,
   "id": "1bb9896b",
   "metadata": {
    "tags": []
   },
   "outputs": [
    {
     "data": {
      "application/vnd.jupyter.widget-view+json": {
       "model_id": "882065050e194739bd3a584fac289461",
       "version_major": 2,
       "version_minor": 0
      },
      "text/plain": [
       "Query is running:   0%|          |"
      ]
     },
     "metadata": {},
     "output_type": "display_data"
    },
    {
     "data": {
      "application/vnd.jupyter.widget-view+json": {
       "model_id": "9e5184c2be4f4340aa2fa2138bebd146",
       "version_major": 2,
       "version_minor": 0
      },
      "text/plain": [
       "Downloading:   0%|          |"
      ]
     },
     "metadata": {},
     "output_type": "display_data"
    },
    {
     "data": {
      "text/html": [
       "<div>\n",
       "<style scoped>\n",
       "    .dataframe tbody tr th:only-of-type {\n",
       "        vertical-align: middle;\n",
       "    }\n",
       "\n",
       "    .dataframe tbody tr th {\n",
       "        vertical-align: top;\n",
       "    }\n",
       "\n",
       "    .dataframe thead th {\n",
       "        text-align: right;\n",
       "    }\n",
       "</style>\n",
       "<table border=\"1\" class=\"dataframe\">\n",
       "  <thead>\n",
       "    <tr style=\"text-align: right;\">\n",
       "      <th></th>\n",
       "      <th>trial_id</th>\n",
       "      <th>precision</th>\n",
       "      <th>recall</th>\n",
       "      <th>accuracy</th>\n",
       "      <th>f1_score</th>\n",
       "      <th>log_loss</th>\n",
       "      <th>roc_auc</th>\n",
       "    </tr>\n",
       "  </thead>\n",
       "  <tbody>\n",
       "    <tr>\n",
       "      <th>0</th>\n",
       "      <td>1</td>\n",
       "      <td>0.604167</td>\n",
       "      <td>0.148718</td>\n",
       "      <td>0.768461</td>\n",
       "      <td>0.238683</td>\n",
       "      <td>0.480936</td>\n",
       "      <td>0.767545</td>\n",
       "    </tr>\n",
       "  </tbody>\n",
       "</table>\n",
       "</div>"
      ],
      "text/plain": [
       "   trial_id  precision    recall  accuracy  f1_score  log_loss   roc_auc\n",
       "0         1   0.604167  0.148718  0.768461  0.238683  0.480936  0.767545"
      ]
     },
     "execution_count": 23,
     "metadata": {},
     "output_type": "execute_result"
    }
   ],
   "source": [
    "%%bigquery --project $PROJECT_ID\n",
    "\n",
    "SELECT\n",
    "  *\n",
    "FROM\n",
    "  ML.EVALUATE(MODEL bqmlga4.churn_xgb)\n",
    "WHERE trial_id=1;"
   ]
  },
  {
   "cell_type": "markdown",
   "id": "9e0537c9",
   "metadata": {},
   "source": [
    "ML.EVALUATE generates the [precision, recall](https://developers.google.com/machine-learning/crash-course/classification/precision-and-recall), [accuracy](https://developers.google.com/machine-learning/crash-course/classification/accuracy), [log_loss](https://en.wikipedia.org/wiki/Loss_functions_for_classification#Logistic_loss), [f1_score](https://en.wikipedia.org/wiki/F-score) and [roc_auc](https://developers.google.com/machine-learning/crash-course/classification/roc-and-auc) using the default classification threshold of 0.5, which can be modified by using the optional `THRESHOLD` parameter."
   ]
  },
  {
   "cell_type": "markdown",
   "id": "22da8688",
   "metadata": {},
   "source": [
    "Next, use the [ML.CONFUSION_MATRIX](https://cloud.google.com/bigquery-ml/docs/reference/standard-sql/bigqueryml-syntax-confusion) function to return a confusion matrix for the input classification model and input data.\n",
    "\n",
    "For more information on confusion matrices, you can read through a detailed explanation [here](https://developers.google.com/machine-learning/crash-course/classification/true-false-positive-negative)."
   ]
  },
  {
   "cell_type": "code",
   "execution_count": 24,
   "id": "f15b2e45",
   "metadata": {
    "tags": []
   },
   "outputs": [
    {
     "data": {
      "application/vnd.jupyter.widget-view+json": {
       "model_id": "7e42b4a8bd27477da9a045e57f7b551f",
       "version_major": 2,
       "version_minor": 0
      },
      "text/plain": [
       "Query is running:   0%|          |"
      ]
     },
     "metadata": {},
     "output_type": "display_data"
    },
    {
     "data": {
      "application/vnd.jupyter.widget-view+json": {
       "model_id": "19ec457697fa4ced999f0098a084fa89",
       "version_major": 2,
       "version_minor": 0
      },
      "text/plain": [
       "Downloading:   0%|          |"
      ]
     },
     "metadata": {},
     "output_type": "display_data"
    },
    {
     "data": {
      "text/html": [
       "<div>\n",
       "<style scoped>\n",
       "    .dataframe tbody tr th:only-of-type {\n",
       "        vertical-align: middle;\n",
       "    }\n",
       "\n",
       "    .dataframe tbody tr th {\n",
       "        vertical-align: top;\n",
       "    }\n",
       "\n",
       "    .dataframe thead th {\n",
       "        text-align: right;\n",
       "    }\n",
       "</style>\n",
       "<table border=\"1\" class=\"dataframe\">\n",
       "  <thead>\n",
       "    <tr style=\"text-align: right;\">\n",
       "      <th></th>\n",
       "      <th>expected_label</th>\n",
       "      <th>predicted_0</th>\n",
       "      <th>predicted_1</th>\n",
       "    </tr>\n",
       "  </thead>\n",
       "  <tbody>\n",
       "    <tr>\n",
       "      <th>0</th>\n",
       "      <td>0</td>\n",
       "      <td>585</td>\n",
       "      <td>19</td>\n",
       "    </tr>\n",
       "    <tr>\n",
       "      <th>1</th>\n",
       "      <td>1</td>\n",
       "      <td>166</td>\n",
       "      <td>29</td>\n",
       "    </tr>\n",
       "  </tbody>\n",
       "</table>\n",
       "</div>"
      ],
      "text/plain": [
       "  expected_label  predicted_0  predicted_1\n",
       "0              0          585           19\n",
       "1              1          166           29"
      ]
     },
     "execution_count": 24,
     "metadata": {},
     "output_type": "execute_result"
    }
   ],
   "source": [
    "%%bigquery --project $PROJECT_ID\n",
    "\n",
    "SELECT\n",
    "  expected_label,\n",
    "  _0 AS predicted_0,\n",
    "  _1 AS predicted_1\n",
    "FROM\n",
    "  ML.CONFUSION_MATRIX(MODEL bqmlga4.churn_xgb)\n",
    "WHERE trial_id=1;"
   ]
  },
  {
   "cell_type": "markdown",
   "id": "64cdbf52",
   "metadata": {},
   "source": [
    "You can also plot the AUC-ROC curve by using [ML.ROC_CURVE](https://cloud.google.com/bigquery-ml/docs/reference/standard-sql/bigqueryml-syntax-roc) to return the metrics for different threshold values for the model."
   ]
  },
  {
   "cell_type": "code",
   "execution_count": 25,
   "id": "f1f9e493",
   "metadata": {
    "tags": []
   },
   "outputs": [
    {
     "data": {
      "application/vnd.jupyter.widget-view+json": {
       "model_id": "ed54eaf041df456fac65c61c38b32227",
       "version_major": 2,
       "version_minor": 0
      },
      "text/plain": [
       "Query is running:   0%|          |"
      ]
     },
     "metadata": {},
     "output_type": "display_data"
    },
    {
     "data": {
      "application/vnd.jupyter.widget-view+json": {
       "model_id": "5c255679215247aa948df4309b64456c",
       "version_major": 2,
       "version_minor": 0
      },
      "text/plain": [
       "Downloading:   0%|          |"
      ]
     },
     "metadata": {},
     "output_type": "display_data"
    }
   ],
   "source": [
    "%%bigquery df_roc --project $PROJECT_ID\n",
    "\n",
    "SELECT * FROM ML.ROC_CURVE(MODEL bqmlga4.churn_xgb)"
   ]
  },
  {
   "cell_type": "code",
   "execution_count": 26,
   "id": "da715945",
   "metadata": {
    "tags": []
   },
   "outputs": [
    {
     "data": {
      "text/plain": [
       "<Axes: title={'center': 'AUC-ROC curve'}, xlabel='false_positive_rate'>"
      ]
     },
     "execution_count": 26,
     "metadata": {},
     "output_type": "execute_result"
    },
    {
     "data": {
      "image/png": "[encoded data removed]",
      "text/plain": [
       "<Figure size 640x480 with 1 Axes>"
      ]
     },
     "metadata": {},
     "output_type": "display_data"
    }
   ],
   "source": [
    "df_roc.plot(x=\"false_positive_rate\", y=\"recall\", title=\"AUC-ROC curve\")"
   ]
  },
  {
   "cell_type": "markdown",
   "id": "4e51a9bc",
   "metadata": {},
   "source": [
    "## Inspect global feature attributions"
   ]
  },
  {
   "cell_type": "markdown",
   "id": "c1e4a89b",
   "metadata": {},
   "source": [
    "To provide further context to your model performance, you can use the [ML.GLOBAL_EXPLAIN](https://cloud.google.com/bigquery-ml/docs/reference/standard-sql/bigqueryml-syntax-global-explain#get_global_feature_importance_for_each_class_of_a_boosted_tree_classifier_model) function which leverages Vertex Explainable AI as a back-end. [Vertex Explainable AI](https://cloud.google.com/vertex-ai/docs/explainable-ai) helps you understand your model's outputs for classification and regression tasks. Specifically, Vertex AI tells you how much each feature in the data contributed to your model's predicted result. You can then use this information to verify that the model is behaving as expected, identify and mitigate biases in your models, and get ideas for ways to improve your model and your training data."
   ]
  },
  {
   "cell_type": "code",
   "execution_count": 27,
   "id": "b505dae3",
   "metadata": {
    "tags": []
   },
   "outputs": [
    {
     "data": {
      "application/vnd.jupyter.widget-view+json": {
       "model_id": "48f3d8fe857e488ea82f38c04742b625",
       "version_major": 2,
       "version_minor": 0
      },
      "text/plain": [
       "Query is running:   0%|          |"
      ]
     },
     "metadata": {},
     "output_type": "display_data"
    },
    {
     "data": {
      "application/vnd.jupyter.widget-view+json": {
       "model_id": "092c066c10f647a9bcfb55d0f36e7ce1",
       "version_major": 2,
       "version_minor": 0
      },
      "text/plain": [
       "Downloading:   0%|          |"
      ]
     },
     "metadata": {},
     "output_type": "display_data"
    },
    {
     "data": {
      "text/html": [
       "<div>\n",
       "<style scoped>\n",
       "    .dataframe tbody tr th:only-of-type {\n",
       "        vertical-align: middle;\n",
       "    }\n",
       "\n",
       "    .dataframe tbody tr th {\n",
       "        vertical-align: top;\n",
       "    }\n",
       "\n",
       "    .dataframe thead th {\n",
       "        text-align: right;\n",
       "    }\n",
       "</style>\n",
       "<table border=\"1\" class=\"dataframe\">\n",
       "  <thead>\n",
       "    <tr style=\"text-align: right;\">\n",
       "      <th></th>\n",
       "      <th>trial_id</th>\n",
       "      <th>feature</th>\n",
       "      <th>attribution</th>\n",
       "    </tr>\n",
       "  </thead>\n",
       "  <tbody>\n",
       "    <tr>\n",
       "      <th>0</th>\n",
       "      <td>1</td>\n",
       "      <td>cnt_user_engagement</td>\n",
       "      <td>0.191482</td>\n",
       "    </tr>\n",
       "    <tr>\n",
       "      <th>1</th>\n",
       "      <td>1</td>\n",
       "      <td>user_first_engagement</td>\n",
       "      <td>0.090093</td>\n",
       "    </tr>\n",
       "    <tr>\n",
       "      <th>2</th>\n",
       "      <td>1</td>\n",
       "      <td>julianday</td>\n",
       "      <td>0.068122</td>\n",
       "    </tr>\n",
       "    <tr>\n",
       "      <th>3</th>\n",
       "      <td>1</td>\n",
       "      <td>operating_system</td>\n",
       "      <td>0.053907</td>\n",
       "    </tr>\n",
       "    <tr>\n",
       "      <th>4</th>\n",
       "      <td>1</td>\n",
       "      <td>cnt_post_score</td>\n",
       "      <td>0.015645</td>\n",
       "    </tr>\n",
       "    <tr>\n",
       "      <th>5</th>\n",
       "      <td>1</td>\n",
       "      <td>cnt_level_start_quickplay</td>\n",
       "      <td>0.014644</td>\n",
       "    </tr>\n",
       "    <tr>\n",
       "      <th>6</th>\n",
       "      <td>1</td>\n",
       "      <td>cnt_level_end_quickplay</td>\n",
       "      <td>0.013826</td>\n",
       "    </tr>\n",
       "    <tr>\n",
       "      <th>7</th>\n",
       "      <td>1</td>\n",
       "      <td>cnt_level_reset_quickplay</td>\n",
       "      <td>0.005394</td>\n",
       "    </tr>\n",
       "    <tr>\n",
       "      <th>8</th>\n",
       "      <td>1</td>\n",
       "      <td>language</td>\n",
       "      <td>0.005119</td>\n",
       "    </tr>\n",
       "    <tr>\n",
       "      <th>9</th>\n",
       "      <td>1</td>\n",
       "      <td>cnt_spend_virtual_currency</td>\n",
       "      <td>0.004703</td>\n",
       "    </tr>\n",
       "    <tr>\n",
       "      <th>10</th>\n",
       "      <td>1</td>\n",
       "      <td>dayofweek</td>\n",
       "      <td>0.004442</td>\n",
       "    </tr>\n",
       "    <tr>\n",
       "      <th>11</th>\n",
       "      <td>1</td>\n",
       "      <td>cnt_level_complete_quickplay</td>\n",
       "      <td>0.004008</td>\n",
       "    </tr>\n",
       "    <tr>\n",
       "      <th>12</th>\n",
       "      <td>1</td>\n",
       "      <td>country</td>\n",
       "      <td>0.003854</td>\n",
       "    </tr>\n",
       "    <tr>\n",
       "      <th>13</th>\n",
       "      <td>1</td>\n",
       "      <td>month</td>\n",
       "      <td>0.002611</td>\n",
       "    </tr>\n",
       "    <tr>\n",
       "      <th>14</th>\n",
       "      <td>1</td>\n",
       "      <td>cnt_use_extra_steps</td>\n",
       "      <td>0.002478</td>\n",
       "    </tr>\n",
       "    <tr>\n",
       "      <th>15</th>\n",
       "      <td>1</td>\n",
       "      <td>cnt_completed_5_levels</td>\n",
       "      <td>0.000789</td>\n",
       "    </tr>\n",
       "    <tr>\n",
       "      <th>16</th>\n",
       "      <td>1</td>\n",
       "      <td>cnt_challenge_a_friend</td>\n",
       "      <td>0.000310</td>\n",
       "    </tr>\n",
       "    <tr>\n",
       "      <th>17</th>\n",
       "      <td>1</td>\n",
       "      <td>cnt_ad_reward</td>\n",
       "      <td>0.000222</td>\n",
       "    </tr>\n",
       "  </tbody>\n",
       "</table>\n",
       "</div>"
      ],
      "text/plain": [
       "    trial_id                       feature  attribution\n",
       "0          1           cnt_user_engagement     0.191482\n",
       "1          1         user_first_engagement     0.090093\n",
       "2          1                     julianday     0.068122\n",
       "3          1              operating_system     0.053907\n",
       "4          1                cnt_post_score     0.015645\n",
       "5          1     cnt_level_start_quickplay     0.014644\n",
       "6          1       cnt_level_end_quickplay     0.013826\n",
       "7          1     cnt_level_reset_quickplay     0.005394\n",
       "8          1                      language     0.005119\n",
       "9          1    cnt_spend_virtual_currency     0.004703\n",
       "10         1                     dayofweek     0.004442\n",
       "11         1  cnt_level_complete_quickplay     0.004008\n",
       "12         1                       country     0.003854\n",
       "13         1                         month     0.002611\n",
       "14         1           cnt_use_extra_steps     0.002478\n",
       "15         1        cnt_completed_5_levels     0.000789\n",
       "16         1        cnt_challenge_a_friend     0.000310\n",
       "17         1                 cnt_ad_reward     0.000222"
      ]
     },
     "execution_count": 27,
     "metadata": {},
     "output_type": "execute_result"
    }
   ],
   "source": [
    "%%bigquery --project $PROJECT_ID\n",
    "\n",
    "SELECT\n",
    "  *\n",
    "FROM\n",
    "  ML.GLOBAL_EXPLAIN(MODEL bqmlga4.churn_xgb)\n",
    "ORDER BY\n",
    "  attribution DESC;"
   ]
  },
  {
   "cell_type": "markdown",
   "id": "b471e6ee",
   "metadata": {},
   "source": [
    "## Generate batch predictions"
   ]
  },
  {
   "cell_type": "markdown",
   "id": "ea8623c1",
   "metadata": {},
   "source": [
    "You can generate batch predictions for your BQML XGBoost model using [ML.PREDICT](https://cloud.google.com/bigquery-ml/docs/reference/standard-sql/bigqueryml-syntax-predict)."
   ]
  },
  {
   "cell_type": "code",
   "execution_count": 28,
   "id": "b117c407",
   "metadata": {
    "tags": []
   },
   "outputs": [
    {
     "data": {
      "application/vnd.jupyter.widget-view+json": {
       "model_id": "09b46a762ec54016bb161f078d0b5bc5",
       "version_major": 2,
       "version_minor": 0
      },
      "text/plain": [
       "Query is running:   0%|          |"
      ]
     },
     "metadata": {},
     "output_type": "display_data"
    },
    {
     "data": {
      "application/vnd.jupyter.widget-view+json": {
       "model_id": "9e5a0b487ff348a9b278f108d408fc90",
       "version_major": 2,
       "version_minor": 0
      },
      "text/plain": [
       "Downloading:   0%|          |"
      ]
     },
     "metadata": {},
     "output_type": "display_data"
    },
    {
     "data": {
      "text/html": [
       "<div>\n",
       "<style scoped>\n",
       "    .dataframe tbody tr th:only-of-type {\n",
       "        vertical-align: middle;\n",
       "    }\n",
       "\n",
       "    .dataframe tbody tr th {\n",
       "        vertical-align: top;\n",
       "    }\n",
       "\n",
       "    .dataframe thead th {\n",
       "        text-align: right;\n",
       "    }\n",
       "</style>\n",
       "<table border=\"1\" class=\"dataframe\">\n",
       "  <thead>\n",
       "    <tr style=\"text-align: right;\">\n",
       "      <th></th>\n",
       "      <th>trial_id</th>\n",
       "      <th>predicted_churned</th>\n",
       "      <th>predicted_churned_probs</th>\n",
       "      <th>user_pseudo_id</th>\n",
       "      <th>country</th>\n",
       "      <th>operating_system</th>\n",
       "      <th>language</th>\n",
       "      <th>cnt_user_engagement</th>\n",
       "      <th>cnt_level_start_quickplay</th>\n",
       "      <th>cnt_level_end_quickplay</th>\n",
       "      <th>...</th>\n",
       "      <th>cnt_ad_reward</th>\n",
       "      <th>cnt_challenge_a_friend</th>\n",
       "      <th>cnt_completed_5_levels</th>\n",
       "      <th>cnt_use_extra_steps</th>\n",
       "      <th>user_first_engagement</th>\n",
       "      <th>month</th>\n",
       "      <th>julianday</th>\n",
       "      <th>dayofweek</th>\n",
       "      <th>churned</th>\n",
       "      <th>data_split</th>\n",
       "    </tr>\n",
       "  </thead>\n",
       "  <tbody>\n",
       "    <tr>\n",
       "      <th>0</th>\n",
       "      <td>1</td>\n",
       "      <td>0</td>\n",
       "      <td>[{'label': 1, 'prob': 0.1895298808813095}, {'l...</td>\n",
       "      <td>83B2810298A42907030999DED800A7D4</td>\n",
       "      <td>United States</td>\n",
       "      <td>ANDROID</td>\n",
       "      <td>enXus</td>\n",
       "      <td>7</td>\n",
       "      <td>3</td>\n",
       "      <td>2</td>\n",
       "      <td>...</td>\n",
       "      <td>0</td>\n",
       "      <td>0</td>\n",
       "      <td>0</td>\n",
       "      <td>0</td>\n",
       "      <td>1530890579728005</td>\n",
       "      <td>7</td>\n",
       "      <td>187</td>\n",
       "      <td>6</td>\n",
       "      <td>0</td>\n",
       "      <td>TEST</td>\n",
       "    </tr>\n",
       "    <tr>\n",
       "      <th>1</th>\n",
       "      <td>1</td>\n",
       "      <td>0</td>\n",
       "      <td>[{'label': 1, 'prob': 0.1221715435385704}, {'l...</td>\n",
       "      <td>38C93052B6B68913A433591107F8662C</td>\n",
       "      <td>United States</td>\n",
       "      <td>ANDROID</td>\n",
       "      <td>enXus</td>\n",
       "      <td>3</td>\n",
       "      <td>0</td>\n",
       "      <td>1</td>\n",
       "      <td>...</td>\n",
       "      <td>0</td>\n",
       "      <td>0</td>\n",
       "      <td>0</td>\n",
       "      <td>0</td>\n",
       "      <td>1528816138936003</td>\n",
       "      <td>6</td>\n",
       "      <td>163</td>\n",
       "      <td>3</td>\n",
       "      <td>0</td>\n",
       "      <td>TEST</td>\n",
       "    </tr>\n",
       "    <tr>\n",
       "      <th>2</th>\n",
       "      <td>1</td>\n",
       "      <td>0</td>\n",
       "      <td>[{'label': 1, 'prob': 0.2966190576553345}, {'l...</td>\n",
       "      <td>13E6C8A193FF140F7D4222B569DD5B50</td>\n",
       "      <td>United States</td>\n",
       "      <td>IOS</td>\n",
       "      <td>enXus</td>\n",
       "      <td>25</td>\n",
       "      <td>6</td>\n",
       "      <td>4</td>\n",
       "      <td>...</td>\n",
       "      <td>0</td>\n",
       "      <td>0</td>\n",
       "      <td>0</td>\n",
       "      <td>0</td>\n",
       "      <td>1529404147112000</td>\n",
       "      <td>6</td>\n",
       "      <td>170</td>\n",
       "      <td>3</td>\n",
       "      <td>0</td>\n",
       "      <td>TEST</td>\n",
       "    </tr>\n",
       "    <tr>\n",
       "      <th>3</th>\n",
       "      <td>1</td>\n",
       "      <td>0</td>\n",
       "      <td>[{'label': 1, 'prob': 0.27149543166160583}, {'...</td>\n",
       "      <td>CF278B59BF230367A78A8B17905E53AC</td>\n",
       "      <td>United States</td>\n",
       "      <td>IOS</td>\n",
       "      <td>enXus</td>\n",
       "      <td>12</td>\n",
       "      <td>3</td>\n",
       "      <td>1</td>\n",
       "      <td>...</td>\n",
       "      <td>0</td>\n",
       "      <td>0</td>\n",
       "      <td>0</td>\n",
       "      <td>0</td>\n",
       "      <td>1530808531659002</td>\n",
       "      <td>7</td>\n",
       "      <td>186</td>\n",
       "      <td>5</td>\n",
       "      <td>0</td>\n",
       "      <td>TEST</td>\n",
       "    </tr>\n",
       "    <tr>\n",
       "      <th>4</th>\n",
       "      <td>1</td>\n",
       "      <td>0</td>\n",
       "      <td>[{'label': 1, 'prob': 0.24179989099502563}, {'...</td>\n",
       "      <td>7FD3ECDE609533E2BC60B7733DB6CFCB</td>\n",
       "      <td>United States</td>\n",
       "      <td>IOS</td>\n",
       "      <td>enXus</td>\n",
       "      <td>11</td>\n",
       "      <td>3</td>\n",
       "      <td>2</td>\n",
       "      <td>...</td>\n",
       "      <td>0</td>\n",
       "      <td>0</td>\n",
       "      <td>0</td>\n",
       "      <td>0</td>\n",
       "      <td>1532301471676011</td>\n",
       "      <td>7</td>\n",
       "      <td>203</td>\n",
       "      <td>1</td>\n",
       "      <td>0</td>\n",
       "      <td>TEST</td>\n",
       "    </tr>\n",
       "    <tr>\n",
       "      <th>...</th>\n",
       "      <td>...</td>\n",
       "      <td>...</td>\n",
       "      <td>...</td>\n",
       "      <td>...</td>\n",
       "      <td>...</td>\n",
       "      <td>...</td>\n",
       "      <td>...</td>\n",
       "      <td>...</td>\n",
       "      <td>...</td>\n",
       "      <td>...</td>\n",
       "      <td>...</td>\n",
       "      <td>...</td>\n",
       "      <td>...</td>\n",
       "      <td>...</td>\n",
       "      <td>...</td>\n",
       "      <td>...</td>\n",
       "      <td>...</td>\n",
       "      <td>...</td>\n",
       "      <td>...</td>\n",
       "      <td>...</td>\n",
       "      <td>...</td>\n",
       "    </tr>\n",
       "    <tr>\n",
       "      <th>794</th>\n",
       "      <td>1</td>\n",
       "      <td>0</td>\n",
       "      <td>[{'label': 1, 'prob': 0.48015138506889343}, {'...</td>\n",
       "      <td>F24BBD36208042C587CEEFBF6951AA2B</td>\n",
       "      <td>India</td>\n",
       "      <td>ANDROID</td>\n",
       "      <td>enXin</td>\n",
       "      <td>145</td>\n",
       "      <td>6</td>\n",
       "      <td>4</td>\n",
       "      <td>...</td>\n",
       "      <td>0</td>\n",
       "      <td>0</td>\n",
       "      <td>0</td>\n",
       "      <td>0</td>\n",
       "      <td>1536398066013001</td>\n",
       "      <td>9</td>\n",
       "      <td>251</td>\n",
       "      <td>7</td>\n",
       "      <td>1</td>\n",
       "      <td>TEST</td>\n",
       "    </tr>\n",
       "    <tr>\n",
       "      <th>795</th>\n",
       "      <td>1</td>\n",
       "      <td>0</td>\n",
       "      <td>[{'label': 1, 'prob': 0.39377346634864807}, {'...</td>\n",
       "      <td>AC59FCB1F4D1C6F2A2B982C501CCC221</td>\n",
       "      <td>United States</td>\n",
       "      <td>ANDROID</td>\n",
       "      <td>enXus</td>\n",
       "      <td>28</td>\n",
       "      <td>0</td>\n",
       "      <td>0</td>\n",
       "      <td>...</td>\n",
       "      <td>0</td>\n",
       "      <td>0</td>\n",
       "      <td>1</td>\n",
       "      <td>0</td>\n",
       "      <td>1529907290410005</td>\n",
       "      <td>6</td>\n",
       "      <td>176</td>\n",
       "      <td>2</td>\n",
       "      <td>0</td>\n",
       "      <td>TEST</td>\n",
       "    </tr>\n",
       "    <tr>\n",
       "      <th>796</th>\n",
       "      <td>1</td>\n",
       "      <td>0</td>\n",
       "      <td>[{'label': 1, 'prob': 0.15702775120735168}, {'...</td>\n",
       "      <td>1A0A3A600B84307B6FA941F525028CED</td>\n",
       "      <td>United States</td>\n",
       "      <td>IOS</td>\n",
       "      <td>enXus</td>\n",
       "      <td>3</td>\n",
       "      <td>1</td>\n",
       "      <td>1</td>\n",
       "      <td>...</td>\n",
       "      <td>0</td>\n",
       "      <td>0</td>\n",
       "      <td>0</td>\n",
       "      <td>0</td>\n",
       "      <td>1530199125053010</td>\n",
       "      <td>6</td>\n",
       "      <td>179</td>\n",
       "      <td>5</td>\n",
       "      <td>0</td>\n",
       "      <td>TEST</td>\n",
       "    </tr>\n",
       "    <tr>\n",
       "      <th>797</th>\n",
       "      <td>1</td>\n",
       "      <td>1</td>\n",
       "      <td>[{'label': 1, 'prob': 0.5255088806152344}, {'l...</td>\n",
       "      <td>159B9A0FF4C25FEC85D1207C157E2CEC</td>\n",
       "      <td>Mexico</td>\n",
       "      <td>IOS</td>\n",
       "      <td>enXmx</td>\n",
       "      <td>20</td>\n",
       "      <td>8</td>\n",
       "      <td>3</td>\n",
       "      <td>...</td>\n",
       "      <td>0</td>\n",
       "      <td>0</td>\n",
       "      <td>0</td>\n",
       "      <td>0</td>\n",
       "      <td>1536507985219000</td>\n",
       "      <td>9</td>\n",
       "      <td>252</td>\n",
       "      <td>1</td>\n",
       "      <td>0</td>\n",
       "      <td>TEST</td>\n",
       "    </tr>\n",
       "    <tr>\n",
       "      <th>798</th>\n",
       "      <td>1</td>\n",
       "      <td>0</td>\n",
       "      <td>[{'label': 1, 'prob': 0.4162016808986664}, {'l...</td>\n",
       "      <td>23A0C344855A5518973086DD8526DB21</td>\n",
       "      <td>United States</td>\n",
       "      <td>IOS</td>\n",
       "      <td>enXus</td>\n",
       "      <td>21</td>\n",
       "      <td>7</td>\n",
       "      <td>7</td>\n",
       "      <td>...</td>\n",
       "      <td>0</td>\n",
       "      <td>0</td>\n",
       "      <td>0</td>\n",
       "      <td>0</td>\n",
       "      <td>1536546270508000</td>\n",
       "      <td>9</td>\n",
       "      <td>253</td>\n",
       "      <td>2</td>\n",
       "      <td>1</td>\n",
       "      <td>TEST</td>\n",
       "    </tr>\n",
       "  </tbody>\n",
       "</table>\n",
       "<p>799 rows × 24 columns</p>\n",
       "</div>"
      ],
      "text/plain": [
       "     trial_id  predicted_churned  \\\n",
       "0           1                  0   \n",
       "1           1                  0   \n",
       "2           1                  0   \n",
       "3           1                  0   \n",
       "4           1                  0   \n",
       "..        ...                ...   \n",
       "794         1                  0   \n",
       "795         1                  0   \n",
       "796         1                  0   \n",
       "797         1                  1   \n",
       "798         1                  0   \n",
       "\n",
       "                               predicted_churned_probs  \\\n",
       "0    [{'label': 1, 'prob': 0.1895298808813095}, {'l...   \n",
       "1    [{'label': 1, 'prob': 0.1221715435385704}, {'l...   \n",
       "2    [{'label': 1, 'prob': 0.2966190576553345}, {'l...   \n",
       "3    [{'label': 1, 'prob': 0.27149543166160583}, {'...   \n",
       "4    [{'label': 1, 'prob': 0.24179989099502563}, {'...   \n",
       "..                                                 ...   \n",
       "794  [{'label': 1, 'prob': 0.48015138506889343}, {'...   \n",
       "795  [{'label': 1, 'prob': 0.39377346634864807}, {'...   \n",
       "796  [{'label': 1, 'prob': 0.15702775120735168}, {'...   \n",
       "797  [{'label': 1, 'prob': 0.5255088806152344}, {'l...   \n",
       "798  [{'label': 1, 'prob': 0.4162016808986664}, {'l...   \n",
       "\n",
       "                       user_pseudo_id        country operating_system  \\\n",
       "0    83B2810298A42907030999DED800A7D4  United States          ANDROID   \n",
       "1    38C93052B6B68913A433591107F8662C  United States          ANDROID   \n",
       "2    13E6C8A193FF140F7D4222B569DD5B50  United States              IOS   \n",
       "3    CF278B59BF230367A78A8B17905E53AC  United States              IOS   \n",
       "4    7FD3ECDE609533E2BC60B7733DB6CFCB  United States              IOS   \n",
       "..                                ...            ...              ...   \n",
       "794  F24BBD36208042C587CEEFBF6951AA2B          India          ANDROID   \n",
       "795  AC59FCB1F4D1C6F2A2B982C501CCC221  United States          ANDROID   \n",
       "796  1A0A3A600B84307B6FA941F525028CED  United States              IOS   \n",
       "797  159B9A0FF4C25FEC85D1207C157E2CEC         Mexico              IOS   \n",
       "798  23A0C344855A5518973086DD8526DB21  United States              IOS   \n",
       "\n",
       "    language  cnt_user_engagement  cnt_level_start_quickplay  \\\n",
       "0      enXus                    7                          3   \n",
       "1      enXus                    3                          0   \n",
       "2      enXus                   25                          6   \n",
       "3      enXus                   12                          3   \n",
       "4      enXus                   11                          3   \n",
       "..       ...                  ...                        ...   \n",
       "794    enXin                  145                          6   \n",
       "795    enXus                   28                          0   \n",
       "796    enXus                    3                          1   \n",
       "797    enXmx                   20                          8   \n",
       "798    enXus                   21                          7   \n",
       "\n",
       "     cnt_level_end_quickplay  ...  cnt_ad_reward  cnt_challenge_a_friend  \\\n",
       "0                          2  ...              0                       0   \n",
       "1                          1  ...              0                       0   \n",
       "2                          4  ...              0                       0   \n",
       "3                          1  ...              0                       0   \n",
       "4                          2  ...              0                       0   \n",
       "..                       ...  ...            ...                     ...   \n",
       "794                        4  ...              0                       0   \n",
       "795                        0  ...              0                       0   \n",
       "796                        1  ...              0                       0   \n",
       "797                        3  ...              0                       0   \n",
       "798                        7  ...              0                       0   \n",
       "\n",
       "     cnt_completed_5_levels  cnt_use_extra_steps  user_first_engagement  \\\n",
       "0                         0                    0       1530890579728005   \n",
       "1                         0                    0       1528816138936003   \n",
       "2                         0                    0       1529404147112000   \n",
       "3                         0                    0       1530808531659002   \n",
       "4                         0                    0       1532301471676011   \n",
       "..                      ...                  ...                    ...   \n",
       "794                       0                    0       1536398066013001   \n",
       "795                       1                    0       1529907290410005   \n",
       "796                       0                    0       1530199125053010   \n",
       "797                       0                    0       1536507985219000   \n",
       "798                       0                    0       1536546270508000   \n",
       "\n",
       "     month  julianday  dayofweek  churned  data_split  \n",
       "0        7        187          6        0        TEST  \n",
       "1        6        163          3        0        TEST  \n",
       "2        6        170          3        0        TEST  \n",
       "3        7        186          5        0        TEST  \n",
       "4        7        203          1        0        TEST  \n",
       "..     ...        ...        ...      ...         ...  \n",
       "794      9        251          7        1        TEST  \n",
       "795      6        176          2        0        TEST  \n",
       "796      6        179          5        0        TEST  \n",
       "797      9        252          1        0        TEST  \n",
       "798      9        253          2        1        TEST  \n",
       "\n",
       "[799 rows x 24 columns]"
      ]
     },
     "execution_count": 28,
     "metadata": {},
     "output_type": "execute_result"
    }
   ],
   "source": [
    "%%bigquery --project $PROJECT_ID\n",
    "\n",
    "SELECT\n",
    "  *\n",
    "FROM\n",
    "  ML.PREDICT(MODEL bqmlga4.churn_xgb,\n",
    "  (SELECT * FROM bqmlga4.ml_features WHERE data_split = \"TEST\"))"
   ]
  },
  {
   "cell_type": "markdown",
   "id": "32dac74c",
   "metadata": {},
   "source": [
    "The following query returns the probability that the user will return after 24 hrs. The higher the probability and closer it is to 1, the more likely the user is predicted to churn, and the closer it is to 0, the more likely the user is predicted to return."
   ]
  },
  {
   "cell_type": "code",
   "execution_count": 29,
   "id": "f7411bff",
   "metadata": {
    "tags": []
   },
   "outputs": [
    {
     "data": {
      "application/vnd.jupyter.widget-view+json": {
       "model_id": "c38f400e34194f32b8eb3ef930f6fdcd",
       "version_major": 2,
       "version_minor": 0
      },
      "text/plain": [
       "Query is running:   0%|          |"
      ]
     },
     "metadata": {},
     "output_type": "display_data"
    },
    {
     "data": {
      "text/html": [
       "<div>\n",
       "<style scoped>\n",
       "    .dataframe tbody tr th:only-of-type {\n",
       "        vertical-align: middle;\n",
       "    }\n",
       "\n",
       "    .dataframe tbody tr th {\n",
       "        vertical-align: top;\n",
       "    }\n",
       "\n",
       "    .dataframe thead th {\n",
       "        text-align: right;\n",
       "    }\n",
       "</style>\n",
       "<table border=\"1\" class=\"dataframe\">\n",
       "  <thead>\n",
       "    <tr style=\"text-align: right;\">\n",
       "      <th></th>\n",
       "    </tr>\n",
       "  </thead>\n",
       "  <tbody>\n",
       "  </tbody>\n",
       "</table>\n",
       "</div>"
      ],
      "text/plain": [
       "Empty DataFrame\n",
       "Columns: []\n",
       "Index: []"
      ]
     },
     "execution_count": 29,
     "metadata": {},
     "output_type": "execute_result"
    }
   ],
   "source": [
    "%%bigquery --project $PROJECT_ID\n",
    "\n",
    "CREATE OR REPLACE TABLE bqmlga4.churn_predictions AS (\n",
    "SELECT\n",
    "  user_pseudo_id,\n",
    "  churned,\n",
    "  predicted_churned,\n",
    "  predicted_churned_probs[OFFSET(0)].prob as probability_churned\n",
    "FROM\n",
    "  ML.PREDICT(MODEL bqmlga4.churn_xgb,\n",
    "  (SELECT * FROM bqmlga4.ml_features))\n",
    ");"
   ]
  },
  {
   "cell_type": "markdown",
   "id": "1c037410",
   "metadata": {},
   "source": [
    "## Export a BQML model to Vertex AI for online predictions"
   ]
  },
  {
   "cell_type": "markdown",
   "id": "a36d9005",
   "metadata": {},
   "source": [
    "See the official BigQuery ML Guide: [Exporting a BigQuery ML model for online prediction](https://cloud.google.com/bigquery-ml/docs/export-model-tutorial) for additional details."
   ]
  },
  {
   "cell_type": "markdown",
   "id": "6593da8c",
   "metadata": {},
   "source": [
    "### Export BQML model to GCS"
   ]
  },
  {
   "cell_type": "markdown",
   "id": "4dfedfdd",
   "metadata": {},
   "source": [
    "You will use the `bq extract` command in the `bq` command-line tool to export your BQML XGBoost model assets to Google Cloud Storage for persistence. See the [documentation](https://cloud.google.com/bigquery-ml/docs/exporting-models) for additional model export options."
   ]
  },
  {
   "cell_type": "code",
   "execution_count": 30,
   "id": "94f50a47",
   "metadata": {
    "tags": []
   },
   "outputs": [],
   "source": [
    "BQ_MODEL = f\"{BQ_DATASET}.{MODEL_NAME}\"\n",
    "BQ_MODEL_EXPORT_DIR = f\"gs://{GCS_BUCKET}/{MODEL_NAME}\""
   ]
  },
  {
   "cell_type": "code",
   "execution_count": 31,
   "id": "ee61430a",
   "metadata": {
    "tags": []
   },
   "outputs": [
    {
     "name": "stdout",
     "output_type": "stream",
     "text": [
      "Waiting on bqjob_r7223c3ac4de10238_0000019734a290b8_1 ... (2s) Current status: DONE   \n"
     ]
    }
   ],
   "source": [
    "!bq --location=$BQ_LOCATION extract \\\n",
    "--destination_format ML_XGBOOST_BOOSTER \\\n",
    "--model $BQ_MODEL \\\n",
    "$BQ_MODEL_EXPORT_DIR"
   ]
  },
  {
   "cell_type": "markdown",
   "id": "4f336458",
   "metadata": {},
   "source": [
    "Navigate to [Google Cloud Storage](https://pantheon.corp.google.com/storage) in Google Cloud Console to `\"gs://{GCS_BUCKET}/{MODEL_NAME}\"`. Validate that you see your exported model assets in the below format:\n",
    "\n",
    "```\n",
    "|--/{GCS_BUCKET}/{MODEL_NAME}/\n",
    "   |--/assets/                       # Contains preprocessing code.  \n",
    "      |--0_categorical_label.txt     # Contains country vocabulary.\n",
    "      |--1_categorical_label.txt     # Contains operating_system vocabulary.\n",
    "      |--2_categorical_label.txt     # Contains language vocabulary.\n",
    "      |--model_metadata.json         # contains model feature and label mappings.\n",
    "   |--main.py                        # Can be called for local training runs.\n",
    "   |--model.bst                      # XGBoost saved model format.\n",
    "   |--xgboost_predictor-0.1.tar.gz   # Compress XGBoost model with prediction function. \n",
    "```"
   ]
  },
  {
   "cell_type": "markdown",
   "id": "71122b86",
   "metadata": {},
   "source": [
    "### Upload BQML model to Vertex AI from GCS"
   ]
  },
  {
   "cell_type": "markdown",
   "id": "dc20e5e7",
   "metadata": {},
   "source": [
    "Vertex AI contains optimized pre-built training and prediction containers for popular ML frameworks such as TensorFlow, Pytorch, as well as XGBoost. You will upload your XGBoost from GCS to Vertex AI and provide the [latest pre-built Vertex XGBoost prediction container](https://cloud.google.com/vertex-ai/docs/predictions/pre-built-containers) to execute your model code to generate predictions in the cells below."
   ]
  },
  {
   "cell_type": "code",
   "execution_count": 32,
   "id": "c86cd67e",
   "metadata": {
    "tags": []
   },
   "outputs": [],
   "source": [
    "IMAGE_URI='us-docker.pkg.dev/vertex-ai/prediction/xgboost-cpu.1-4:latest'"
   ]
  },
  {
   "cell_type": "code",
   "execution_count": 33,
   "id": "e3278567",
   "metadata": {
    "tags": []
   },
   "outputs": [
    {
     "name": "stdout",
     "output_type": "stream",
     "text": [
      "Creating Model\n",
      "Create Model backing LRO: projects/705278946604/locations/us-central1/models/7795206487931879424/operations/4712477527791108096\n",
      "Model created. Resource name: projects/705278946604/locations/us-central1/models/7795206487931879424@1\n",
      "To use this Model in another session:\n",
      "model = aiplatform.Model('projects/705278946604/locations/us-central1/models/7795206487931879424@1')\n"
     ]
    }
   ],
   "source": [
    "model = vertexai.Model.upload(\n",
    "    display_name=MODEL_NAME,\n",
    "    artifact_uri=BQ_MODEL_EXPORT_DIR,\n",
    "    serving_container_image_uri=IMAGE_URI,\n",
    ")"
   ]
  },
  {
   "cell_type": "markdown",
   "id": "0874197c",
   "metadata": {},
   "source": [
    "### Deploy a Vertex `Endpoint` for online predictions"
   ]
  },
  {
   "cell_type": "markdown",
   "id": "1410ebc6",
   "metadata": {},
   "source": [
    "Before you use your model to make predictions, you need to deploy it to an `Endpoint` object. When you deploy a model to an `Endpoint`, you associate physical (machine) resources with that model to enable it to serve online predictions. Online predictions have low latency requirements; providing resources to the model in advance reduces latency. You can do this by calling the deploy function on the `Model` resource. This will do two things:\n",
    "\n",
    "1. Create an `Endpoint` resource for deploying the `Model` resource to.\n",
    "2. Deploy the `Model` resource to the `Endpoint` resource.\n",
    "\n",
    "The `deploy()` function takes the following parameters:\n",
    "\n",
    "* `deployed_model_display_name`: A human readable name for the deployed model.\n",
    "* `traffic_split`: Percent of traffic at the endpoint that goes to this model, which is specified as a dictionary of one or more key/value pairs. If only one model, then specify as { \"0\": 100 }, where \"0\" refers to this model being uploaded and 100 means 100% of the traffic.\n",
    "* `machine_type`: The type of machine to use for training.\n",
    "* `accelerator_type`: The hardware accelerator type.\n",
    "* `accelerator_count`: The number of accelerators to attach to a worker replica.\n",
    "* `starting_replica_count`: The number of compute instances to initially provision.\n",
    "* `max_replica_count`: The maximum number of compute instances to scale to. In this lab, only one instance is provisioned.\n",
    "* `explanation_parameters`: Metadata to configure the Explainable AI learning method.\n",
    "* `explanation_metadata`: Metadata that describes your TensorFlow model for Explainable AI such as features, input and output tensors.\n",
    "\n",
    "Note: this can take about 3-5 minutes to provision prediction resources for your model."
   ]
  },
  {
   "cell_type": "code",
   "execution_count": 34,
   "id": "df5368fb",
   "metadata": {
    "tags": []
   },
   "outputs": [
    {
     "name": "stdout",
     "output_type": "stream",
     "text": [
      "Creating Endpoint\n",
      "Create Endpoint backing LRO: projects/705278946604/locations/us-central1/endpoints/5739640912502325248/operations/3829772000826490880\n",
      "Endpoint created. Resource name: projects/705278946604/locations/us-central1/endpoints/5739640912502325248\n",
      "To use this Endpoint in another session:\n",
      "endpoint = aiplatform.Endpoint('projects/705278946604/locations/us-central1/endpoints/5739640912502325248')\n",
      "Deploying model to Endpoint : projects/705278946604/locations/us-central1/endpoints/5739640912502325248\n",
      "Deploy Endpoint model backing LRO: projects/705278946604/locations/us-central1/endpoints/5739640912502325248/operations/2872757080010260480\n",
      "Endpoint model deployed. Resource name: projects/705278946604/locations/us-central1/endpoints/5739640912502325248\n"
     ]
    }
   ],
   "source": [
    "endpoint = model.deploy(\n",
    "    traffic_split={\"0\": 100},\n",
    "    machine_type=\"e2-standard-2\",\n",
    ")"
   ]
  },
  {
   "cell_type": "markdown",
   "id": "cc8448a1",
   "metadata": {},
   "source": [
    "### Query model for online predictions"
   ]
  },
  {
   "cell_type": "markdown",
   "id": "0b67ca13",
   "metadata": {},
   "source": [
    "XGBoost only takes numerical feature inputs. When you trained your BQML model above with CREATE MODEL statement, it automatically handled encoding of categorical features such as user `country`, `operating system`, and `language` into numeric representations. In order for our exported model to generate online predictions, you will use the categorical feature vocabulary files exported under the `assets/` folder of your model directory and the Scikit-Learn preprocessing code below to map your test instances to numeric values."
   ]
  },
  {
   "cell_type": "code",
   "execution_count": 35,
   "id": "6b647538",
   "metadata": {
    "tags": []
   },
   "outputs": [],
   "source": [
    "CATEGORICAL_FEATURES = ['country',\n",
    "                        'operating_system',\n",
    "                        'language']"
   ]
  },
  {
   "cell_type": "code",
   "execution_count": 36,
   "id": "18bb0e82",
   "metadata": {
    "tags": []
   },
   "outputs": [],
   "source": [
    "from sklearn.preprocessing import OrdinalEncoder"
   ]
  },
  {
   "cell_type": "code",
   "execution_count": 37,
   "id": "350c5727",
   "metadata": {
    "tags": []
   },
   "outputs": [],
   "source": [
    "def _build_cat_feature_encoders(cat_feature_list, gcs_bucket, model_name, na_value='Unknown'):\n",
    "    \"\"\"Build categorical feature encoders for mapping text to integers for XGBoost inference. \n",
    "    Args:\n",
    "      cat_feature_list (list): List of string feature names.\n",
    "      gcs_bucket (str): A string path to your Google Cloud Storage bucket.\n",
    "      model_name (str): A string model directory in GCS where your BQML model was exported to.\n",
    "      na_value (str): default is 'Unknown'. String value to replace any vocab NaN values prior to encoding.\n",
    "    Returns:\n",
    "      feature_encoders (dict): A dictionary containing OrdinalEncoder objects for integerizing \n",
    "        categorical features that has the format [feature] = feature encoder.\n",
    "    \"\"\"\n",
    "    \n",
    "    feature_encoders = {}\n",
    "    \n",
    "    for idx, feature in enumerate(cat_feature_list):\n",
    "        feature_encoder = OrdinalEncoder(handle_unknown=\"use_encoded_value\", unknown_value=-1)\n",
    "        feature_vocab_file = f\"gs://{gcs_bucket}/{model_name}/assets/{idx}_categorical_label.txt\"\n",
    "        feature_vocab_df = pd.read_csv(feature_vocab_file, delimiter = \"\\t\", header=None).fillna(na_value)\n",
    "        feature_encoder.fit(feature_vocab_df.values)\n",
    "        feature_encoders[feature] = feature_encoder\n",
    "    \n",
    "    return feature_encoders"
   ]
  },
  {
   "cell_type": "code",
   "execution_count": 38,
   "id": "809875a4",
   "metadata": {
    "tags": []
   },
   "outputs": [],
   "source": [
    "def preprocess_xgboost(instances, cat_feature_list, feature_encoders):\n",
    "    \"\"\"Transform instances to numerical values for inference.\n",
    "    Args:\n",
    "      instances (list[dict]): A list of feature dictionaries with the format feature: value. \n",
    "      cat_feature_list (list): A list of string feature names.\n",
    "      feature_encoders (dict): A dictionary with the format feature: feature_encoder.\n",
    "    Returns:\n",
    "      transformed_instances (list[list]): A list of lists containing numerical feature values needed\n",
    "        for Vertex XGBoost inference.\n",
    "    \"\"\"\n",
    "    transformed_instances = []\n",
    "    \n",
    "    for instance in instances:\n",
    "        for feature in cat_feature_list:\n",
    "            feature_int = feature_encoders[feature].transform([[instance[feature]]]).item()\n",
    "            instance[feature] = feature_int\n",
    "            instance_list = list(instance.values())\n",
    "        transformed_instances.append(instance_list)\n",
    "\n",
    "    return transformed_instances"
   ]
  },
  {
   "cell_type": "code",
   "execution_count": 39,
   "id": "eae41101",
   "metadata": {
    "tags": []
   },
   "outputs": [],
   "source": [
    "# Build a dictionary of ordinal categorical feature encoders.\n",
    "feature_encoders = _build_cat_feature_encoders(CATEGORICAL_FEATURES, GCS_BUCKET, MODEL_NAME)"
   ]
  },
  {
   "cell_type": "code",
   "execution_count": 40,
   "id": "201f0aa9",
   "metadata": {
    "tags": []
   },
   "outputs": [
    {
     "data": {
      "application/vnd.jupyter.widget-view+json": {
       "model_id": "d86477a453e84e4e8d83e4984575acb6",
       "version_major": 2,
       "version_minor": 0
      },
      "text/plain": [
       "Query is running:   0%|          |"
      ]
     },
     "metadata": {},
     "output_type": "display_data"
    },
    {
     "data": {
      "application/vnd.jupyter.widget-view+json": {
       "model_id": "716c07978223438fb3855bf74c0ac655",
       "version_major": 2,
       "version_minor": 0
      },
      "text/plain": [
       "Downloading:   0%|          |"
      ]
     },
     "metadata": {},
     "output_type": "display_data"
    }
   ],
   "source": [
    "%%bigquery test_df --project $PROJECT_ID \n",
    "\n",
    "SELECT* EXCEPT (user_pseudo_id, churned, data_split)\n",
    "FROM bqmlga4.ml_features\n",
    "WHERE data_split=\"TEST\"\n",
    "LIMIT 3;"
   ]
  },
  {
   "cell_type": "code",
   "execution_count": 41,
   "id": "d397bc03",
   "metadata": {
    "tags": []
   },
   "outputs": [],
   "source": [
    "# Convert dataframe records to feature dictionaries for preprocessing by feature name.\n",
    "test_instances = test_df.astype(str).to_dict(orient='records')"
   ]
  },
  {
   "cell_type": "code",
   "execution_count": 42,
   "id": "e19ade61",
   "metadata": {
    "tags": []
   },
   "outputs": [],
   "source": [
    "# Apply preprocessing to transform categorical features and return numerical instances for prediction.\n",
    "transformed_test_instances = preprocess_xgboost(test_instances, CATEGORICAL_FEATURES, feature_encoders)"
   ]
  },
  {
   "cell_type": "code",
   "execution_count": 43,
   "id": "873c0db2",
   "metadata": {
    "tags": []
   },
   "outputs": [],
   "source": [
    "# Generate predictions from model deployed to Vertex AI Endpoint.\n",
    "predictions = endpoint.predict(instances=transformed_test_instances)"
   ]
  },
  {
   "cell_type": "code",
   "execution_count": null,
   "id": "a3a08430",
   "metadata": {},
   "outputs": [],
   "source": [
    "for idx, prediction in enumerate(predictions.predictions):\n",
    "    # Class labels [1,0] retrieved from model_metadata.json in GCS model dir.\n",
    "    # BQML binary classification default is 0.5 with above \"Churn\" and below \"Not Churn\".\n",
    "    is_churned = \"Churn\" if prediction[0] >= 0.5 else \"Not Churn\"\n",
    "    print(f\"Prediction: Customer {idx} - {is_churned} {prediction}\")\n",
    "    print(test_df.iloc[idx].astype(str).to_json() + \"\\n\")"
   ]
  },
  {
   "cell_type": "markdown",
   "id": "d7a4e13f",
   "metadata": {},
   "source": [
    "## Next steps"
   ]
  },
  {
   "cell_type": "markdown",
   "id": "0f0d1f2c",
   "metadata": {},
   "source": [
    "Congratulations! In this lab, you trained, tuned, explained, and deployed a BigQuery ML user churn model to generate high business impact batch and online churn predictions to target customers likely to churn with interventions such as in-game rewards and reminder notifications.\n",
    "\n",
    "In this lab, you used `user_psuedo_id` as a user identifier. As next steps, you can extend this code further by having your application return a `user_id` to Google Analytics so you can join your model's predictions with additional first-party data such as purchase history and marketing engagement data. This enables you to integrate batch predictions into Looker dashboards to help product teams prioritize user experience improvements and marketing teams create targeted user interventions such as reminder emails to improve retention. \n",
    "\n",
    "Through having your model in Vertex AI Prediction, you also have a scalable prediction service to call from your application to directly integrate online predictions in order to to tailor personalized user game experiences and allow for targeted habit-building notifications.\n",
    "\n",
    "As you collect more data from your users, you may want to regularly evaluate your model on fresh data and re-train the model if you notice that the model quality is decaying. [Vertex Pipelines](https://cloud.google.com/vertex-ai/docs/pipelines/introduction) can help you to automate, monitor, and govern your ML solutions by orchestrating your BQML workflow in a serverless manner, and storing your workflow's artifacts using [Vertex ML Metadata](https://cloud.google.com/vertex-ai/docs/ml-metadata/introduction). For another alternative for continuous BQML models, checkout the blog post [Continuous model evaluation with BigQuery ML, Stored Procedures, and Cloud Scheduler](https://cloud.google.com/blog/topics/developers-practitioners/continuous-model-evaluation-bigquery-ml-stored-procedures-and-cloud-scheduler).\n",
    "\n"
   ]
  },
  {
   "cell_type": "markdown",
   "id": "a04b58a0",
   "metadata": {},
   "source": [
    "## License"
   ]
  },
  {
   "cell_type": "code",
   "execution_count": null,
   "id": "1593ed77",
   "metadata": {},
   "outputs": [],
   "source": [
    "# Copyright 2021 Google LLC\n",
    "#\n",
    "# Licensed under the Apache License, Version 2.0 (the \"License\");\n",
    "# you may not use this file except in compliance with the License.\n",
    "# You may obtain a copy of the License at\n",
    "#\n",
    "#     https://www.apache.org/licenses/LICENSE-2.0\n",
    "#\n",
    "# Unless required by applicable law or agreed to in writing, software\n",
    "# distributed under the License is distributed on an \"AS IS\" BASIS,\n",
    "# WITHOUT WARRANTIES OR CONDITIONS OF ANY KIND, either express or implied.\n",
    "# See the License for the specific language governing permissions and\n",
    "# limitations under the License."
   ]
  }
 ],
 "metadata": {
  "environment": {
   "kernel": "conda-base-py",
   "name": "workbench-notebooks.m129",
   "type": "gcloud",
   "uri": "us-docker.pkg.dev/deeplearning-platform-release/gcr.io/workbench-notebooks:m129"
  },
  "kernelspec": {
   "display_name": "Python 3 (ipykernel) (Local) (Local)",
   "language": "python",
   "name": "conda-base-py"
  },
  "language_info": {
   "codemirror_mode": {
    "name": "ipython",
    "version": 3
   },
   "file_extension": ".py",
   "mimetype": "text/x-python",
   "name": "python",
   "nbconvert_exporter": "python",
   "pygments_lexer": "ipython3",
   "version": "3.10.16"
  }
 },
 "nbformat": 4,
 "nbformat_minor": 5
}
